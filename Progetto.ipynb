{
 "cells": [
  {
   "cell_type": "code",
   "execution_count": 1,
   "metadata": {
    "id": "WGcpU4UD0HzN",
    "outputId": "98308300-43d4-407b-fb4a-97e4b4632752"
   },
   "outputs": [
    {
     "name": "stdout",
     "output_type": "stream",
     "text": [
      "imported completed!\n"
     ]
    }
   ],
   "source": [
    "import pandas as pd\n",
    "import numpy as np\n",
    "import scipy as sp\n",
    "import os\n",
    "import json\n",
    "import pprint\n",
    "from IPython.core.display import display\n",
    "%matplotlib inline\n",
    "import tweepy\n",
    "import networkx as nx\n",
    "import random\n",
    "from pyvis.network import Network\n",
    "from functions_file import *\n",
    "import matplotlib.pyplot as plt\n",
    "from pylab import rcParams\n",
    "from networkx.algorithms.approximation import clique\n",
    "from scipy import stats\n",
    "data_folder = \"data\"\n",
    "print(\"imported completed!\")"
   ]
  },
  {
   "cell_type": "code",
   "execution_count": 10,
   "metadata": {
    "id": "0JMt8Isd0HzX",
    "pycharm": {
     "name": "#%% Twitter API credentials\n"
    }
   },
   "outputs": [],
   "source": [
    "consumer_key = \"GvDHFIS3fpCfZR2hwEGhE5oCZ\"\n",
    "consumer_secret = \"LCwgUZgFOjJppd4jg6Cf4mgohUTc6Ro7Yaals87LdNLmS3d9zB\"\n",
    "access_token = \"810960428385890304-aVlOFR9EExKdDPZCsh5EDN5Nm9SUmb9\"\n",
    "access_secret = \"XJkr9dKABPkSvRIgpyQeNapg2o6ldP4VoNbTids9QXGWT\"\n",
    "bearer_token = \"AAAAAAAAAAAAAAAAAAAAAA8UJQEAAAAAOD26yUUUPHF9zeAe56TtzGYUK8Q%3DRh6u9TAI7T7b5TJABTBOP5WwWSL0Cbvv5a6JJwg8MursyOOt9L\""
   ]
  },
  {
   "cell_type": "code",
   "execution_count": 11,
   "metadata": {
    "id": "ZTpnKt1M0Hzc",
    "outputId": "a0781e12-8ee8-4e8a-d514-9e4c1da90edf",
    "pycharm": {
     "name": "#%% autentication\n"
    }
   },
   "outputs": [
    {
     "name": "stdout",
     "output_type": "stream",
     "text": [
      "Authentication completed successfully!\n"
     ]
    }
   ],
   "source": [
    "auth = tweepy.OAuthHandler(consumer_key, consumer_secret)\n",
    "auth.set_access_token(access_token, access_secret)\n",
    "api = tweepy.API(auth, wait_on_rate_limit = True, wait_on_rate_limit_notify = True)\n",
    "if api.verify_credentials :\n",
    "  print ('Authentication completed successfully!')"
   ]
  },
  {
   "cell_type": "code",
   "execution_count": 56,
   "metadata": {
    "collapsed": false,
    "jupyter": {
     "outputs_hidden": false
    },
    "pycharm": {
     "name": "#%% definisco gli utenti\n"
    }
   },
   "outputs": [],
   "source": [
    "users = [\"lucabazzetto\",\"Tomve99\"]\n",
    "usersId = Functions.usersID(users,api)"
   ]
  },
  {
   "cell_type": "code",
   "execution_count": 57,
   "metadata": {
    "id": "p3pnXKMB0Hzm",
    "outputId": "6f0ca181-ed5c-4259-c0a6-968fb2b2a824",
    "pycharm": {
     "name": "#%% punto 1 follower\n"
    }
   },
   "outputs": [
    {
     "name": "stdout",
     "output_type": "stream",
     "text": [
      "Data serialized to path: data/followersLucaThomas.json\n"
     ]
    }
   ],
   "source": [
    "quantity = 4\n",
    "followers = {}\n",
    "for idUser in usersId:\n",
    "    followers[idUser] = Functions.download_followers(idUser, quantity,api)\n",
    "Functions.serialize_json(data_folder,\"followersLucaThomas.json\", followers)"
   ]
  },
  {
   "cell_type": "code",
   "execution_count": 58,
   "metadata": {
    "id": "tM9Q6JJS0Hzq",
    "outputId": "936cb8ca-2166-411a-e2f5-ed43c72c7331",
    "pycharm": {
     "name": "#%% punto 2 friends\n"
    }
   },
   "outputs": [
    {
     "name": "stdout",
     "output_type": "stream",
     "text": [
      "Data serialized to path: data/friendsLucaThomas.json\n"
     ]
    }
   ],
   "source": [
    "quantity = 4\n",
    "friends = {}\n",
    "for idUser in usersId:\n",
    "    friends[idUser] = Functions.download_following(idUser, quantity,api)\n",
    "Functions.serialize_json(data_folder,\"friendsLucaThomas.json\", friends)"
   ]
  },
  {
   "cell_type": "code",
   "execution_count": 61,
   "metadata": {
    "id": "QoXXBGlb0Hzu",
    "outputId": "191eb350-4830-49a0-df0c-b19015ffd9c7",
    "pycharm": {
     "name": "#%% punto 2\n"
    }
   },
   "outputs": [
    {
     "name": "stdout",
     "output_type": "stream",
     "text": [
      "Data read fron path: data/followersLucaThomas.json\n",
      "Data serialized to path: data/followersOfFollowers.json\n"
     ]
    }
   ],
   "source": [
    "followersALL = Functions.read_json(f\"{data_folder}/followersLucaThomas.json\")\n",
    "fiveFollowers = []\n",
    "# Estraggo per ogni utente 5 followers\n",
    "quantity = 1\n",
    "for user in followersALL:\n",
    "    fiveFollowers.extend(Functions.random_json_with_control(followersALL[user], quantity, fiveFollowers))\n",
    "\n",
    "quantity = 2\n",
    "followersOfFollowers = {}\n",
    "for idUser in fiveFollowers:\n",
    "    followersOfFollowers[idUser] = Functions.download_followers(idUser, quantity,api)\n",
    "\n",
    "Functions.serialize_json(data_folder,\"followersOfFollowers.json\", followersOfFollowers)"
   ]
  },
  {
   "cell_type": "code",
   "execution_count": 62,
   "metadata": {
    "id": "7qIqh9P00Hzx",
    "outputId": "3981d93b-12b7-4175-ffbc-09f3369e6756",
    "pycharm": {
     "name": "#%% punto 3\n"
    }
   },
   "outputs": [
    {
     "name": "stdout",
     "output_type": "stream",
     "text": [
      "Data read fron path: data/friendsLucaThomas.json\n",
      "Data serialized to path: data/friendsOfFriends.json\n"
     ]
    }
   ],
   "source": [
    "friendsALL = Functions.read_json(f\"{data_folder}/friendsLucaThomas.json\")\n",
    "fiveFriends = []\n",
    "# Estraggo per ogni utente 5 followers\n",
    "quantity = 1\n",
    "for user in friendsALL:\n",
    "    fiveFriends.extend(Functions.random_json_with_control(friendsALL[user], quantity, fiveFriends))\n",
    "\n",
    "quantity = 2\n",
    "friendsOfFriends = {}\n",
    "for idUser in fiveFriends:\n",
    "    friendsOfFriends[idUser] = Functions.download_following(idUser,quantity,api)\n",
    "Functions.serialize_json(data_folder,\"friendsOfFriends.json\", friendsOfFriends)"
   ]
  },
  {
   "cell_type": "code",
   "execution_count": 9,
   "metadata": {
    "id": "mSUmvjOw0Hz1",
    "outputId": "035d4a27-db73-4904-e38b-ee759e5a3283",
    "pycharm": {
     "name": "#%% eliminazione duplicati\n"
    }
   },
   "outputs": [
    {
     "name": "stdout",
     "output_type": "stream",
     "text": [
      "Data read fron path: data/friendsOfFriends.json\n",
      "Data read fron path: data/followersOfFollowers.json\n",
      "Data read fron path: data/followersLucaThomas.json\n",
      "Data read fron path: data/friendsLucaThomas.json\n",
      "Data serialized to path: data/noDuplicati.json\n"
     ]
    }
   ],
   "source": [
    "file_names = [\n",
    "    f\"{data_folder}/followersOfFollowers.json\",\n",
    "    f\"{data_folder}/friendsOfFriends.json\",\n",
    "    f\"{data_folder}/friendsLucaThomas.json\",\n",
    "    f\"{data_folder}/followersLucaThomas.json\"\n",
    "]\n",
    "#creo vettore con tutti gli id degli utenti senza duplicazione\n",
    "vector =  Functions.deleteDuplicates(Functions.json_items_to_dict(file_names))\n",
    "\n",
    "Functions.serialize_json(data_folder,\"noDuplicati.json\", vector)"
   ]
  },
  {
   "cell_type": "code",
   "execution_count": 4,
   "metadata": {
    "collapsed": false,
    "jupyter": {
     "outputs_hidden": false
    },
    "pycharm": {
     "name": "#%% scarico dettagli di tutti gli utenti\n"
    }
   },
   "outputs": [
    {
     "name": "stdout",
     "output_type": "stream",
     "text": [
      "Data read fron path: data/noDuplicati.json\n"
     ]
    },
    {
     "data": {
      "text/html": [
       "<div>\n",
       "<style scoped>\n",
       "    .dataframe tbody tr th:only-of-type {\n",
       "        vertical-align: middle;\n",
       "    }\n",
       "\n",
       "    .dataframe tbody tr th {\n",
       "        vertical-align: top;\n",
       "    }\n",
       "\n",
       "    .dataframe thead th {\n",
       "        text-align: right;\n",
       "    }\n",
       "</style>\n",
       "<table border=\"1\" class=\"dataframe\">\n",
       "  <thead>\n",
       "    <tr style=\"text-align: right;\">\n",
       "      <th></th>\n",
       "      <th>id</th>\n",
       "      <th>name</th>\n",
       "      <th>screen_name</th>\n",
       "      <th>location</th>\n",
       "      <th>followers_count</th>\n",
       "      <th>friends_count</th>\n",
       "    </tr>\n",
       "  </thead>\n",
       "  <tbody>\n",
       "    <tr>\n",
       "      <th>0</th>\n",
       "      <td>1252717049287237632</td>\n",
       "      <td>Ciccio Feltri</td>\n",
       "      <td>ciccio_feltri</td>\n",
       "      <td></td>\n",
       "      <td>7</td>\n",
       "      <td>15</td>\n",
       "    </tr>\n",
       "    <tr>\n",
       "      <th>1</th>\n",
       "      <td>426038638</td>\n",
       "      <td>Thomas Verardo</td>\n",
       "      <td>Tomve99</td>\n",
       "      <td></td>\n",
       "      <td>18</td>\n",
       "      <td>57</td>\n",
       "    </tr>\n",
       "    <tr>\n",
       "      <th>2</th>\n",
       "      <td>523623748</td>\n",
       "      <td>Agustin Campagnolo</td>\n",
       "      <td>crispy_mcbacon</td>\n",
       "      <td>Azzano decimo, Pordenone</td>\n",
       "      <td>25</td>\n",
       "      <td>43</td>\n",
       "    </tr>\n",
       "    <tr>\n",
       "      <th>3</th>\n",
       "      <td>307423967</td>\n",
       "      <td>giuseppe cruciani</td>\n",
       "      <td>giucruciani</td>\n",
       "      <td></td>\n",
       "      <td>442535</td>\n",
       "      <td>1478</td>\n",
       "    </tr>\n",
       "    <tr>\n",
       "      <th>4</th>\n",
       "      <td>810960428385890304</td>\n",
       "      <td>Luca Bazzetto</td>\n",
       "      <td>lucabazzetto</td>\n",
       "      <td></td>\n",
       "      <td>4</td>\n",
       "      <td>30</td>\n",
       "    </tr>\n",
       "    <tr>\n",
       "      <th>5</th>\n",
       "      <td>44196397</td>\n",
       "      <td>Elon Musk</td>\n",
       "      <td>elonmusk</td>\n",
       "      <td></td>\n",
       "      <td>40250630</td>\n",
       "      <td>101</td>\n",
       "    </tr>\n",
       "  </tbody>\n",
       "</table>\n",
       "</div>"
      ],
      "text/plain": [
       "                    id                name     screen_name  \\\n",
       "0  1252717049287237632       Ciccio Feltri   ciccio_feltri   \n",
       "1            426038638      Thomas Verardo         Tomve99   \n",
       "2            523623748  Agustin Campagnolo  crispy_mcbacon   \n",
       "3            307423967   giuseppe cruciani     giucruciani   \n",
       "4   810960428385890304       Luca Bazzetto    lucabazzetto   \n",
       "5             44196397           Elon Musk        elonmusk   \n",
       "\n",
       "                   location  followers_count  friends_count  \n",
       "0                                          7             15  \n",
       "1                                         18             57  \n",
       "2  Azzano decimo, Pordenone               25             43  \n",
       "3                                     442535           1478  \n",
       "4                                          4             30  \n",
       "5                                   40250630            101  "
      ]
     },
     "metadata": {},
     "output_type": "display_data"
    }
   ],
   "source": [
    "vector = Functions.read_json(f\"{data_folder}/noDuplicati.json\")\n",
    "index = 0\n",
    "usersDetails = {}\n",
    "for userId in vector:\n",
    "    usersDetails[index] = Functions.downlodUserDetails(userId,api)\n",
    "    index = index + 1\n",
    "\n",
    "df = pd.DataFrame.from_dict(usersDetails,orient='index')\n",
    "display(df)\n",
    "df.to_csv(\"usersDetails.csv\", index=False, encoding='utf-8')"
   ]
  },
  {
   "cell_type": "code",
   "execution_count": 7,
   "metadata": {
    "collapsed": false,
    "jupyter": {
     "outputs_hidden": false
    },
    "pycharm": {
     "name": "#%% friendship\n"
    }
   },
   "outputs": [
    {
     "name": "stdout",
     "output_type": "stream",
     "text": [
      "Data read fron path: data/noDuplicati.json\n"
     ]
    },
    {
     "data": {
      "text/html": [
       "<div>\n",
       "<style scoped>\n",
       "    .dataframe tbody tr th:only-of-type {\n",
       "        vertical-align: middle;\n",
       "    }\n",
       "\n",
       "    .dataframe tbody tr th {\n",
       "        vertical-align: top;\n",
       "    }\n",
       "\n",
       "    .dataframe thead th {\n",
       "        text-align: right;\n",
       "    }\n",
       "</style>\n",
       "<table border=\"1\" class=\"dataframe\">\n",
       "  <thead>\n",
       "    <tr style=\"text-align: right;\">\n",
       "      <th></th>\n",
       "      <th>id</th>\n",
       "      <th>source</th>\n",
       "      <th>target</th>\n",
       "      <th>friendship</th>\n",
       "    </tr>\n",
       "  </thead>\n",
       "  <tbody>\n",
       "    <tr>\n",
       "      <th>0</th>\n",
       "      <td>0</td>\n",
       "      <td>1252717049287237632</td>\n",
       "      <td>426038638</td>\n",
       "      <td>both</td>\n",
       "    </tr>\n",
       "    <tr>\n",
       "      <th>1</th>\n",
       "      <td>1</td>\n",
       "      <td>1252717049287237632</td>\n",
       "      <td>523623748</td>\n",
       "      <td>both</td>\n",
       "    </tr>\n",
       "    <tr>\n",
       "      <th>2</th>\n",
       "      <td>2</td>\n",
       "      <td>1252717049287237632</td>\n",
       "      <td>307423967</td>\n",
       "      <td>sourceToTarget</td>\n",
       "    </tr>\n",
       "    <tr>\n",
       "      <th>3</th>\n",
       "      <td>3</td>\n",
       "      <td>1252717049287237632</td>\n",
       "      <td>810960428385890304</td>\n",
       "      <td>both</td>\n",
       "    </tr>\n",
       "    <tr>\n",
       "      <th>4</th>\n",
       "      <td>4</td>\n",
       "      <td>426038638</td>\n",
       "      <td>523623748</td>\n",
       "      <td>both</td>\n",
       "    </tr>\n",
       "    <tr>\n",
       "      <th>5</th>\n",
       "      <td>5</td>\n",
       "      <td>426038638</td>\n",
       "      <td>810960428385890304</td>\n",
       "      <td>both</td>\n",
       "    </tr>\n",
       "    <tr>\n",
       "      <th>6</th>\n",
       "      <td>6</td>\n",
       "      <td>426038638</td>\n",
       "      <td>44196397</td>\n",
       "      <td>sourceToTarget</td>\n",
       "    </tr>\n",
       "    <tr>\n",
       "      <th>7</th>\n",
       "      <td>7</td>\n",
       "      <td>523623748</td>\n",
       "      <td>810960428385890304</td>\n",
       "      <td>both</td>\n",
       "    </tr>\n",
       "    <tr>\n",
       "      <th>8</th>\n",
       "      <td>8</td>\n",
       "      <td>810960428385890304</td>\n",
       "      <td>307423967</td>\n",
       "      <td>sourceToTarget</td>\n",
       "    </tr>\n",
       "    <tr>\n",
       "      <th>9</th>\n",
       "      <td>9</td>\n",
       "      <td>810960428385890304</td>\n",
       "      <td>44196397</td>\n",
       "      <td>sourceToTarget</td>\n",
       "    </tr>\n",
       "  </tbody>\n",
       "</table>\n",
       "</div>"
      ],
      "text/plain": [
       "   id               source              target      friendship\n",
       "0   0  1252717049287237632           426038638            both\n",
       "1   1  1252717049287237632           523623748            both\n",
       "2   2  1252717049287237632           307423967  sourceToTarget\n",
       "3   3  1252717049287237632  810960428385890304            both\n",
       "4   4            426038638           523623748            both\n",
       "5   5            426038638  810960428385890304            both\n",
       "6   6            426038638            44196397  sourceToTarget\n",
       "7   7            523623748  810960428385890304            both\n",
       "8   8   810960428385890304           307423967  sourceToTarget\n",
       "9   9   810960428385890304            44196397  sourceToTarget"
      ]
     },
     "metadata": {},
     "output_type": "display_data"
    },
    {
     "data": {
      "text/html": [
       "<div>\n",
       "<style scoped>\n",
       "    .dataframe tbody tr th:only-of-type {\n",
       "        vertical-align: middle;\n",
       "    }\n",
       "\n",
       "    .dataframe tbody tr th {\n",
       "        vertical-align: top;\n",
       "    }\n",
       "\n",
       "    .dataframe thead th {\n",
       "        text-align: right;\n",
       "    }\n",
       "</style>\n",
       "<table border=\"1\" class=\"dataframe\">\n",
       "  <thead>\n",
       "    <tr style=\"text-align: right;\">\n",
       "      <th></th>\n",
       "      <th>id</th>\n",
       "      <th>source</th>\n",
       "      <th>target</th>\n",
       "      <th>friendship</th>\n",
       "    </tr>\n",
       "  </thead>\n",
       "  <tbody>\n",
       "    <tr>\n",
       "      <th>0</th>\n",
       "      <td>0</td>\n",
       "      <td>1252717049287237632</td>\n",
       "      <td>426038638</td>\n",
       "      <td>both</td>\n",
       "    </tr>\n",
       "    <tr>\n",
       "      <th>1</th>\n",
       "      <td>1</td>\n",
       "      <td>1252717049287237632</td>\n",
       "      <td>523623748</td>\n",
       "      <td>both</td>\n",
       "    </tr>\n",
       "    <tr>\n",
       "      <th>2</th>\n",
       "      <td>2</td>\n",
       "      <td>1252717049287237632</td>\n",
       "      <td>307423967</td>\n",
       "      <td>sourceToTarget</td>\n",
       "    </tr>\n",
       "    <tr>\n",
       "      <th>3</th>\n",
       "      <td>3</td>\n",
       "      <td>1252717049287237632</td>\n",
       "      <td>810960428385890304</td>\n",
       "      <td>both</td>\n",
       "    </tr>\n",
       "    <tr>\n",
       "      <th>4</th>\n",
       "      <td>4</td>\n",
       "      <td>426038638</td>\n",
       "      <td>523623748</td>\n",
       "      <td>both</td>\n",
       "    </tr>\n",
       "    <tr>\n",
       "      <th>5</th>\n",
       "      <td>5</td>\n",
       "      <td>426038638</td>\n",
       "      <td>810960428385890304</td>\n",
       "      <td>both</td>\n",
       "    </tr>\n",
       "    <tr>\n",
       "      <th>6</th>\n",
       "      <td>6</td>\n",
       "      <td>426038638</td>\n",
       "      <td>44196397</td>\n",
       "      <td>sourceToTarget</td>\n",
       "    </tr>\n",
       "    <tr>\n",
       "      <th>7</th>\n",
       "      <td>7</td>\n",
       "      <td>523623748</td>\n",
       "      <td>810960428385890304</td>\n",
       "      <td>both</td>\n",
       "    </tr>\n",
       "    <tr>\n",
       "      <th>8</th>\n",
       "      <td>8</td>\n",
       "      <td>810960428385890304</td>\n",
       "      <td>307423967</td>\n",
       "      <td>sourceToTarget</td>\n",
       "    </tr>\n",
       "    <tr>\n",
       "      <th>9</th>\n",
       "      <td>9</td>\n",
       "      <td>810960428385890304</td>\n",
       "      <td>44196397</td>\n",
       "      <td>sourceToTarget</td>\n",
       "    </tr>\n",
       "  </tbody>\n",
       "</table>\n",
       "</div>"
      ],
      "text/plain": [
       "   id               source              target      friendship\n",
       "0   0  1252717049287237632           426038638            both\n",
       "1   1  1252717049287237632           523623748            both\n",
       "2   2  1252717049287237632           307423967  sourceToTarget\n",
       "3   3  1252717049287237632  810960428385890304            both\n",
       "4   4            426038638           523623748            both\n",
       "5   5            426038638  810960428385890304            both\n",
       "6   6            426038638            44196397  sourceToTarget\n",
       "7   7            523623748  810960428385890304            both\n",
       "8   8   810960428385890304           307423967  sourceToTarget\n",
       "9   9   810960428385890304            44196397  sourceToTarget"
      ]
     },
     "metadata": {},
     "output_type": "display_data"
    }
   ],
   "source": [
    "list = Functions.read_json(f\"{data_folder}/noDuplicati.json\")\n",
    "index = 0\n",
    "sourceTarget ={}\n",
    "\n",
    "for source in list:\n",
    "    for target in list:\n",
    "        if not Functions.searchInDict(source,target,sourceTarget):\n",
    "            relation = Functions.friendship(source,target,api)\n",
    "            if relation:\n",
    "                foundFriendship = {\n",
    "                    \"id\" : index,\n",
    "                    \"source\": source,\n",
    "                    \"target\": target,\n",
    "                    \"friendship\": relation\n",
    "                }\n",
    "                sourceTarget[index] = foundFriendship\n",
    "                index = index + 1\n",
    "\n",
    "df = pd.DataFrame.from_dict(sourceTarget,orient='index')\n",
    "display(df)\n",
    "df.to_csv(\"sourceTarget.csv\",index = False , encoding='utf-8')"
   ]
  },
  {
   "cell_type": "code",
   "execution_count": 5,
   "metadata": {
    "collapsed": false,
    "jupyter": {
     "outputs_hidden": false
    },
    "pycharm": {
     "name": "#%% creo il grafo orientato\n"
    }
   },
   "outputs": [],
   "source": [
    "dfUsersDetails = pd.read_csv(\"usersDetails.csv\")\n",
    "dfUsersFriendship = pd.read_csv(\"sourceTarget.csv\")\n",
    "\n",
    "graph = nx.DiGraph()\n",
    "\n",
    "#aggiunta membri gruppo come attributi\n",
    "graph.graph[\"members\"] = [\"Luca\",\"Thomas\",\"Agustin\",\"Edoardo\"]\n",
    "\n",
    "for index,row in dfUsersDetails.iterrows():\n",
    "    graph.add_node(row['id'], name = row['name'],screen_name=row['screen_name'],location = row['location'],followers_count = row['followers_count'],friends_count = row['friends_count'])\n",
    "\n",
    "#print(graph.nodes.data())\n",
    "\n",
    "for index, row in dfUsersFriendship.iterrows():\n",
    "    if row[\"friendship\"] == \"sourceToTarget\":\n",
    "        graph.add_edge(row[\"source\"], row[\"target\"])\n",
    "    elif row[\"friendship\"] == \"TargetToSource\" :\n",
    "        graph.add_edge(row[\"target\"], row[\"source\"])\n",
    "    else :\n",
    "        graph.add_edge(row[\"source\"], row[\"target\"])\n",
    "        graph.add_edge(row[\"target\"], row[\"source\"])\n",
    "\n",
    "nx.write_gpickle(graph,\"data/orientedGraph.pkl\")"
   ]
  },
  {
   "cell_type": "code",
   "execution_count": 34,
   "metadata": {
    "collapsed": false,
    "jupyter": {
     "outputs_hidden": false
    },
    "pycharm": {
     "name": "#%% creo grafo non orientato\n"
    }
   },
   "outputs": [],
   "source": [
    "dfUsersDetails = pd.read_csv(\"usersDetails.csv\")\n",
    "dfUsersFriendship = pd.read_csv(\"sourceTarget.csv\")\n",
    "\n",
    "graph = nx.Graph()\n",
    "#aggiunta membri gruppo come attributi\n",
    "graph.graph[\"members\"] = [\"Luca\",\"Thomas\",\"Agustin\",\"Edoardo\"]\n",
    "\n",
    "for index,row in dfUsersDetails.iterrows():\n",
    "    graph.add_node(row['id'], label = row['screen_name'],location = row['location'],followers_count = row['followers_count'],friends_count = row['friends_count'])\n",
    "\n",
    "for index, row in dfUsersFriendship.iterrows():\n",
    "    graph.add_edge(row[\"source\"], row[\"target\"],id = row['id'])\n",
    "\n",
    "nx.write_gpickle(graph,\"data/unOrientedGraph.pkl\")"
   ]
  },
  {
   "cell_type": "code",
   "execution_count": 35,
   "metadata": {
    "collapsed": false,
    "jupyter": {
     "outputs_hidden": false
    },
    "pycharm": {
     "name": "#%% grafo interattivo\n"
    }
   },
   "outputs": [],
   "source": [
    "#punto 6\n",
    "\n",
    "graph = nx.read_gpickle(\"data/unOrientedGraph.pkl\")\n",
    "\n",
    "nt = Network(\n",
    "    height=\"100%\",\n",
    "    width=\"100%\",\n",
    "    bgcolor=\"222222\",\n",
    "    font_color=\"white\",\n",
    "    heading=\"progetto\"\n",
    ")\n",
    "nt.barnes_hut()\n",
    "nt.from_nx(graph)\n",
    "neighbor_map = nt.get_adj_list()\n",
    "for node in nt.nodes:\n",
    "    node[\"Value\"] = len(neighbor_map[node['id']])\n",
    "nt.show(\"grafico.html\")"
   ]
  },
  {
   "cell_type": "code",
   "execution_count": 6,
   "metadata": {
    "collapsed": false,
    "jupyter": {
     "outputs_hidden": false
    },
    "pycharm": {
     "name": "#%% punto 7/8/9\n"
    }
   },
   "outputs": [
    {
     "name": "stdout",
     "output_type": "stream",
     "text": [
      "Grafo connesso\n",
      "Centro:  [810960428385890304]\n",
      "Diametro:  2\n",
      "Raggio:  1\n",
      "Grafo non bipartito\n",
      "Centralità del mezzo:  {1252717049287237632: 0.1, 426038638: 0.1, 523623748: 0.0, 307423967: 0.0, 810960428385890304: 0.30000000000000004, 44196397: 0.0}\n",
      " \n",
      "Centralità della vicinanza:  {1252717049287237632: 0.8333333333333334, 426038638: 0.8333333333333334, 523623748: 0.7142857142857143, 307423967: 0.625, 810960428385890304: 1.0, 44196397: 0.625}\n",
      " \n",
      "In-degree centrality:  {1252717049287237632: 0.6000000000000001, 426038638: 0.6000000000000001, 523623748: 0.6000000000000001, 307423967: 0.4, 810960428385890304: 0.6000000000000001, 44196397: 0.4}\n",
      " \n",
      "Out-degree centrality:  {1252717049287237632: 0.8, 426038638: 0.8, 523623748: 0.6000000000000001, 307423967: 0.0, 810960428385890304: 1.0, 44196397: 0.0}\n",
      " \n",
      "Page Rank:  {1252717049287237632: 0.18362997802196654, 426038638: 0.18362997802196654, 523623748: 0.1734940405844774, 307423967: 0.13447289769598292, 810960428385890304: 0.19030020797962371, 44196397: 0.13447289769598292}\n",
      " \n",
      "HITS hub:  {1252717049287237632: 0.25, 426038638: 0.25, 523623748: 0.19575235858381887, 307423967: 0.0, 810960428385890304: 0.30424764141618116, 44196397: 0.0}\n",
      " \n",
      "HITS authority:  {1252717049287237632: 0.1825485849550595, 426038638: 0.1825485849550595, 523623748: 0.19575235840823416, 307423967: 0.13490283008988097, 810960428385890304: 0.16934481150188485, 44196397: 0.134902830089881}\n",
      " \n"
     ]
    }
   ],
   "source": [
    "from networkx.algorithms.distance_measures import center\n",
    "\n",
    "noOriented = nx.read_gpickle(\"data/unOrientedGraph.pkl\")\n",
    "oriented = nx.read_gpickle(\"data/orientedGraph.pkl\")\n",
    "\n",
    "if(nx.is_connected(noOriented)):\n",
    "    print(\"Grafo connesso\"),\n",
    "    print(\"Centro: \", end=\" \")\n",
    "    print(nx.center(noOriented))\n",
    "    print(\"Diametro: \", end=\" \")\n",
    "    print(nx.diameter(noOriented))\n",
    "    print(\"Raggio: \", end=\" \")\n",
    "    print(nx.radius(noOriented))\n",
    "\n",
    "else:\n",
    "    print(\"Grafo non connesso\")\n",
    "    print(\"Centralità di grado: \", end=\" \") #solo in grafi bipartiti\n",
    "    print(nx.degree_centrality(noOriented))\n",
    "    print(\" \")\n",
    "\n",
    "if(nx.is_bipartite(noOriented)):\n",
    "    print(\"Grafo bipartito\")\n",
    "else:\n",
    "    print(\"Grafo non bipartito\")\n",
    "\n",
    "bet = nx.betweenness_centrality(noOriented)\n",
    "close = nx.closeness_centrality(noOriented)\n",
    "degree = nx.degree_centrality(noOriented)\n",
    "ind = nx.in_degree_centrality(oriented)\n",
    "outd = nx.out_degree_centrality(oriented)\n",
    "pr = nx.pagerank(oriented)\n",
    "hub, authorities = nx.hits(oriented)\n",
    "\n",
    "print(\"Centralità del mezzo: \", end=\" \")\n",
    "print(bet)\n",
    "print(\" \")\n",
    "print(\"Centralità della vicinanza: \", end=\" \")\n",
    "print(close)\n",
    "print(\" \")\n",
    "\n",
    "print(\"In-degree centrality: \", end=\" \")\n",
    "print(ind)\n",
    "print(\" \")\n",
    "print(\"Out-degree centrality: \", end=\" \")\n",
    "print(outd)\n",
    "print(\" \")\n",
    "#Da vedere se bisogna modificare alpha (non so cosa sia) e altri parametri\n",
    "print(\"Page Rank: \", end=\" \")\n",
    "print(pr)\n",
    "print(\" \")\n",
    "print(\"HITS hub: \", end=\" \")\n",
    "print(hub)\n",
    "print(\" \")\n",
    "print(\"HITS authority: \", end=\" \")\n",
    "print(authorities)\n",
    "print(\" \")"
   ]
  },
  {
   "cell_type": "code",
   "execution_count": 15,
   "metadata": {
    "collapsed": false,
    "jupyter": {
     "outputs_hidden": false
    },
    "pycharm": {
     "name": "#%% punto 10 (non richiesto il disegno)\n"
    }
   },
   "outputs": [
    {
     "name": "stdout",
     "output_type": "stream",
     "text": [
      "Cricca massima:  {810960428385890304, 1252717049287237632, 523623748, 426038638}\n",
      " \n",
      "Dimensione della cricca massima:  4\n",
      " \n"
     ]
    },
    {
     "data": {
      "image/png": "[encoded data removed]",
      "text/plain": [
       "<Figure size 432x288 with 1 Axes>"
      ]
     },
     "metadata": {},
     "output_type": "display_data"
    }
   ],
   "source": [
    "oriented = nx.read_gpickle(\"data/orientedGraph.pkl\")\n",
    "\n",
    "#genero sottografo\n",
    "subgraph = nx.ego_graph(noOriented,  Functions.userID(\"Tomve99\",api), radius=1)\n",
    "\n",
    "#cricca massima\n",
    "print(\"Cricca massima: \", end=\" \")\n",
    "print(clique.max_clique(subgraph))\n",
    "print(\" \")\n",
    "\n",
    "#dimensione cricca massima\n",
    "print(\"Dimensione della cricca massima: \", end=\" \")\n",
    "print(clique.large_clique_size(subgraph))\n",
    "print(\" \")\n",
    "\n",
    "nx.draw_networkx(\n",
    "    subgraph,\n",
    "    pos = nx.spring_layout(subgraph),\n",
    "    node_color = \"#FF0000\",\n",
    "    edge_color = \"#A9A9A9\",\n",
    "    width = 2,\n",
    "    edge_cmap = plt.cm.Blues,\n",
    "    with_labels = True\n",
    ")\n",
    "plt.savefig(\"data/subgraph.pdf\")\n",
    "plt.show()\n",
    "plt.close()"
   ]
  },
  {
   "cell_type": "code",
   "execution_count": 13,
   "metadata": {
    "collapsed": false,
    "jupyter": {
     "outputs_hidden": false
    },
    "pycharm": {
     "name": "#%%Punto 11\n"
    }
   },
   "outputs": [
    {
     "name": "stdout",
     "output_type": "stream",
     "text": [
      "Copertura minima degli archi:  {(1252717049287237632, 523623748), (810960428385890304, 307423967), (44196397, 426038638)}\n",
      " \n"
     ]
    }
   ],
   "source": [
    "#copertura minima degli archi\n",
    "noOriented = nx.read_gpickle(\"data/unOrientedGraph.pkl\")\n",
    "\n",
    "print(\"Copertura minima degli archi: \", end=\" \")\n",
    "print(nx.min_edge_cover(noOriented))\n",
    "print(\" \")"
   ]
  },
  {
   "cell_type": "code",
   "execution_count": 63,
   "metadata": {
    "collapsed": false,
    "jupyter": {
     "outputs_hidden": false
    },
    "pycharm": {
     "name": "#%%Punto 12\n"
    }
   },
   "outputs": [
    {
     "name": "stdout",
     "output_type": "stream",
     "text": [
      "Coefficiente omega:  3.3306690738754696e-16\n",
      " \n",
      "Coefficiente sigma:  1.0\n",
      " \n"
     ]
    }
   ],
   "source": [
    "noOriented = nx.read_gpickle(\"data/unOrientedGraph.pkl\")\n",
    "\n",
    "print(\"Coefficiente omega: \", end=\" \")\n",
    "print(nx.omega(noOriented))\n",
    "print(\" \")\n",
    "print(\"Coefficiente sigma: \", end=\" \")\n",
    "print(nx.sigma(noOriented))\n",
    "print(\" \")"
   ]
  },
  {
   "cell_type": "code",
   "execution_count": 8,
   "metadata": {
    "collapsed": false,
    "jupyter": {
     "outputs_hidden": false
    },
    "pycharm": {
     "name": "#%% punto 13\n"
    }
   },
   "outputs": [
    {
     "data": {
      "text/html": [
       "<div>\n",
       "<style scoped>\n",
       "    .dataframe tbody tr th:only-of-type {\n",
       "        vertical-align: middle;\n",
       "    }\n",
       "\n",
       "    .dataframe tbody tr th {\n",
       "        vertical-align: top;\n",
       "    }\n",
       "\n",
       "    .dataframe thead th {\n",
       "        text-align: right;\n",
       "    }\n",
       "</style>\n",
       "<table border=\"1\" class=\"dataframe\">\n",
       "  <thead>\n",
       "    <tr style=\"text-align: right;\">\n",
       "      <th></th>\n",
       "      <th>Betweenness</th>\n",
       "      <th>Closeness</th>\n",
       "      <th>Degree</th>\n",
       "      <th>In-Degree</th>\n",
       "      <th>Out-Degree</th>\n",
       "      <th>Page Rank</th>\n",
       "      <th>Hub</th>\n",
       "      <th>Authorities</th>\n",
       "    </tr>\n",
       "  </thead>\n",
       "  <tbody>\n",
       "    <tr>\n",
       "      <th>Betweenness</th>\n",
       "      <td>(1.0, 0.0)</td>\n",
       "      <td>(0.9485916782162365, 0.0038962919668650924)</td>\n",
       "      <td>(0.8946750577612209, 0.016055812306949784)</td>\n",
       "      <td>(0.5521576303742326, 0.255933924922528)</td>\n",
       "      <td>(0.765547332155259, 0.07600837679936666)</td>\n",
       "      <td>(0.7030393289095214, 0.11918462681837855)</td>\n",
       "      <td>(0.7420630911731738, 0.09121671526365795)</td>\n",
       "      <td>(0.26204666690765893, 0.615927169599252)</td>\n",
       "    </tr>\n",
       "    <tr>\n",
       "      <th>Closeness</th>\n",
       "      <td>(0.9485916782162365, 0.0038962919668650924)</td>\n",
       "      <td>(0.9999999999999999, 1.8488927466117464e-32)</td>\n",
       "      <td>(0.989926995576015, 0.00015168709638560028)</td>\n",
       "      <td>(0.7808966350072852, 0.06675025758372091)</td>\n",
       "      <td>(0.9283048639634293, 0.007526025395560632)</td>\n",
       "      <td>(0.8904192495558891, 0.01735399171604556)</td>\n",
       "      <td>(0.9140368281093699, 0.0107668807783534)</td>\n",
       "      <td>(0.5400804119536685, 0.2686465594958184)</td>\n",
       "    </tr>\n",
       "    <tr>\n",
       "      <th>Degree</th>\n",
       "      <td>(0.8946750577612209, 0.016055812306949784)</td>\n",
       "      <td>(0.989926995576015, 0.00015168709638560028)</td>\n",
       "      <td>(0.9999999999999999, 1.8488927466117464e-32)</td>\n",
       "      <td>(0.8528028654224418, 0.030905834747225285)</td>\n",
       "      <td>(0.9683296637314884, 0.00148863246389365)</td>\n",
       "      <td>(0.942489359541586, 0.004866103181616234)</td>\n",
       "      <td>(0.9583258163427377, 0.002568917814739231)</td>\n",
       "      <td>(0.6397117210540251, 0.1713273796031374)</td>\n",
       "    </tr>\n",
       "    <tr>\n",
       "      <th>In-Degree</th>\n",
       "      <td>(0.5521576303742326, 0.255933924922528)</td>\n",
       "      <td>(0.7808966350072852, 0.06675025758372091)</td>\n",
       "      <td>(0.8528028654224418, 0.030905834747225285)</td>\n",
       "      <td>(0.9999999999999999, 1.8488927466117464e-32)</td>\n",
       "      <td>(0.9561828874675149, 0.0028378459267344508)</td>\n",
       "      <td>(0.9775842487264439, 0.0007480672823601672)</td>\n",
       "      <td>(0.9664532069555747, 0.0016692044175290184)</td>\n",
       "      <td>(0.9469440459303775, 0.004147726881893687)</td>\n",
       "    </tr>\n",
       "    <tr>\n",
       "      <th>Out-Degree</th>\n",
       "      <td>(0.765547332155259, 0.07600837679936666)</td>\n",
       "      <td>(0.9283048639634293, 0.007526025395560632)</td>\n",
       "      <td>(0.9683296637314884, 0.00148863246389365)</td>\n",
       "      <td>(0.9561828874675149, 0.0028378459267344508)</td>\n",
       "      <td>(1.0, 0.0)</td>\n",
       "      <td>(0.9957454254002437, 2.7113600648317958e-05)</td>\n",
       "      <td>(0.9993018758738812, 7.308958182794715e-07)</td>\n",
       "      <td>(0.8113558562153449, 0.050023316408063984)</td>\n",
       "    </tr>\n",
       "    <tr>\n",
       "      <th>Page Rank</th>\n",
       "      <td>(0.7030393289095214, 0.11918462681837855)</td>\n",
       "      <td>(0.8904192495558891, 0.01735399171604556)</td>\n",
       "      <td>(0.942489359541586, 0.004866103181616234)</td>\n",
       "      <td>(0.9775842487264439, 0.0007480672823601672)</td>\n",
       "      <td>(0.9957454254002437, 2.7113600648317958e-05)</td>\n",
       "      <td>(1.0, 0.0)</td>\n",
       "      <td>(0.9983003925756383, 4.330543296840567e-06)</td>\n",
       "      <td>(0.8587569999197496, 0.028515507984565015)</td>\n",
       "    </tr>\n",
       "    <tr>\n",
       "      <th>Hub</th>\n",
       "      <td>(0.7420630911731738, 0.09121671526365795)</td>\n",
       "      <td>(0.9140368281093699, 0.0107668807783534)</td>\n",
       "      <td>(0.9583258163427377, 0.002568917814739231)</td>\n",
       "      <td>(0.9664532069555747, 0.0016692044175290184)</td>\n",
       "      <td>(0.9993018758738812, 7.308958182794715e-07)</td>\n",
       "      <td>(0.9983003925756383, 4.330543296840567e-06)</td>\n",
       "      <td>(0.9999999999999998, 7.395570986446985e-32)</td>\n",
       "      <td>(0.8326282438352701, 0.039675639135529794)</td>\n",
       "    </tr>\n",
       "    <tr>\n",
       "      <th>Authorities</th>\n",
       "      <td>(0.26204666690765893, 0.615927169599252)</td>\n",
       "      <td>(0.5400804119536685, 0.2686465594958184)</td>\n",
       "      <td>(0.6397117210540251, 0.1713273796031374)</td>\n",
       "      <td>(0.9469440459303775, 0.004147726881893687)</td>\n",
       "      <td>(0.8113558562153449, 0.050023316408063984)</td>\n",
       "      <td>(0.8587569999197496, 0.028515507984565015)</td>\n",
       "      <td>(0.8326282438352701, 0.039675639135529794)</td>\n",
       "      <td>(1.0, 0.0)</td>\n",
       "    </tr>\n",
       "  </tbody>\n",
       "</table>\n",
       "</div>"
      ],
      "text/plain": [
       "                                             Betweenness  \\\n",
       "Betweenness                                   (1.0, 0.0)   \n",
       "Closeness    (0.9485916782162365, 0.0038962919668650924)   \n",
       "Degree        (0.8946750577612209, 0.016055812306949784)   \n",
       "In-Degree        (0.5521576303742326, 0.255933924922528)   \n",
       "Out-Degree      (0.765547332155259, 0.07600837679936666)   \n",
       "Page Rank      (0.7030393289095214, 0.11918462681837855)   \n",
       "Hub            (0.7420630911731738, 0.09121671526365795)   \n",
       "Authorities     (0.26204666690765893, 0.615927169599252)   \n",
       "\n",
       "                                                Closeness  \\\n",
       "Betweenness   (0.9485916782162365, 0.0038962919668650924)   \n",
       "Closeness    (0.9999999999999999, 1.8488927466117464e-32)   \n",
       "Degree        (0.989926995576015, 0.00015168709638560028)   \n",
       "In-Degree       (0.7808966350072852, 0.06675025758372091)   \n",
       "Out-Degree     (0.9283048639634293, 0.007526025395560632)   \n",
       "Page Rank       (0.8904192495558891, 0.01735399171604556)   \n",
       "Hub              (0.9140368281093699, 0.0107668807783534)   \n",
       "Authorities      (0.5400804119536685, 0.2686465594958184)   \n",
       "\n",
       "                                                   Degree  \\\n",
       "Betweenness    (0.8946750577612209, 0.016055812306949784)   \n",
       "Closeness     (0.989926995576015, 0.00015168709638560028)   \n",
       "Degree       (0.9999999999999999, 1.8488927466117464e-32)   \n",
       "In-Degree      (0.8528028654224418, 0.030905834747225285)   \n",
       "Out-Degree      (0.9683296637314884, 0.00148863246389365)   \n",
       "Page Rank       (0.942489359541586, 0.004866103181616234)   \n",
       "Hub            (0.9583258163427377, 0.002568917814739231)   \n",
       "Authorities      (0.6397117210540251, 0.1713273796031374)   \n",
       "\n",
       "                                                In-Degree  \\\n",
       "Betweenness       (0.5521576303742326, 0.255933924922528)   \n",
       "Closeness       (0.7808966350072852, 0.06675025758372091)   \n",
       "Degree         (0.8528028654224418, 0.030905834747225285)   \n",
       "In-Degree    (0.9999999999999999, 1.8488927466117464e-32)   \n",
       "Out-Degree    (0.9561828874675149, 0.0028378459267344508)   \n",
       "Page Rank     (0.9775842487264439, 0.0007480672823601672)   \n",
       "Hub           (0.9664532069555747, 0.0016692044175290184)   \n",
       "Authorities    (0.9469440459303775, 0.004147726881893687)   \n",
       "\n",
       "                                               Out-Degree  \\\n",
       "Betweenness      (0.765547332155259, 0.07600837679936666)   \n",
       "Closeness      (0.9283048639634293, 0.007526025395560632)   \n",
       "Degree          (0.9683296637314884, 0.00148863246389365)   \n",
       "In-Degree     (0.9561828874675149, 0.0028378459267344508)   \n",
       "Out-Degree                                     (1.0, 0.0)   \n",
       "Page Rank    (0.9957454254002437, 2.7113600648317958e-05)   \n",
       "Hub           (0.9993018758738812, 7.308958182794715e-07)   \n",
       "Authorities    (0.8113558562153449, 0.050023316408063984)   \n",
       "\n",
       "                                                Page Rank  \\\n",
       "Betweenness     (0.7030393289095214, 0.11918462681837855)   \n",
       "Closeness       (0.8904192495558891, 0.01735399171604556)   \n",
       "Degree          (0.942489359541586, 0.004866103181616234)   \n",
       "In-Degree     (0.9775842487264439, 0.0007480672823601672)   \n",
       "Out-Degree   (0.9957454254002437, 2.7113600648317958e-05)   \n",
       "Page Rank                                      (1.0, 0.0)   \n",
       "Hub           (0.9983003925756383, 4.330543296840567e-06)   \n",
       "Authorities    (0.8587569999197496, 0.028515507984565015)   \n",
       "\n",
       "                                                     Hub  \\\n",
       "Betweenness    (0.7420630911731738, 0.09121671526365795)   \n",
       "Closeness       (0.9140368281093699, 0.0107668807783534)   \n",
       "Degree        (0.9583258163427377, 0.002568917814739231)   \n",
       "In-Degree    (0.9664532069555747, 0.0016692044175290184)   \n",
       "Out-Degree   (0.9993018758738812, 7.308958182794715e-07)   \n",
       "Page Rank    (0.9983003925756383, 4.330543296840567e-06)   \n",
       "Hub          (0.9999999999999998, 7.395570986446985e-32)   \n",
       "Authorities   (0.8326282438352701, 0.039675639135529794)   \n",
       "\n",
       "                                            Authorities  \n",
       "Betweenness    (0.26204666690765893, 0.615927169599252)  \n",
       "Closeness      (0.5400804119536685, 0.2686465594958184)  \n",
       "Degree         (0.6397117210540251, 0.1713273796031374)  \n",
       "In-Degree    (0.9469440459303775, 0.004147726881893687)  \n",
       "Out-Degree   (0.8113558562153449, 0.050023316408063984)  \n",
       "Page Rank    (0.8587569999197496, 0.028515507984565015)  \n",
       "Hub          (0.8326282438352701, 0.039675639135529794)  \n",
       "Authorities                                  (1.0, 0.0)  "
      ]
     },
     "metadata": {},
     "output_type": "display_data"
    }
   ],
   "source": [
    "#Punto 13 Correlazione di Pearson\n",
    "noOriented = nx.read_gpickle(\"data/unOrientedGraph.pkl\")\n",
    "oriented = nx.read_gpickle(\"data/orientedGraph.pkl\")\n",
    "bet = nx.betweenness_centrality(noOriented)\n",
    "close = nx.closeness_centrality(noOriented)\n",
    "degree = nx.degree_centrality(noOriented)\n",
    "ind = nx.in_degree_centrality(oriented)\n",
    "outd = nx.out_degree_centrality(oriented)\n",
    "pr = nx.pagerank(oriented)\n",
    "hub, authorities = nx.hits(oriented)\n",
    "\n",
    "\n",
    "allCent = [bet, close, degree, ind, outd, pr, hub, authorities]\n",
    "allCent1 = np.empty((0,8), int)\n",
    "dataTab = np.empty((0,8), int)\n",
    "\n",
    "n_nodes = noOriented.number_of_nodes()\n",
    "\n",
    "allCent1 = Functions.converterNumber(allCent, n_nodes)\n",
    "\n",
    "tab = {}\n",
    "tabTemp = {}\n",
    "names = [\"Betweenness\", \"Closeness\", \"Degree\", \"In-Degree\", \"Out-Degree\", \"Page Rank\", \"Hub\", \"Authorities\"]\n",
    "y = 0\n",
    "res = []\n",
    "#calcolo indice\n",
    "for i in range(0,8):\n",
    "    res.clear()\n",
    "    for j in range(0,8):\n",
    "        res.append(stats.stats.pearsonr(allCent1[i], allCent1[j]))\n",
    "\n",
    "    x = 0\n",
    "    tabTemp.clear()\n",
    "    for re in res:\n",
    "        nameCol = names[x]\n",
    "        tabTemp[nameCol] = re\n",
    "        x = x + 1\n",
    "\n",
    "    nameRow = names[y]\n",
    "    tab[nameRow] = tabTemp.copy()\n",
    "    y = y + 1\n",
    "\n",
    "df = pd.DataFrame.from_dict(tab,orient='index')\n",
    "display(df)"
   ]
  },
  {
   "cell_type": "code",
   "execution_count": 9,
   "metadata": {
    "pycharm": {
     "name": "#%% Punto 13 Correlazione di Kendall\n"
    }
   },
   "outputs": [
    {
     "data": {
      "text/html": [
       "<div>\n",
       "<style scoped>\n",
       "    .dataframe tbody tr th:only-of-type {\n",
       "        vertical-align: middle;\n",
       "    }\n",
       "\n",
       "    .dataframe tbody tr th {\n",
       "        vertical-align: top;\n",
       "    }\n",
       "\n",
       "    .dataframe thead th {\n",
       "        text-align: right;\n",
       "    }\n",
       "</style>\n",
       "<table border=\"1\" class=\"dataframe\">\n",
       "  <thead>\n",
       "    <tr style=\"text-align: right;\">\n",
       "      <th></th>\n",
       "      <th>Betweenness</th>\n",
       "      <th>Closeness</th>\n",
       "      <th>Degree</th>\n",
       "      <th>In-Degree</th>\n",
       "      <th>Out-Degree</th>\n",
       "      <th>Page Rank</th>\n",
       "      <th>Hub</th>\n",
       "      <th>Authorities</th>\n",
       "    </tr>\n",
       "  </thead>\n",
       "  <tbody>\n",
       "    <tr>\n",
       "      <th>Betweenness</th>\n",
       "      <td>(1.0, 0.014145444224306181)</td>\n",
       "      <td>(0.9198662110077999, 0.019563281856830587)</td>\n",
       "      <td>(0.9198662110077999, 0.019563281856830587)</td>\n",
       "      <td>(0.6396021490668313, 0.13361440253771617)</td>\n",
       "      <td>(0.9198662110077999, 0.019563281856830587)</td>\n",
       "      <td>(0.9198662110077999, 0.019563281856830587)</td>\n",
       "      <td>(0.9198662110077999, 0.019563281856830587)</td>\n",
       "      <td>(0.08058229640253803, 0.8345908910507341)</td>\n",
       "    </tr>\n",
       "    <tr>\n",
       "      <th>Closeness</th>\n",
       "      <td>(0.9198662110077999, 0.019563281856830587)</td>\n",
       "      <td>(1.0, 0.008765863937712937)</td>\n",
       "      <td>(1.0, 0.008765863937712937)</td>\n",
       "      <td>(0.7844645405527361, 0.05653027716740425)</td>\n",
       "      <td>(1.0, 0.008765863937712937)</td>\n",
       "      <td>(1.0, 0.008765863937712937)</td>\n",
       "      <td>(1.0, 0.008765863937712937)</td>\n",
       "      <td>(0.22237479499833038, 0.5521929874088278)</td>\n",
       "    </tr>\n",
       "    <tr>\n",
       "      <th>Degree</th>\n",
       "      <td>(0.9198662110077999, 0.019563281856830587)</td>\n",
       "      <td>(1.0, 0.008765863937712937)</td>\n",
       "      <td>(1.0, 0.008765863937712937)</td>\n",
       "      <td>(0.7844645405527361, 0.05653027716740425)</td>\n",
       "      <td>(1.0, 0.008765863937712937)</td>\n",
       "      <td>(1.0, 0.008765863937712937)</td>\n",
       "      <td>(1.0, 0.008765863937712937)</td>\n",
       "      <td>(0.22237479499833038, 0.5521929874088278)</td>\n",
       "    </tr>\n",
       "    <tr>\n",
       "      <th>In-Degree</th>\n",
       "      <td>(0.6396021490668312, 0.13361440253771617)</td>\n",
       "      <td>(0.7844645405527361, 0.05653027716740425)</td>\n",
       "      <td>(0.7844645405527361, 0.05653027716740425)</td>\n",
       "      <td>(0.9999999999999999, 0.025347318677468277)</td>\n",
       "      <td>(0.7844645405527361, 0.05653027716740425)</td>\n",
       "      <td>(0.7844645405527361, 0.05653027716740425)</td>\n",
       "      <td>(0.7844645405527361, 0.05653027716740425)</td>\n",
       "      <td>(0.7559289460184544, 0.060289173990602164)</td>\n",
       "    </tr>\n",
       "    <tr>\n",
       "      <th>Out-Degree</th>\n",
       "      <td>(0.9198662110077999, 0.019563281856830587)</td>\n",
       "      <td>(1.0, 0.008765863937712937)</td>\n",
       "      <td>(1.0, 0.008765863937712937)</td>\n",
       "      <td>(0.7844645405527361, 0.05653027716740425)</td>\n",
       "      <td>(1.0, 0.008765863937712937)</td>\n",
       "      <td>(1.0, 0.008765863937712937)</td>\n",
       "      <td>(1.0, 0.008765863937712937)</td>\n",
       "      <td>(0.22237479499833038, 0.5521929874088278)</td>\n",
       "    </tr>\n",
       "    <tr>\n",
       "      <th>Page Rank</th>\n",
       "      <td>(0.9198662110077999, 0.019563281856830587)</td>\n",
       "      <td>(1.0, 0.008765863937712937)</td>\n",
       "      <td>(1.0, 0.008765863937712937)</td>\n",
       "      <td>(0.7844645405527361, 0.05653027716740425)</td>\n",
       "      <td>(1.0, 0.008765863937712937)</td>\n",
       "      <td>(1.0, 0.008765863937712937)</td>\n",
       "      <td>(1.0, 0.008765863937712937)</td>\n",
       "      <td>(0.22237479499833038, 0.5521929874088278)</td>\n",
       "    </tr>\n",
       "    <tr>\n",
       "      <th>Hub</th>\n",
       "      <td>(0.9198662110077999, 0.019563281856830587)</td>\n",
       "      <td>(1.0, 0.008765863937712937)</td>\n",
       "      <td>(1.0, 0.008765863937712937)</td>\n",
       "      <td>(0.7844645405527361, 0.05653027716740425)</td>\n",
       "      <td>(1.0, 0.008765863937712937)</td>\n",
       "      <td>(1.0, 0.008765863937712937)</td>\n",
       "      <td>(1.0, 0.008765863937712937)</td>\n",
       "      <td>(0.22237479499833038, 0.5521929874088278)</td>\n",
       "    </tr>\n",
       "    <tr>\n",
       "      <th>Authorities</th>\n",
       "      <td>(0.08058229640253803, 0.8345908910507341)</td>\n",
       "      <td>(0.22237479499833038, 0.5521929874088278)</td>\n",
       "      <td>(0.22237479499833038, 0.5521929874088278)</td>\n",
       "      <td>(0.7559289460184544, 0.060289173990602164)</td>\n",
       "      <td>(0.22237479499833038, 0.5521929874088278)</td>\n",
       "      <td>(0.22237479499833038, 0.5521929874088278)</td>\n",
       "      <td>(0.22237479499833038, 0.5521929874088278)</td>\n",
       "      <td>(1.0, 0.006435091231559125)</td>\n",
       "    </tr>\n",
       "  </tbody>\n",
       "</table>\n",
       "</div>"
      ],
      "text/plain": [
       "                                            Betweenness  \\\n",
       "Betweenness                 (1.0, 0.014145444224306181)   \n",
       "Closeness    (0.9198662110077999, 0.019563281856830587)   \n",
       "Degree       (0.9198662110077999, 0.019563281856830587)   \n",
       "In-Degree     (0.6396021490668312, 0.13361440253771617)   \n",
       "Out-Degree   (0.9198662110077999, 0.019563281856830587)   \n",
       "Page Rank    (0.9198662110077999, 0.019563281856830587)   \n",
       "Hub          (0.9198662110077999, 0.019563281856830587)   \n",
       "Authorities   (0.08058229640253803, 0.8345908910507341)   \n",
       "\n",
       "                                              Closeness  \\\n",
       "Betweenness  (0.9198662110077999, 0.019563281856830587)   \n",
       "Closeness                   (1.0, 0.008765863937712937)   \n",
       "Degree                      (1.0, 0.008765863937712937)   \n",
       "In-Degree     (0.7844645405527361, 0.05653027716740425)   \n",
       "Out-Degree                  (1.0, 0.008765863937712937)   \n",
       "Page Rank                   (1.0, 0.008765863937712937)   \n",
       "Hub                         (1.0, 0.008765863937712937)   \n",
       "Authorities   (0.22237479499833038, 0.5521929874088278)   \n",
       "\n",
       "                                                 Degree  \\\n",
       "Betweenness  (0.9198662110077999, 0.019563281856830587)   \n",
       "Closeness                   (1.0, 0.008765863937712937)   \n",
       "Degree                      (1.0, 0.008765863937712937)   \n",
       "In-Degree     (0.7844645405527361, 0.05653027716740425)   \n",
       "Out-Degree                  (1.0, 0.008765863937712937)   \n",
       "Page Rank                   (1.0, 0.008765863937712937)   \n",
       "Hub                         (1.0, 0.008765863937712937)   \n",
       "Authorities   (0.22237479499833038, 0.5521929874088278)   \n",
       "\n",
       "                                              In-Degree  \\\n",
       "Betweenness   (0.6396021490668313, 0.13361440253771617)   \n",
       "Closeness     (0.7844645405527361, 0.05653027716740425)   \n",
       "Degree        (0.7844645405527361, 0.05653027716740425)   \n",
       "In-Degree    (0.9999999999999999, 0.025347318677468277)   \n",
       "Out-Degree    (0.7844645405527361, 0.05653027716740425)   \n",
       "Page Rank     (0.7844645405527361, 0.05653027716740425)   \n",
       "Hub           (0.7844645405527361, 0.05653027716740425)   \n",
       "Authorities  (0.7559289460184544, 0.060289173990602164)   \n",
       "\n",
       "                                             Out-Degree  \\\n",
       "Betweenness  (0.9198662110077999, 0.019563281856830587)   \n",
       "Closeness                   (1.0, 0.008765863937712937)   \n",
       "Degree                      (1.0, 0.008765863937712937)   \n",
       "In-Degree     (0.7844645405527361, 0.05653027716740425)   \n",
       "Out-Degree                  (1.0, 0.008765863937712937)   \n",
       "Page Rank                   (1.0, 0.008765863937712937)   \n",
       "Hub                         (1.0, 0.008765863937712937)   \n",
       "Authorities   (0.22237479499833038, 0.5521929874088278)   \n",
       "\n",
       "                                              Page Rank  \\\n",
       "Betweenness  (0.9198662110077999, 0.019563281856830587)   \n",
       "Closeness                   (1.0, 0.008765863937712937)   \n",
       "Degree                      (1.0, 0.008765863937712937)   \n",
       "In-Degree     (0.7844645405527361, 0.05653027716740425)   \n",
       "Out-Degree                  (1.0, 0.008765863937712937)   \n",
       "Page Rank                   (1.0, 0.008765863937712937)   \n",
       "Hub                         (1.0, 0.008765863937712937)   \n",
       "Authorities   (0.22237479499833038, 0.5521929874088278)   \n",
       "\n",
       "                                                    Hub  \\\n",
       "Betweenness  (0.9198662110077999, 0.019563281856830587)   \n",
       "Closeness                   (1.0, 0.008765863937712937)   \n",
       "Degree                      (1.0, 0.008765863937712937)   \n",
       "In-Degree     (0.7844645405527361, 0.05653027716740425)   \n",
       "Out-Degree                  (1.0, 0.008765863937712937)   \n",
       "Page Rank                   (1.0, 0.008765863937712937)   \n",
       "Hub                         (1.0, 0.008765863937712937)   \n",
       "Authorities   (0.22237479499833038, 0.5521929874088278)   \n",
       "\n",
       "                                            Authorities  \n",
       "Betweenness   (0.08058229640253803, 0.8345908910507341)  \n",
       "Closeness     (0.22237479499833038, 0.5521929874088278)  \n",
       "Degree        (0.22237479499833038, 0.5521929874088278)  \n",
       "In-Degree    (0.7559289460184544, 0.060289173990602164)  \n",
       "Out-Degree    (0.22237479499833038, 0.5521929874088278)  \n",
       "Page Rank     (0.22237479499833038, 0.5521929874088278)  \n",
       "Hub           (0.22237479499833038, 0.5521929874088278)  \n",
       "Authorities                 (1.0, 0.006435091231559125)  "
      ]
     },
     "metadata": {},
     "output_type": "display_data"
    }
   ],
   "source": [
    "noOriented = nx.read_gpickle(\"data/unOrientedGraph.pkl\")\n",
    "oriented = nx.read_gpickle(\"data/orientedGraph.pkl\")\n",
    "bet = nx.betweenness_centrality(noOriented)\n",
    "close = nx.closeness_centrality(noOriented)\n",
    "degree = nx.degree_centrality(noOriented)\n",
    "ind = nx.in_degree_centrality(oriented)\n",
    "outd = nx.out_degree_centrality(oriented)\n",
    "pr = nx.pagerank(oriented)\n",
    "hub, authorities = nx.hits(oriented)\n",
    "\n",
    "allCent = [bet, close, degree, ind, outd, pr, hub, authorities]\n",
    "res = []\n",
    "allCent1 = np.empty((0,8), int)\n",
    "dataTab = np.empty((0,8), int)\n",
    "\n",
    "n_nodes = noOriented.number_of_nodes()\n",
    "\n",
    "allCent1 = Functions.converterNumber(allCent, n_nodes)\n",
    "\n",
    "\n",
    "tab = {}\n",
    "tabTemp = {}\n",
    "names = [\"Betweenness\", \"Closeness\", \"Degree\", \"In-Degree\", \"Out-Degree\", \"Page Rank\", \"Hub\", \"Authorities\"]\n",
    "y = 0\n",
    "tau = []\n",
    "pvalue = []\n",
    "#calcolo indice\n",
    "for i in range(0,8):\n",
    "    tau.clear()\n",
    "    pvalue.clear()\n",
    "    tabTemp.clear()\n",
    "    for j in range(0,8):\n",
    "        tauTemp, pvalueTemp = stats.kendalltau(allCent1[i], allCent1[j])\n",
    "        tau.append(tauTemp)\n",
    "        pvalue.append(pvalueTemp)\n",
    "    x = 0\n",
    "    tabTemp.clear()\n",
    "    for ta in tau:\n",
    "        nameCol = names[x]\n",
    "        tabTemp[nameCol] = \"(\" + str(ta) + \", \" + str(pvalue[x]) + \")\"\n",
    "        x = x + 1\n",
    "\n",
    "    nameRow = names[y]\n",
    "    tab[nameRow] = tabTemp.copy()\n",
    "    y = y + 1\n",
    "\n",
    "df = pd.DataFrame.from_dict(tab,orient='index')\n",
    "display(df)"
   ]
  },
  {
   "cell_type": "code",
   "execution_count": null,
   "metadata": {
    "collapsed": false,
    "jupyter": {
     "outputs_hidden": false
    },
    "pycharm": {
     "name": "#%% stampa grafo orientato\n"
    }
   },
   "outputs": [],
   "source": [
    "#Provo a disegnarlo (non scritto nella consegna)\n",
    "\n",
    "rcParams['figure.figsize'] = 10,10\n",
    "\n",
    "nx.draw_networkx(\n",
    "    oriented,\n",
    "    pos = nx.spring_layout(oriented),\n",
    "    node_color = \"#FF0000\",\n",
    "    width = 2,\n",
    "    edge_cmap = plt.cm.Blues,\n",
    "    with_labels = True\n",
    ")\n",
    "plt.show()\n",
    "plt.close()"
   ]
  }
 ],
 "metadata": {
  "colab": {
   "name": "Progetto.ipynb",
   "provenance": []
  },
  "kernelspec": {
   "display_name": "Python 3",
   "language": "python",
   "name": "python3"
  },
  "language_info": {
   "codemirror_mode": {
    "name": "ipython",
    "version": 3
   },
   "file_extension": ".py",
   "mimetype": "text/x-python",
   "name": "python",
   "nbconvert_exporter": "python",
   "pygments_lexer": "ipython3",
   "version": "3.8.3"
  }
 },
 "nbformat": 4,
 "nbformat_minor": 4
}
