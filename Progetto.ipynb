{
 "cells": [
  {
   "cell_type": "code",
   "execution_count": 1,
   "metadata": {
    "id": "WGcpU4UD0HzN",
    "outputId": "98308300-43d4-407b-fb4a-97e4b4632752"
   },
   "outputs": [
    {
     "name": "stdout",
     "output_type": "stream",
     "text": [
      "imported completed!\n"
     ]
    }
   ],
   "source": [
    "import pandas as pd\n",
    "import numpy as np\n",
    "import scipy as sp\n",
    "import os\n",
    "import json\n",
    "import pprint\n",
    "from IPython.core.display import display\n",
    "%matplotlib inline\n",
    "import tweepy\n",
    "import networkx as nx\n",
    "import random\n",
    "from pyvis.network import Network\n",
    "from functions_file import *\n",
    "data_folder = \"data\"\n",
    "print(\"imported completed!\")"
   ]
  },
  {
   "cell_type": "code",
   "execution_count": 3,
   "metadata": {
    "id": "0JMt8Isd0HzX",
    "pycharm": {
     "name": "#%% Twitter API credentials\n"
    }
   },
   "outputs": [],
   "source": [
    "consumer_key = \"GvDHFIS3fpCfZR2hwEGhE5oCZ\"\n",
    "consumer_secret = \"LCwgUZgFOjJppd4jg6Cf4mgohUTc6Ro7Yaals87LdNLmS3d9zB\"\n",
    "access_token = \"810960428385890304-aVlOFR9EExKdDPZCsh5EDN5Nm9SUmb9\"\n",
    "access_secret = \"XJkr9dKABPkSvRIgpyQeNapg2o6ldP4VoNbTids9QXGWT\"\n",
    "bearer_token = \"AAAAAAAAAAAAAAAAAAAAAA8UJQEAAAAAOD26yUUUPHF9zeAe56TtzGYUK8Q%3DRh6u9TAI7T7b5TJABTBOP5WwWSL0Cbvv5a6JJwg8MursyOOt9L\""
   ]
  },
  {
   "cell_type": "code",
   "execution_count": 4,
   "metadata": {
    "id": "ZTpnKt1M0Hzc",
    "outputId": "a0781e12-8ee8-4e8a-d514-9e4c1da90edf",
    "pycharm": {
     "name": "#%% autentication\n"
    }
   },
   "outputs": [
    {
     "name": "stdout",
     "output_type": "stream",
     "text": [
      "Authentication completed successfully!\n"
     ]
    }
   ],
   "source": [
    "auth = tweepy.OAuthHandler(consumer_key, consumer_secret)\n",
    "auth.set_access_token(access_token, access_secret)\n",
    "api = tweepy.API(auth, wait_on_rate_limit = True, wait_on_rate_limit_notify = True)\n",
    "if api.verify_credentials :\n",
    "  print ('Authentication completed successfully!')"
   ]
  },
  {
   "cell_type": "code",
   "execution_count": 13,
   "metadata": {
    "id": "p3pnXKMB0Hzm",
    "outputId": "6f0ca181-ed5c-4259-c0a6-968fb2b2a824",
    "pycharm": {
     "name": "#%% punto 1 follower\n"
    }
   },
   "outputs": [
    {
     "name": "stdout",
     "output_type": "stream",
     "text": [
      "Data serialized to path: data/followersLucaThomas.json\n"
     ]
    }
   ],
   "source": [
    "users = [\"lucabazzetto\",\"Tomve99\"]\n",
    "#usersID = usersID(users)\n",
    "quantity = 4\n",
    "followers = {}\n",
    "for user in users:\n",
    "    followers_of_user = []\n",
    "    for follow in tweepy.Cursor(\n",
    "        api.followers,\n",
    "        screen_name = user,\n",
    "        skip_status=True,\n",
    "        include_user_entities = False\n",
    "    ).items(quantity):\n",
    "        json_data = follow._json\n",
    "        if json_data not in followers_of_user:\n",
    "            followers_of_user.append(json_data[\"screen_name\"])\n",
    "    followers[user] = followers_of_user\n",
    "serialize_json(data_folder,\"followersLucaThomas.json\", followers)"
   ]
  },
  {
   "cell_type": "code",
   "execution_count": 12,
   "metadata": {
    "id": "tM9Q6JJS0Hzq",
    "outputId": "936cb8ca-2166-411a-e2f5-ed43c72c7331",
    "pycharm": {
     "name": "#%% punto 2 friends\n"
    }
   },
   "outputs": [
    {
     "name": "stdout",
     "output_type": "stream",
     "text": [
      "Data serialized to path: data/friendsLucaThomas.json\n"
     ]
    }
   ],
   "source": [
    "users = [\"lucabazzetto\",\"Tomve99\"]\n",
    "quantity = 4\n",
    "friends = {}\n",
    "for user in users:\n",
    "    friends_of_user = []\n",
    "    for friend in tweepy.Cursor(\n",
    "        api.friends,\n",
    "        screen_name = user,\n",
    "        skip_status=True,\n",
    "        include_user_entities = False\n",
    "    ).items(quantity):\n",
    "        json_data = friend._json\n",
    "        friends_of_user.append(friend._json[\"screen_name\"])\n",
    "    friends[user] = friends_of_user\n",
    "serialize_json(data_folder,\"friendsLucaThomas.json\", friends)"
   ]
  },
  {
   "cell_type": "code",
   "execution_count": 5,
   "metadata": {
    "id": "QoXXBGlb0Hzu",
    "outputId": "191eb350-4830-49a0-df0c-b19015ffd9c7",
    "pycharm": {
     "name": "#%% punto 2\n"
    }
   },
   "outputs": [
    {
     "name": "stdout",
     "output_type": "stream",
     "text": [
      "Data read fron path: data/followersLucaThomas.json\n",
      "Data serialized to path: data/followersOfFollowers.json\n"
     ]
    }
   ],
   "source": [
    "\n",
    "def random_json_with_control(json_array, quantity, all):\n",
    "    a = quantity\n",
    "    array = []\n",
    "    while(a!=0):\n",
    "        item = random.choice(json_array)\n",
    "        if item not in array and item not in all:\n",
    "            array.append(item)\n",
    "            a = a-1\n",
    "    return array\n",
    "\n",
    "followersALL = read_json(f\"{data_folder}/followersLucaThomas.json\")\n",
    "fiveFollowers = []\n",
    "\n",
    "# Estraggo per ogni utente 5 followers\n",
    "for user in followersALL:\n",
    "    fiveFollowers.extend(random_json_with_control(followersALL[user], 1, fiveFollowers))\n",
    "\n",
    "quantity = 2\n",
    "followersOfFollowers = {}\n",
    "\n",
    "for user in fiveFollowers:\n",
    "    followers_of_user = []\n",
    "    for follower in tweepy.Cursor(\n",
    "        api.followers,\n",
    "        screen_name = user,\n",
    "        skip_status=True,\n",
    "        include_user_entities = False\n",
    "    ).items(quantity):\n",
    "        json_data = follower._json\n",
    "        followers_of_user.append(follower._json[\"screen_name\"])\n",
    "    followersOfFollowers[user] = followers_of_user\n",
    "\n",
    "serialize_json(data_folder,\"followersOfFollowers.json\", followersOfFollowers)"
   ]
  },
  {
   "cell_type": "code",
   "execution_count": 6,
   "metadata": {
    "id": "7qIqh9P00Hzx",
    "outputId": "3981d93b-12b7-4175-ffbc-09f3369e6756",
    "pycharm": {
     "name": "#%% punto 3\n"
    }
   },
   "outputs": [
    {
     "name": "stdout",
     "output_type": "stream",
     "text": [
      "Data read fron path: data/friendsLucaThomas.json\n",
      "Data serialized to path: data/friendsOfFriends.json\n"
     ]
    }
   ],
   "source": [
    "friendsALL = read_json(f\"{data_folder}/friendsLucaThomas.json\")\n",
    "fiveFriends = []\n",
    "\n",
    "# Estraggo per ogni utente 5 followers\n",
    "for user in friendsALL:\n",
    "    fiveFriends.extend(random_json_with_control(friendsALL[user], 2, fiveFriends))\n",
    "\n",
    "quantity = 2\n",
    "friendsOfFriends = {}\n",
    "for user in fiveFriends:\n",
    "    friends_of_user = []\n",
    "    for friend in tweepy.Cursor(\n",
    "        api.friends,\n",
    "        screen_name = user,\n",
    "        skip_status=True,\n",
    "        include_user_entities = False\n",
    "    ).items(quantity):\n",
    "        json_data = friend._json\n",
    "        friends_of_user.append(friend._json[\"screen_name\"])\n",
    "    friendsOfFriends[user] = friends_of_user\n",
    "serialize_json(data_folder,\"friendsOfFriends.json\", friendsOfFriends)"
   ]
  },
  {
   "cell_type": "code",
   "execution_count": 7,
   "metadata": {
    "id": "mSUmvjOw0Hz1",
    "outputId": "035d4a27-db73-4904-e38b-ee759e5a3283",
    "pycharm": {
     "name": "#%% punto 4\n"
    }
   },
   "outputs": [
    {
     "name": "stdout",
     "output_type": "stream",
     "text": [
      "Data read fron path: data/friendsOfFriends.json\n",
      "Data read fron path: data/followersOfFollowers.json\n",
      "Data read fron path: data/followersLucaThomas.json\n",
      "Data read fron path: data/friendsLucaThomas.json\n",
      "Data serialized to path: data/NODUPLICATI.json\n",
      "Data serialized to path: data/puntoQuattro.json\n"
     ]
    }
   ],
   "source": [
    "allFriends = {}\n",
    "allFriends.update(read_json(f\"{data_folder}/friendsOfFriends.json\"))\n",
    "allFriends.update(read_json(f\"{data_folder}/followersOfFollowers.json\"))\n",
    "allFriends.update(read_json(f\"{data_folder}/followersLucaThomas.json\"))\n",
    "allFriends.update(read_json(f\"{data_folder}/friendsLucaThomas.json\"))\n",
    "#serialize_json(data_folder,\"allFriends.json\", allFriends)\n",
    "#pprint.PrettyPrinter().pprint(allFriends)\n",
    "\n",
    "vector = []\n",
    "for (k,v) in allFriends.items():\n",
    "    for item in v:\n",
    "        if item not in vector:\n",
    "            vector.append(item)\n",
    "\n",
    "serialize_json(data_folder,\"NODUPLICATI.json\", vector)\n",
    "\n",
    "vector = read_json(f\"{data_folder}/NODUPLICATI.json\")\n",
    "\n",
    "puntoQuattro = {}\n",
    "for user in vector:\n",
    "    json_data = api.get_user(user)._json\n",
    "    foundInfo = {}\n",
    "    foundInfo ['id'] = json_data['id']\n",
    "    foundInfo ['name'] = json_data['name']\n",
    "    foundInfo ['screen_name'] = json_data['screen_name']\n",
    "    foundInfo ['location'] = json_data['location']\n",
    "    foundInfo ['followers_count'] = json_data['followers_count']\n",
    "    foundInfo ['friends_count'] = json_data['friends_count']\n",
    "    puntoQuattro[user] = foundInfo\n",
    "serialize_json(data_folder,\"puntoQuattroProva.json\", puntoQuattro)"
   ]
  },
  {
   "cell_type": "code",
   "execution_count": 20,
   "metadata": {
    "collapsed": false,
    "jupyter": {
     "outputs_hidden": false
    },
    "pycharm": {
     "name": "#%% friendship\n"
    }
   },
   "outputs": [
    {
     "name": "stdout",
     "output_type": "stream",
     "text": [
      "Data read fron path: data/NODUPLICATI.json\n",
      "Data serialized to path: data/prova.json\n"
     ]
    },
    {
     "data": {
      "text/html": [
       "<div>\n",
       "<style scoped>\n",
       "    .dataframe tbody tr th:only-of-type {\n",
       "        vertical-align: middle;\n",
       "    }\n",
       "\n",
       "    .dataframe tbody tr th {\n",
       "        vertical-align: top;\n",
       "    }\n",
       "\n",
       "    .dataframe thead th {\n",
       "        text-align: right;\n",
       "    }\n",
       "</style>\n",
       "<table border=\"1\" class=\"dataframe\">\n",
       "  <thead>\n",
       "    <tr style=\"text-align: right;\">\n",
       "      <th></th>\n",
       "      <th>Source</th>\n",
       "      <th>Taget</th>\n",
       "    </tr>\n",
       "  </thead>\n",
       "  <tbody>\n",
       "    <tr>\n",
       "      <th>0</th>\n",
       "      <td>crispy_mcbacon</td>\n",
       "      <td>ciccio_feltri</td>\n",
       "    </tr>\n",
       "    <tr>\n",
       "      <th>1</th>\n",
       "      <td>crispy_mcbacon</td>\n",
       "      <td>lucabazzetto</td>\n",
       "    </tr>\n",
       "    <tr>\n",
       "      <th>2</th>\n",
       "      <td>ciccio_feltri</td>\n",
       "      <td>crispy_mcbacon</td>\n",
       "    </tr>\n",
       "    <tr>\n",
       "      <th>3</th>\n",
       "      <td>ciccio_feltri</td>\n",
       "      <td>lucabazzetto</td>\n",
       "    </tr>\n",
       "    <tr>\n",
       "      <th>4</th>\n",
       "      <td>lucabazzetto</td>\n",
       "      <td>crispy_mcbacon</td>\n",
       "    </tr>\n",
       "    <tr>\n",
       "      <th>5</th>\n",
       "      <td>lucabazzetto</td>\n",
       "      <td>ciccio_feltri</td>\n",
       "    </tr>\n",
       "    <tr>\n",
       "      <th>6</th>\n",
       "      <td>lucabazzetto</td>\n",
       "      <td>elonmusk</td>\n",
       "    </tr>\n",
       "  </tbody>\n",
       "</table>\n",
       "</div>"
      ],
      "text/plain": [
       "           Source           Taget\n",
       "0  crispy_mcbacon   ciccio_feltri\n",
       "1  crispy_mcbacon    lucabazzetto\n",
       "2   ciccio_feltri  crispy_mcbacon\n",
       "3   ciccio_feltri    lucabazzetto\n",
       "4    lucabazzetto  crispy_mcbacon\n",
       "5    lucabazzetto   ciccio_feltri\n",
       "6    lucabazzetto        elonmusk"
      ]
     },
     "metadata": {},
     "output_type": "display_data"
    }
   ],
   "source": [
    "#salvo in un dataframe le relazioni\n",
    "def is_following(sourceid,targetid, api):\n",
    "    friendship = api.show_friendship(source_screen_name=sourceid, target_screen_name=targetid)\n",
    "    if friendship[0].following:\n",
    "        return True\n",
    "    return False\n",
    "\n",
    "files = read_json(f\"{data_folder}/NODUPLICATI.json\")\n",
    "sourceTarget = {}\n",
    "index = 0\n",
    "for source in files:\n",
    "    for target in files:\n",
    "        isFollowing = is_following(source,target,api)\n",
    "        if isFollowing:\n",
    "            sourceTargetTemp = {}\n",
    "            sourceTargetTemp[\"Source\"] = source\n",
    "            sourceTargetTemp[\"Taget\"] = target\n",
    "            sourceTarget[index] = sourceTargetTemp\n",
    "            index = index + 1\n",
    "\n",
    "serialize_json(data_folder,\"prova.json\", sourceTarget)\n",
    "df = pd.DataFrame.from_dict(sourceTarget,orient='index')\n",
    "display(df)\n",
    "df.to_csv(\"sourceTarget.csv\", index=False, encoding='utf-8')"
   ]
  },
  {
   "cell_type": "code",
   "execution_count": null,
   "metadata": {
    "collapsed": false,
    "jupyter": {
     "outputs_hidden": false
    },
    "pycharm": {
     "name": "#%% creo il grafo diretto\n"
    }
   },
   "outputs": [],
   "source": [
    "allDetailsFromUsers = read_json(f\"{data_folder}/puntoQuattroProva.json\")\n",
    "dfUsersDetails = pd.DataFrame.from_dict(allDetailsFromUsers,orient='index')\n",
    "dfUsersFriendship = pd.read_csv(\"sourceTarget.csv\")\n",
    "display(dfUsersFriendship)\n",
    "graph = nx.Graph()\n",
    "#aggiunta membri gruppo come attributi\n",
    "graph.graph[\"members\"] = [\"Luca\",\"Thomas\",\"Agustin\",\"Edoardo\"]\n",
    "\n",
    "\n",
    "for index,row in dfUsersDetails.iterrows():\n",
    "    graph.add_node(row['id'], name = row['name'],screen_name=row['screen_name'],location = row['location'],followers_count = row['followers_count'],friends_count = row['friends_count'])\n",
    "\n",
    "for index, row in dfUsersFriendship.iterrows():\n",
    "    graph.add_edge(row[\"Source\"], row[\"Target\"])\n",
    "\n",
    "nx.write_gpickle(graph,\"data/graph.pkl\")"
   ]
  },
  {
   "cell_type": "code",
   "execution_count": null,
   "metadata": {
    "collapsed": false,
    "jupyter": {
     "outputs_hidden": false
    },
    "pycharm": {
     "name": "#%% grafo interattivo\n"
    }
   },
   "outputs": [],
   "source": [
    "graph = nx.read_gpickle(\"data/graph.pkl\")\n",
    "nt = Network(\n",
    "    height=\"100%\",\n",
    "    width=\"100%\",\n",
    "    bgcolor=\"222222\",\n",
    "    font_color=\"white\",\n",
    "    heading=\"progetto\"\n",
    ")\n",
    "nt.barnes_hut()\n",
    "nt.from_nx(graph)\n",
    "neighbor_map = nt.get_adj_list()\n",
    "for node in nt.nodes:\n",
    "    node[\"Value\"] = len(neighbor_map[node['screen_name']])\n",
    "nt.show(\"grafico.html\")"
   ]
  },
  {
   "cell_type": "code",
   "execution_count": null,
   "metadata": {
    "collapsed": false,
    "jupyter": {
     "outputs_hidden": false
    },
    "pycharm": {
     "name": "#%% punto5\n"
    }
   },
   "outputs": [],
   "source": [
    "#GRAFO ORIENTATO\n",
    "allDataPoint4 = read_json(f\"{data_folder}/puntoQuattro.json\")\n",
    "graph = nx.DiGraph()\n",
    "graph.add_nodes_from(allDataPoint4)\n",
    "\n",
    "#graph.graph[\"members\"] = [\"Luca\",\"Thomas\",\"Agustin\",\"Edoardo\"]\n",
    "\n",
    "for user in allDataPoint4:\n",
    "    for user2 in allDataPoint4:\n",
    "        friendship = api.show_friendship(source_screen_name = user,target_screen_name = user2)\n",
    "        if friendship[0].followed_by:\n",
    "            graph.add_edge(user2,user)\n",
    "        if friendship[0].following:\n",
    "            graph.add_edge(user,user2)\n",
    "\n",
    "nx.write_gpickle(graph,\"data/graphOriented.pkl\")"
   ]
  },
  {
   "cell_type": "code",
   "execution_count": null,
   "metadata": {
    "collapsed": false,
    "jupyter": {
     "outputs_hidden": false
    },
    "pycharm": {
     "name": "#%%\n"
    }
   },
   "outputs": [],
   "source": [
    "#GRAFO NON ORIENTATO\n",
    "allDataPoint4 = read_json(f\"{data_folder}/puntoQuattro.json\")\n",
    "graph = nx.Graph()\n",
    "graph.add_nodes_from(allDataPoint4)\n",
    "\n",
    "#graph.graph[\"members\"] = [\"Luca\",\"Thomas\",\"Agustin\",\"Edoardo\"]\n",
    "\n",
    "for user in allDataPoint4:\n",
    "    for user2 in allDataPoint4:\n",
    "        friendship = api.show_friendship(source_screen_name = user,target_screen_name = user2)\n",
    "        if friendship[0].followed_by | friendship[0].following:\n",
    "            graph.add_edge(user,user2)\n",
    "\n",
    "nx.write_gpickle(graph,\"data/graphNoOriented.pkl\")"
   ]
  },
  {
   "cell_type": "code",
   "execution_count": null,
   "metadata": {
    "collapsed": false,
    "jupyter": {
     "outputs_hidden": false
    },
    "pycharm": {
     "name": "#%% grafo interattivo\n"
    }
   },
   "outputs": [],
   "source": [
    "graph = nx.read_gpickle(\"data/graphNoOriented.pkl\")\n",
    "nt = Network(\n",
    "    height=\"100%\",\n",
    "    width=\"100%\",\n",
    "    bgcolor=\"222222\",\n",
    "    font_color=\"white\",\n",
    "    heading=\"progetto\"\n",
    ")\n",
    "nt.barnes_hut()\n",
    "nt.from_nx(graph)\n",
    "neighbor_map = nt.get_adj_list()\n",
    "for node in nt.nodes:\n",
    "    node[\"Value\"] = len(neighbor_map[node['id']])\n",
    "nt.show(\"grafico.html\")"
   ]
  },
  {
   "cell_type": "code",
   "execution_count": null,
   "metadata": {
    "collapsed": false,
    "jupyter": {
     "outputs_hidden": false
    },
    "pycharm": {
     "name": "#%% following & followers\n"
    }
   },
   "outputs": [],
   "source": [
    "username = \"lucabazzetto\"\n",
    "quantity = 10\n",
    "AllUsers = {}\n",
    "dataOfUser = []\n",
    "for follower in tweepy.Cursor(\n",
    "    api.followers,\n",
    "    screen_name = username,\n",
    "    skip_status=True,\n",
    "    include_user_entities = False\n",
    ").items(quantity):\n",
    "    dataOfUser.append(follower._json[\"screen_name\"])\n",
    "\n",
    "for friend in tweepy.Cursor(\n",
    "    api.friends,\n",
    "    screen_name = username,\n",
    "    skip_status=True,\n",
    "    include_user_entities = False\n",
    ").items(quantity):\n",
    "    jsonData = friend._json[\"screen_name\"]\n",
    "    if jsonData not in dataOfUser:\n",
    "        dataOfUser.append(jsonData)\n",
    "\n",
    "AllUsers[username] = dataOfUser\n",
    "serialize_json(data_folder,\"lucabazzettoALL.json\", AllUsers)"
   ]
  },
  {
   "cell_type": "code",
   "execution_count": 53,
   "metadata": {
    "collapsed": false,
    "jupyter": {
     "outputs_hidden": false
    },
    "pycharm": {
     "name": "#%% lettura\n"
    }
   },
   "outputs": [
    {
     "name": "stdout",
     "output_type": "stream",
     "text": [
      "Grafo non connesso\n",
      "Grafo non bipartito\n",
      "Centralità del mezzo:  {'crispy_mcbacon': 0.0, 'ciccio_feltri': 0.047619047619047616, 'lucabazzetto': 0.14285714285714285, 'elonmusk': 0.0, 'Tomve99': 0.047619047619047616, 'giucruciani': 0.0, 'Miriam_58646': 0.0, 'GoldenYoann3D': 0.0}\n",
      " \n",
      "Centralità della vicinanza:  {'crispy_mcbacon': 0.5102040816326531, 'ciccio_feltri': 0.5952380952380952, 'lucabazzetto': 0.7142857142857143, 'elonmusk': 0.44642857142857145, 'Tomve99': 0.5952380952380952, 'giucruciani': 0.44642857142857145, 'Miriam_58646': 0.0, 'GoldenYoann3D': 0.0}\n",
      " \n",
      "Centralità di grado:  {'crispy_mcbacon': 0.42857142857142855, 'ciccio_feltri': 0.5714285714285714, 'lucabazzetto': 0.7142857142857142, 'elonmusk': 0.2857142857142857, 'Tomve99': 0.5714285714285714, 'giucruciani': 0.2857142857142857, 'Miriam_58646': 0.0, 'GoldenYoann3D': 0.0}\n",
      " \n",
      "In-degree centrality:  {'crispy_mcbacon': 0.42857142857142855, 'ciccio_feltri': 0.42857142857142855, 'lucabazzetto': 0.42857142857142855, 'elonmusk': 0.2857142857142857, 'Tomve99': 0.42857142857142855, 'giucruciani': 0.2857142857142857, 'Miriam_58646': 0.0, 'GoldenYoann3D': 0.0}\n",
      " \n",
      "Out-degree centrality:  {'crispy_mcbacon': 0.42857142857142855, 'ciccio_feltri': 0.5714285714285714, 'lucabazzetto': 0.7142857142857142, 'elonmusk': 0.0, 'Tomve99': 0.5714285714285714, 'giucruciani': 0.0, 'Miriam_58646': 0.0, 'GoldenYoann3D': 0.0}\n",
      " \n",
      "Page Rank:  {'crispy_mcbacon': 0.1540525438270348, 'ciccio_feltri': 0.16305207559173182, 'lucabazzetto': 0.16897490407243024, 'elonmusk': 0.1194041149079767, 'Tomve99': 0.1630520755917318, 'giucruciani': 0.11940411490797671, 'Miriam_58646': 0.05603008555055895, 'GoldenYoann3D': 0.05603008555055895}\n",
      " \n",
      "HITS:  ({'crispy_mcbacon': 0.16797010515848834, 'ciccio_feltri': 0.19285549519511933, 'lucabazzetto': 0.21774088523175034, 'elonmusk': 0.11428900960976134, 'Tomve99': 0.19285549519511933, 'giucruciani': 0.11428900960976134, 'Miriam_58646': 0.0, 'GoldenYoann3D': 0.0}, {'crispy_mcbacon': 0.16797010497336712, 'ciccio_feltri': 0.19285549528188156, 'lucabazzetto': 0.21774088559039603, 'elonmusk': 0.11428900943623695, 'Tomve99': 0.19285549528188156, 'giucruciani': 0.11428900943623695, 'Miriam_58646': 0.0, 'GoldenYoann3D': 0.0})\n",
      "\n"
     ]
    }
   ],
   "source": [
    "#punto 7/8/9\n",
    "from networkx.algorithms.distance_measures import center\n",
    "\n",
    "noOriented = nx.read_gpickle(\"data/graphNoOriented.pkl\")\n",
    "oriented = nx.read_gpickle(\"data/graphOriented.pkl\")\n",
    "if(nx.is_connected(noOriented)):\n",
    "    print(\"Grafo connesso\"),\n",
    "    print(\"Centro: \", end=\" \")\n",
    "    print(nx.center(noOriented))\n",
    "    print(\"Diametro: \", end=\" \")\n",
    "    print(nx.diameter(noOriented))\n",
    "    print(\"Raggio: \", end=\" \")\n",
    "    print(nx.radius(noOriented))\n",
    "    \n",
    "    \n",
    "else:\n",
    "    print(\"Grafo non connesso\")\n",
    "    \n",
    "if(nx.is_bipartite(noOriented)):\n",
    "    print(\"Grafo bipartito\")\n",
    "else:\n",
    "    print(\"Grafo non bipartito\")\n",
    "    \n",
    "\n",
    "    \n",
    "bet = nx.betweenness_centrality(noOriented)\n",
    "close = nx.closeness_centrality(noOriented)\n",
    "degree = nx.degree_centrality(noOriented)\n",
    "ind = nx.in_degree_centrality(oriented)\n",
    "outd = nx.out_degree_centrality(oriented)\n",
    "pr = nx.pagerank(oriented)\n",
    "hits = nx.hits(noOriented)\n",
    "\n",
    "print(\"Centralità del mezzo: \", end=\" \")\n",
    "print(bet)\n",
    "print(\" \")\n",
    "print(\"Centralità della vicinanza: \", end=\" \")\n",
    "print(close)\n",
    "print(\" \")\n",
    "print(\"Centralità di grado: \", end=\" \") #solo in grafi bipartiti\n",
    "print(degree)\n",
    "print(\" \")\n",
    "\n",
    "print(\"In-degree centrality: \", end=\" \")\n",
    "print(ind)\n",
    "print(\" \")\n",
    "print(\"Out-degree centrality: \", end=\" \")\n",
    "print(outd)\n",
    "print(\" \")\n",
    "#Da vedere se bisogna modificare alpha (non so cosa sia) e altri parametri\n",
    "print(\"Page Rank: \", end=\" \")\n",
    "print(pr)\n",
    "print(\" \")\n",
    "#Vengono ripetuti 2 volte i dati\n",
    "print(\"HITS: \", end=\" \")\n",
    "print(hits)\n",
    "print()"
   ]
  },
  {
   "cell_type": "code",
   "execution_count": 65,
   "metadata": {
    "collapsed": false,
    "jupyter": {
     "outputs_hidden": false
    },
    "pycharm": {
     "name": "#%% dettagli profilo di tutti gli utenti\n"
    }
   },
   "outputs": [
    {
     "data": {
      "image/png": "[encoded data removed]",
      "text/plain": [
       "<Figure size 720x720 with 1 Axes>"
      ]
     },
     "metadata": {},
     "output_type": "display_data"
    }
   ],
   "source": [
    "#Provo a disegnarlo (non scritto nella consegna)\n",
    "import matplotlib.pyplot as plt\n",
    "from pylab import rcParams\n",
    "rcParams['figure.figsize'] = 10,10\n",
    "\n",
    "nx.draw_networkx(\n",
    "    oriented,\n",
    "    pos = nx.spring_layout(oriented),\n",
    "    node_color = \"#FF0000\",\n",
    "    width = 2,\n",
    "    edge_cmap = plt.cm.Blues,\n",
    "    with_labels = True\n",
    ")\n",
    "plt.show()\n",
    "plt.close()\n"
   ]
  },
  {
   "cell_type": "code",
   "execution_count": 62,
   "metadata": {
    "collapsed": false,
    "jupyter": {
     "outputs_hidden": false
    },
    "pycharm": {
     "name": "#%%\n"
    }
   },
   "outputs": [
    {
     "data": {
      "image/png": "[encoded data removed]",
      "text/plain": [
       "<Figure size 720x720 with 1 Axes>"
      ]
     },
     "metadata": {},
     "output_type": "display_data"
    }
   ],
   "source": [
    "#punto 10 (non richiesto il disegno)\n",
    "\n",
    "oriented = nx.read_gpickle(\"data/graphOriented.pkl\")\n",
    "tomve99 = nx.ego_graph(noOriented, \"Tomve99\", radius=1)\n",
    "\n",
    "nx.draw_networkx(\n",
    "    tomve99,\n",
    "    pos = nx.spring_layout(tomve99),\n",
    "    node_color = \"#FF0000\",\n",
    "    edge_color = \"#A9A9A9\",\n",
    "    width = 2,\n",
    "    edge_cmap = plt.cm.Blues,\n",
    "    with_labels = True\n",
    ")\n",
    "plt.savefig(\"data/tomve99.pdf\")\n",
    "plt.show()\n",
    "plt.close()"
   ]
  },
  {
   "cell_type": "code",
   "execution_count": 18,
   "metadata": {
    "collapsed": false,
    "jupyter": {
     "outputs_hidden": false
    },
    "pycharm": {
     "name": "#%%\n"
    }
   },
   "outputs": [
    {
     "name": "stdout",
     "output_type": "stream",
     "text": [
      "Cricca massima:  {'ciccio_feltri', 'lucabazzetto', 'Tomve99', 'crispy_mcbacon'}\n",
      " \n",
      "Dimensione della cricca massima:  4\n",
      " \n"
     ]
    }
   ],
   "source": [
    "#punto 10b-c\n",
    "from networkx.algorithms.approximation import clique\n",
    "\n",
    "print(\"Cricca massima: \", end=\" \")\n",
    "print(clique.max_clique(tomve99))\n",
    "print(\" \")\n",
    "\n",
    "print(\"Dimensione della cricca massima: \", end=\" \")\n",
    "print(clique.large_clique_size(tomve99))\n",
    "print(\" \")"
   ]
  },
  {
   "cell_type": "code",
   "execution_count": null,
   "metadata": {
    "collapsed": false,
    "jupyter": {
     "outputs_hidden": false
    },
    "pycharm": {
     "name": "#%%\n"
    }
   },
   "outputs": [],
   "source": [
    "#Punto 11\n",
    "#Per ora non funziona perché il grafo ha alcuni nodi senza archi\n",
    "print(\"Copertura minima degli archi: \", end=\" \")\n",
    "print(nx.min_edge_cover(noOriented))\n",
    "print(\" \")\n"
   ]
  },
  {
   "cell_type": "code",
   "execution_count": 26,
   "metadata": {
    "id": "4Wd9GgR10Hz6",
    "outputId": "59c128d4-eb39-40c2-a5c1-9692e768ae2c",
    "pycharm": {
     "name": "#%% punto5\n"
    }
   },
   "outputs": [
    {
     "name": "stdout",
     "output_type": "stream",
     "text": [
      "Coefficiente omega:  -2.220446049250313e-16\n",
      " \n",
      "Coefficiente sigma:  0.9999999999999998\n",
      " \n"
     ]
    }
   ],
   "source": [
    "#Punto 12\n",
    "#Per ora non funziona perché il grafo ha alcuni nodi senza archi\n",
    "print(\"Coefficiente omega: \", end=\" \")\n",
    "print(nx.omega(tomve99))\n",
    "print(\" \")\n",
    "print(\"Coefficiente sigma: \", end=\" \")\n",
    "print(nx.sigma(tomve99))\n",
    "print(\" \")\n",
    "#Come si fa a stimare la small-world-ness? basta calcolare omega e sigma?"
   ]
  },
  {
   "cell_type": "code",
   "execution_count": 70,
   "metadata": {},
   "outputs": [
    {
     "ename": "IndentationError",
     "evalue": "expected an indented block (<ipython-input-70-dd02def787ca>, line 31)",
     "output_type": "error",
     "traceback": [
      "\u001b[1;36m  File \u001b[1;32m\"<ipython-input-70-dd02def787ca>\"\u001b[1;36m, line \u001b[1;32m31\u001b[0m\n\u001b[1;33m    bet1 = []\u001b[0m\n\u001b[1;37m             ^\u001b[0m\n\u001b[1;31mIndentationError\u001b[0m\u001b[1;31m:\u001b[0m expected an indented block\n"
     ]
    }
   ],
   "source": [
    "from scipy import stats\n",
    "##bet  close  degree  ind  outd\n",
    "#pr, hits \n",
    "\n",
    "allCent = [bet, close, degree, ind, outd, pr] #hits\n",
    "\n",
    "allCent1 = []\n",
    "index = 0\n",
    "\n",
    "\n",
    "for cent in allCent:\n",
    "    for (k,v) in cent.items():\n",
    "        allCent1.append(v)\n",
    "\n",
    "print(allCent1)\n",
    "\n",
    "\n",
    "for cent1 in allCent:\n",
    "    for cent2 in allCent:\n",
    "        if (cent1 != cent2):\n",
    "            for (k,v) in cent1.items():\n",
    "                \n",
    "\n",
    "\n",
    "    \n",
    "#Trasmormare tutti vettori in vettori di solo numeri?\n",
    "#fare 2 for e calcolare per ogni vettore l'indice pearson e kendall\n",
    "\n",
    "\n",
    "#pearson = np.array([bet, close, degree, ind, outd])\n",
    "bet1 = []\n",
    "close1 = []\n",
    "for (k,v) in bet.items():\n",
    "    bet1.append(v)\n",
    "for (k,v) in close.items():\n",
    "    close1.append(v)\n",
    "stats.stats.pearsonr(bet1, close1)"
   ]
  },
  {
   "cell_type": "code",
   "execution_count": null,
   "metadata": {},
   "outputs": [],
   "source": []
  },
  {
   "cell_type": "code",
   "execution_count": null,
   "metadata": {},
   "outputs": [],
   "source": []
  },
  {
   "cell_type": "code",
   "execution_count": null,
   "metadata": {},
   "outputs": [],
   "source": []
  },
  {
   "cell_type": "code",
   "execution_count": null,
   "metadata": {},
   "outputs": [],
   "source": []
  },
  {
   "cell_type": "code",
   "execution_count": null,
   "metadata": {},
   "outputs": [],
   "source": []
  },
  {
   "cell_type": "code",
   "execution_count": null,
   "metadata": {},
   "outputs": [],
   "source": []
  }
 ],
 "metadata": {
  "colab": {
   "name": "Progetto.ipynb",
   "provenance": []
  },
  "kernelspec": {
   "display_name": "Python 3",
   "language": "python",
   "name": "python3"
  },
  "language_info": {
   "codemirror_mode": {
    "name": "ipython",
    "version": 3
   },
   "file_extension": ".py",
   "mimetype": "text/x-python",
   "name": "python",
   "nbconvert_exporter": "python",
   "pygments_lexer": "ipython3",
   "version": "3.8.3"
  }
 },
 "nbformat": 4,
 "nbformat_minor": 4
}
