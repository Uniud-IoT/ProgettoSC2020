{
 "cells": [
  {
   "cell_type": "code",
   "execution_count": 11,
   "metadata": {
    "id": "WGcpU4UD0HzN",
    "outputId": "98308300-43d4-407b-fb4a-97e4b4632752"
   },
   "outputs": [
    {
     "name": "stdout",
     "output_type": "stream",
     "text": [
      "imported completed! \n"
     ]
    }
   ],
   "source": [
    "import pandas as pd\n",
    "import numpy as np\n",
    "import scipy as sp\n",
    "import os\n",
    "import json\n",
    "import pprint\n",
    "%matplotlib inline\n",
    "import tweepy\n",
    "import networkx as nx\n",
    "import random\n",
    "from pyvis.network import Network\n",
    "from functions_file import *\n",
    "data_folder = \"data\"\n",
    "print(\"imported completed! \")"
   ]
  },
  {
   "cell_type": "code",
   "execution_count": 2,
   "metadata": {
    "id": "0JMt8Isd0HzX",
    "pycharm": {
     "name": "#%% Twitter API credentials\n"
    }
   },
   "outputs": [],
   "source": [
    "consumer_key = \"ilMCDSvsK2gQPzNpExcN9w0dj\"\n",
    "consumer_secret = \"LJhNjYbJwHOcmzihgJDsaVIdYxgkCF3aezr4v1k9pQkoH9mmgl\"\n",
    "access_token = \"426038638-16YAVtywETEPoD9F1M5P6I3IavaZwRUF3RdjVTGd\"\n",
    "access_secret = \"n0G7Hddsjm9HAFvvNY1ntNQk475PUTJg4Ub8F1x6k8ozn\"\n",
    "bearer_token = \"AAAAAAAAAAAAAAAAAAAAAPUTJQEAAAAA8%2FTr01XqXtQ7NcaRUgtKtK2M%2BR0%3D7AByu1bjwYdcf0Xs7mOeVb6FKNCYEIW4VN16WMrB7CO7G1xXxU\""
   ]
  },
  {
   "cell_type": "code",
   "execution_count": 3,
   "metadata": {
    "id": "ZTpnKt1M0Hzc",
    "outputId": "a0781e12-8ee8-4e8a-d514-9e4c1da90edf",
    "pycharm": {
     "name": "#%% autentication\n"
    }
   },
   "outputs": [
    {
     "name": "stdout",
     "output_type": "stream",
     "text": [
      "Authentication completed successfully!\n"
     ]
    }
   ],
   "source": [
    "auth = tweepy.OAuthHandler(consumer_key, consumer_secret)\n",
    "auth.set_access_token(access_token, access_secret)\n",
    "api = tweepy.API(auth, wait_on_rate_limit = True, wait_on_rate_limit_notify = True)\n",
    "if api.verify_credentials :\n",
    "  print ('Authentication completed successfully!')"
   ]
  },
  {
   "cell_type": "code",
   "execution_count": 13,
   "metadata": {
    "id": "p3pnXKMB0Hzm",
    "outputId": "6f0ca181-ed5c-4259-c0a6-968fb2b2a824",
    "pycharm": {
     "name": "#%% punto 1 follower\n"
    }
   },
   "outputs": [
    {
     "name": "stdout",
     "output_type": "stream",
     "text": [
      "Data serialized to path: data/followersLucaThomas.json\n"
     ]
    }
   ],
   "source": [
    "users = [\"lucabazzetto\",\"Tomve99\"]\n",
    "#usersID = usersID(users)\n",
    "quantity = 4\n",
    "followers = {}\n",
    "for user in users:\n",
    "    followers_of_user = []\n",
    "    for follow in tweepy.Cursor(\n",
    "        api.followers,\n",
    "        screen_name = user,\n",
    "        skip_status=True,\n",
    "        include_user_entities = False\n",
    "    ).items(quantity):\n",
    "        json_data = follow._json\n",
    "        if json_data not in followers_of_user:\n",
    "            followers_of_user.append(json_data[\"screen_name\"])\n",
    "    followers[user] = followers_of_user\n",
    "serialize_json(data_folder,\"followersLucaThomas.json\", followers)"
   ]
  },
  {
   "cell_type": "code",
   "execution_count": 12,
   "metadata": {
    "id": "tM9Q6JJS0Hzq",
    "outputId": "936cb8ca-2166-411a-e2f5-ed43c72c7331",
    "pycharm": {
     "name": "#%% punto 2 friends\n"
    }
   },
   "outputs": [
    {
     "name": "stdout",
     "output_type": "stream",
     "text": [
      "Data serialized to path: data/friendsLucaThomas.json\n"
     ]
    }
   ],
   "source": [
    "users = [\"lucabazzetto\",\"Tomve99\"]\n",
    "quantity = 4\n",
    "friends = {}\n",
    "for user in users:\n",
    "    friends_of_user = []\n",
    "    for friend in tweepy.Cursor(\n",
    "        api.friends,\n",
    "        screen_name = user,\n",
    "        skip_status=True,\n",
    "        include_user_entities = False\n",
    "    ).items(quantity):\n",
    "        json_data = friend._json\n",
    "        friends_of_user.append(friend._json[\"screen_name\"])\n",
    "    friends[user] = friends_of_user\n",
    "serialize_json(data_folder,\"friendsLucaThomas.json\", friends)"
   ]
  },
  {
   "cell_type": "code",
   "execution_count": 5,
   "metadata": {
    "id": "QoXXBGlb0Hzu",
    "outputId": "191eb350-4830-49a0-df0c-b19015ffd9c7",
    "pycharm": {
     "name": "#%% punto 2\n"
    }
   },
   "outputs": [
    {
     "name": "stdout",
     "output_type": "stream",
     "text": [
      "Data read fron path: data/followersLucaThomas.json\n",
      "Data serialized to path: data/followersOfFollowers.json\n"
     ]
    }
   ],
   "source": [
    "\n",
    "def random_json_with_control(json_array, quantity, all):\n",
    "    a = quantity\n",
    "    array = []\n",
    "    while(a!=0):\n",
    "        item = random.choice(json_array)\n",
    "        if item not in array and item not in all:\n",
    "            array.append(item)\n",
    "            a = a-1\n",
    "    return array\n",
    "\n",
    "followersALL = read_json(f\"{data_folder}/followersLucaThomas.json\")\n",
    "fiveFollowers = []\n",
    "\n",
    "# Estraggo per ogni utente 5 followers\n",
    "for user in followersALL:\n",
    "    fiveFollowers.extend(random_json_with_control(followersALL[user], 1, fiveFollowers))\n",
    "\n",
    "quantity = 2\n",
    "followersOfFollowers = {}\n",
    "\n",
    "for user in fiveFollowers:\n",
    "    followers_of_user = []\n",
    "    for follower in tweepy.Cursor(\n",
    "        api.followers,\n",
    "        screen_name = user,\n",
    "        skip_status=True,\n",
    "        include_user_entities = False\n",
    "    ).items(quantity):\n",
    "        json_data = follower._json\n",
    "        followers_of_user.append(follower._json[\"screen_name\"])\n",
    "    followersOfFollowers[user] = followers_of_user\n",
    "\n",
    "serialize_json(data_folder,\"followersOfFollowers.json\", followersOfFollowers)"
   ]
  },
  {
   "cell_type": "code",
   "execution_count": 6,
   "metadata": {
    "id": "7qIqh9P00Hzx",
    "outputId": "3981d93b-12b7-4175-ffbc-09f3369e6756",
    "pycharm": {
     "name": "#%% punto 3\n"
    }
   },
   "outputs": [
    {
     "name": "stdout",
     "output_type": "stream",
     "text": [
      "Data read fron path: data/friendsLucaThomas.json\n",
      "Data serialized to path: data/friendsOfFriends.json\n"
     ]
    }
   ],
   "source": [
    "friendsALL = read_json(f\"{data_folder}/friendsLucaThomas.json\")\n",
    "fiveFriends = []\n",
    "\n",
    "# Estraggo per ogni utente 5 followers\n",
    "for user in friendsALL:\n",
    "    fiveFriends.extend(random_json_with_control(friendsALL[user], 2, fiveFriends))\n",
    "\n",
    "quantity = 2\n",
    "friendsOfFriends = {}\n",
    "for user in fiveFriends:\n",
    "    friends_of_user = []\n",
    "    for friend in tweepy.Cursor(\n",
    "        api.friends,\n",
    "        screen_name = user,\n",
    "        skip_status=True,\n",
    "        include_user_entities = False\n",
    "    ).items(quantity):\n",
    "        json_data = friend._json\n",
    "        friends_of_user.append(friend._json[\"screen_name\"])\n",
    "    friendsOfFriends[user] = friends_of_user\n",
    "serialize_json(data_folder,\"friendsOfFriends.json\", friendsOfFriends)"
   ]
  },
  {
   "cell_type": "code",
   "execution_count": 7,
   "metadata": {
    "id": "mSUmvjOw0Hz1",
    "outputId": "035d4a27-db73-4904-e38b-ee759e5a3283",
    "pycharm": {
     "name": "#%% punto 4\n"
    }
   },
   "outputs": [
    {
     "name": "stdout",
     "output_type": "stream",
     "text": [
      "Data read fron path: data/friendsOfFriends.json\n",
      "Data read fron path: data/followersOfFollowers.json\n",
      "Data read fron path: data/followersLucaThomas.json\n",
      "Data read fron path: data/friendsLucaThomas.json\n",
      "Data serialized to path: data/NODUPLICATI.json\n",
      "Data serialized to path: data/puntoQuattro.json\n"
     ]
    }
   ],
   "source": [
    "allFriends = {}\n",
    "allFriends.update(read_json(f\"{data_folder}/friendsOfFriends.json\"))\n",
    "allFriends.update(read_json(f\"{data_folder}/followersOfFollowers.json\"))\n",
    "allFriends.update(read_json(f\"{data_folder}/followersLucaThomas.json\"))\n",
    "allFriends.update(read_json(f\"{data_folder}/friendsLucaThomas.json\"))\n",
    "#serialize_json(data_folder,\"allFriends.json\", allFriends)\n",
    "#pprint.PrettyPrinter().pprint(allFriends)\n",
    "\n",
    "vector = []\n",
    "for (k,v) in allFriends.items():\n",
    "    for item in v:\n",
    "        if item not in vector:\n",
    "            vector.append(item)\n",
    "\n",
    "serialize_json(data_folder,\"NODUPLICATI.json\", vector)\n",
    "\n",
    "puntoQuattro = {}\n",
    "\n",
    "for user in vector:\n",
    "    json_data = api.get_user(user)._json\n",
    "    foundInfo = {}\n",
    "    foundInfo [\"id\"] = json_data[\"id\"]\n",
    "    foundInfo [\"name\"] = json_data[\"name\"]\n",
    "    foundInfo [\"screen_name\"] = json_data[\"screen_name\"]\n",
    "    foundInfo [\"location\"] = json_data[\"location\"]\n",
    "    foundInfo [\"followers_count\"] = json_data[\"followers_count\"]\n",
    "    foundInfo [\"friends_count\"] = json_data[\"friends_count\"]\n",
    "    puntoQuattro[user] = foundInfo\n",
    "serialize_json(data_folder,\"puntoQuattro.json\", puntoQuattro)"
   ]
  },
  {
   "cell_type": "code",
   "execution_count": 7,
   "metadata": {
    "collapsed": false,
    "jupyter": {
     "outputs_hidden": false
    },
    "pycharm": {
     "name": "#%% friendship\n"
    }
   },
   "outputs": [
    {
     "name": "stdout",
     "output_type": "stream",
     "text": [
      "Data read fron path: data/NODUPLICATI.json\n"
     ]
    },
    {
     "data": {
      "text/plain": [
       "'\\npp = pprint.PrettyPrinter()\\npp.pprint(prova)\\n\\nserialize_json(data_folder,\"prova.json\", prova)\\ngraph = nx.DiGraph()\\ngraph.add_nodes_from(\"files\")\\n\\nallDataPoint4 = read_json(f\"{data_folder}/puntoQuattro.json\")\\ngraph = nx.DiGraph()\\ngraph.add_nodes_from(allDataPoint4)\\ngraph.graph[\"members\"] = [\"Luca\",\"Thomas\",\"Agustin\",\"Edoardo\"]\\n\\nfor user in allDataPoint4:\\n    for user2 in allDataPoint4:\\n        friendship = api.show_friendship(source_screen_name = user,target_screen_name = user2)\\n        if friendship[0].followed_by:\\n            graph.add_edge(user2,user)\\n        if friendship[0].following:\\n            graph.add_edge(user,user2)\\n\\nnx.write_gpickle(graph,\"data/graph.pkl\")\\n'"
      ]
     },
     "execution_count": 7,
     "metadata": {},
     "output_type": "execute_result"
    }
   ],
   "source": [
    "def get_friendship(sourceid, targetid, api):\n",
    "    friendship = api.show_friendship(source_screen_name=sourceid, target_screen_name=targetid)\n",
    "    dictio = {\"source_id\":sourceid,\"targe_id\":targetid,\"relation\":\"no\"}\n",
    "    if friendship[0].followed_by:\n",
    "        dictio[\"relation\"] = \"targetToSource\"\n",
    "    if friendship[0].following:\n",
    "        dictio[\"relation\"] = \"SourceToTarget\"\n",
    "    return dictio\n",
    "\n",
    "files = read_json(f\"{data_folder}/NODUPLICATI.json\")\n",
    "prova = []\n",
    "for source in files:\n",
    "    for target in files:\n",
    "        if source != target:\n",
    "            prova.append(get_friendship(source,target,api))\n",
    "\n",
    "\"\"\"\n",
    "pp = pprint.PrettyPrinter()\n",
    "pp.pprint(prova)\n",
    "\n",
    "serialize_json(data_folder,\"prova.json\", prova)\n",
    "graph = nx.DiGraph()\n",
    "graph.add_nodes_from(\"files\")\n",
    "\n",
    "allDataPoint4 = read_json(f\"{data_folder}/puntoQuattro.json\")\n",
    "graph = nx.DiGraph()\n",
    "graph.add_nodes_from(allDataPoint4)\n",
    "graph.graph[\"members\"] = [\"Luca\",\"Thomas\",\"Agustin\",\"Edoardo\"]\n",
    "\n",
    "for user in allDataPoint4:\n",
    "    for user2 in allDataPoint4:\n",
    "        friendship = api.show_friendship(source_screen_name = user,target_screen_name = user2)\n",
    "        if friendship[0].followed_by:\n",
    "            graph.add_edge(user2,user)\n",
    "        if friendship[0].following:\n",
    "            graph.add_edge(user,user2)\n",
    "\n",
    "nx.write_gpickle(graph,\"data/graph.pkl\")\n",
    "\"\"\""
   ]
  },
  {
   "cell_type": "code",
   "execution_count": null,
   "metadata": {
    "collapsed": false,
    "jupyter": {
     "outputs_hidden": false
    },
    "pycharm": {
     "name": "#%% punto5\n"
    }
   },
   "outputs": [],
   "source": [
    "#GRAFO ORIENTATO\n",
    "allDataPoint4 = read_json(f\"{data_folder}/puntoQuattro.json\")\n",
    "graph = nx.DiGraph()\n",
    "graph.add_nodes_from(allDataPoint4)\n",
    "\n",
    "graph.graph[\"members\"] = [\"Luca\",\"Thomas\",\"Agustin\",\"Edoardo\"]\n",
    "\n",
    "for user in allDataPoint4:\n",
    "    for user2 in allDataPoint4:\n",
    "        friendship = api.show_friendship(source_screen_name = user,target_screen_name = user2)\n",
    "        if friendship[0].followed_by:\n",
    "            graph.add_edge(user2,user)\n",
    "        if friendship[0].following:\n",
    "            graph.add_edge(user,user2)\n",
    "\n",
    "nx.write_gpickle(graph,\"data/graphOriented.pkl\")"
   ]
  },
  {
   "cell_type": "code",
   "execution_count": null,
   "metadata": {
    "collapsed": false,
    "jupyter": {
     "outputs_hidden": false
    },
    "pycharm": {
     "name": "#%%\n"
    }
   },
   "outputs": [],
   "source": [
    "#GRAFO NON ORIENTATO\n",
    "allDataPoint4 = read_json(f\"{data_folder}/puntoQuattro.json\")\n",
    "graph = nx.Graph()\n",
    "graph.add_nodes_from(allDataPoint4)\n",
    "\n",
    "graph.graph[\"members\"] = [\"Luca\",\"Thomas\",\"Agustin\",\"Edoardo\"]\n",
    "\n",
    "for user in allDataPoint4:\n",
    "    for user2 in allDataPoint4:\n",
    "        friendship = api.show_friendship(source_screen_name = user,target_screen_name = user2)\n",
    "        if friendship[0].followed_by | friendship[0].following:\n",
    "            graph.add_edge(user,user2)\n",
    "\n",
    "nx.write_gpickle(graph,\"data/graphNoOriented.pkl\")"
   ]
  },
  {
   "cell_type": "code",
   "execution_count": null,
   "metadata": {
    "collapsed": false,
    "jupyter": {
     "outputs_hidden": false
    },
    "pycharm": {
     "name": "#%% grafo interattivo\n"
    }
   },
   "outputs": [],
   "source": [
    "graph = nx.read_gpickle(\"data/graphNoOriented.pkl\")\n",
    "nt = Network(\n",
    "    height=\"100%\",\n",
    "    width=\"100%\",\n",
    "    bgcolor=\"222222\",\n",
    "    font_color=\"white\",\n",
    "    heading=\"progetto\"\n",
    ")\n",
    "nt.barnes_hut()\n",
    "nt.from_nx(graph)\n",
    "neighbor_map = nt.get_adj_list()\n",
    "for node in nt.nodes:\n",
    "    node[\"Value\"] = len(neighbor_map[node['id']])\n",
    "nt.show(\"grafico.html\")"
   ]
  },
  {
   "cell_type": "code",
   "execution_count": null,
   "metadata": {
    "collapsed": false,
    "jupyter": {
     "outputs_hidden": false
    },
    "pycharm": {
     "name": "#%% following & followers\n"
    }
   },
   "outputs": [],
   "source": [
    "username = \"lucabazzetto\"\n",
    "quantity = 10\n",
    "AllUsers = {}\n",
    "dataOfUser = []\n",
    "for follower in tweepy.Cursor(\n",
    "    api.followers,\n",
    "    screen_name = username,\n",
    "    skip_status=True,\n",
    "    include_user_entities = False\n",
    ").items(quantity):\n",
    "    dataOfUser.append(follower._json[\"screen_name\"])\n",
    "\n",
    "for friend in tweepy.Cursor(\n",
    "    api.friends,\n",
    "    screen_name = username,\n",
    "    skip_status=True,\n",
    "    include_user_entities = False\n",
    ").items(quantity):\n",
    "    jsonData = friend._json[\"screen_name\"]\n",
    "    if jsonData not in dataOfUser:\n",
    "        dataOfUser.append(jsonData)\n",
    "\n",
    "AllUsers[username] = dataOfUser\n",
    "serialize_json(data_folder,\"lucabazzettoALL.json\", AllUsers)"
   ]
  },
  {
   "cell_type": "code",
   "execution_count": null,
   "metadata": {
    "collapsed": false,
    "jupyter": {
     "outputs_hidden": false
    },
    "pycharm": {
     "name": "#%% lettura\n"
    }
   },
   "outputs": [],
   "source": [
    "#punto 7\n",
    "from networkx.algorithms.distance_measures import center\n",
    "\n",
    "noOriented = nx.read_gpickle(\"data/graphNoOriented.pkl\")\n",
    "oriented = nx.read_gpickle(\"data/graphOriented.pkl\")\n",
    "if(nx.is_connected(noOriented)):\n",
    "    print(\"Grafo connesso\"),\n",
    "    print(\"Centro: \", end=\" \")\n",
    "    print(nx.center(noOriented))\n",
    "    print(\"Diametro: \", end=\" \")\n",
    "    print(nx.diameter(noOriented))\n",
    "    print(\"Raggio: \", end=\" \")\n",
    "    print(nx.radius(noOriented))\n",
    "    \n",
    "    \n",
    "else:\n",
    "    print(\"Grafo non connesso\")\n",
    "    \n",
    "if(nx.is_bipartite(noOriented)):\n",
    "    print(\"Grafo bipartito\")\n",
    "else:\n",
    "    print(\"Grafo non bipartito\")\n",
    "    \n",
    "\n",
    "    \n",
    " #la centralità del mezzo è una misura della centralità in un grafico basato sui percorsi più brevi\n",
    "print(\"Centralità del mezzo: \", end=\" \")\n",
    "print(nx.betweenness_centrality(noOriented))\n",
    "print(\" \")\n",
    "print(\"Centralità della vicinanza: \", end=\" \")\n",
    "print(nx.closeness_centrality(noOriented))\n",
    "print(\" \")\n",
    "print(\"Centralità di grado: \", end=\" \")\n",
    "print(nx.degree_centrality(noOriented))\n",
    "print(\" \")\n",
    "\n",
    "print(\"In-degree centrality: \", end=\" \")\n",
    "print(nx.in_degree_centrality(oriented))\n",
    "print(\" \")\n",
    "print(\"Out-degree centrality: \", end=\" \")\n",
    "print(nx.out_degree_centrality(oriented))\n",
    "print(\" \")\n",
    "#Da vedere se bisogna modificare alpha (non so cosa sia) e altri parametri\n",
    "print(\"Page Rank: \", end=\" \")\n",
    "print(nx.pagerank(oriented))\n",
    "print(\" \")\n",
    "#Vengono ripetuti 2 volte i dati\n",
    "print(\"HITS: \", end=\" \")\n",
    "print(nx.hits(noOriented))"
   ]
  },
  {
   "cell_type": "code",
   "execution_count": null,
   "metadata": {
    "collapsed": false,
    "jupyter": {
     "outputs_hidden": false
    },
    "pycharm": {
     "name": "#%% dettagli profilo di tutti gli utenti\n"
    }
   },
   "outputs": [],
   "source": [
    "#Provo a disegnarlo (non scritto nella consegna)\n",
    "import matplotlib.pyplot as plt\n",
    "from pylab import rcParams\n",
    "rcParams['figure.figsize'] = 10,10\n",
    "\n",
    "nx.draw_networkx(\n",
    "    oriented,\n",
    "    pos = nx.spring_layout(oriented),\n",
    "    node_color = \"#FF0000\",\n",
    "    width = 2,\n",
    "    edge_cmap = plt.cm.Blues,\n",
    "    with_labels = True\n",
    ")\n",
    "plt.show()\n",
    "plt.close()\n"
   ]
  },
  {
   "cell_type": "code",
   "execution_count": null,
   "metadata": {
    "collapsed": false,
    "jupyter": {
     "outputs_hidden": false
    },
    "pycharm": {
     "name": "#%%\n"
    }
   },
   "outputs": [],
   "source": [
    "#punto 10 (non richiesto il disegno)\n",
    "\n",
    "oriented = nx.read_gpickle(\"data/graphOriented.pkl\")\n",
    "tomve99 = nx.ego_graph(oriented, \"Tomve99\", radius=1)\n",
    "\n",
    "nx.draw_networkx(\n",
    "    tomve99,\n",
    "    pos = nx.spring_layout(tomve99),\n",
    "    node_color = \"#FF0000\",\n",
    "    edge_color = \"#A9A9A9\",\n",
    "    width = 2,\n",
    "    edge_cmap = plt.cm.Blues,\n",
    "    with_labels = True\n",
    ")\n",
    "plt.savefig(\"data/tomve99.pdf\")\n",
    "plt.show()\n",
    "plt.close()"
   ]
  },
  {
   "cell_type": "code",
   "execution_count": null,
   "metadata": {
    "collapsed": false,
    "jupyter": {
     "outputs_hidden": false
    },
    "pycharm": {
     "name": "#%%\n"
    }
   },
   "outputs": [],
   "source": [
    "#punto 10b-c\n",
    "from networkx.algorithms.approximation import clique\n",
    "clique.max_clique(tomve99)\n",
    "#nx.sigma(tomve99)"
   ]
  },
  {
   "cell_type": "code",
   "execution_count": null,
   "metadata": {
    "collapsed": false,
    "jupyter": {
     "outputs_hidden": false
    },
    "pycharm": {
     "name": "#%%\n"
    }
   },
   "outputs": [],
   "source": []
  },
  {
   "cell_type": "code",
   "execution_count": 26,
   "metadata": {
    "id": "4Wd9GgR10Hz6",
    "outputId": "59c128d4-eb39-40c2-a5c1-9692e768ae2c",
    "pycharm": {
     "name": "#%% punto5\n"
    }
   },
   "outputs": [
    {
     "name": "stdout",
     "output_type": "stream",
     "text": [
      "Data read fron path: data/puntoQuattro.json\n"
     ]
    }
   ],
   "source": []
  },
  {
   "cell_type": "code",
   "execution_count": 27,
   "metadata": {},
   "outputs": [
    {
     "name": "stdout",
     "output_type": "stream",
     "text": [
      "Data read fron path: data/puntoQuattro.json\n"
     ]
    },
    {
     "name": "stderr",
     "output_type": "stream",
     "text": [
      "Rate limit reached. Sleeping for: 10\n"
     ]
    }
   ],
   "source": [
    "#GRAFO NON ORIENTATO\n",
    "allDataPoint4 = read_json(f\"{data_folder}/puntoQuattro.json\")\n",
    "graph = nx.Graph()\n",
    "graph.add_nodes_from(allDataPoint4)\n",
    "\n",
    "#graph.graph[\"members\"] = [\"Luca\",\"Thomas\",\"Agustin\",\"Edoardo\"]\n",
    "\n",
    "for user in allDataPoint4:\n",
    "    for user2 in allDataPoint4:\n",
    "        friendship = api.show_friendship(source_screen_name = user,target_screen_name = user2)\n",
    "        if friendship[0].followed_by | friendship[0].following:\n",
    "            graph.add_edge(user,user2)\n",
    "\n",
    "nx.write_gpickle(graph,\"data/graphNoOriented.pkl\")"
   ]
  },
  {
   "cell_type": "code",
   "execution_count": 15,
   "metadata": {
    "id": "4afZSxTZ0Hz9",
    "pycharm": {
     "name": "#%% grafo interattivo\n"
    }
   },
   "outputs": [],
   "source": [
    "graph = nx.read_gpickle(\"data/graphNoOriented.pkl\")\n",
    "nt = Network(\n",
    "    height=\"100%\",\n",
    "    width=\"100%\",\n",
    "    bgcolor=\"222222\",\n",
    "    font_color=\"white\",\n",
    "    heading=\"progetto\"\n",
    ")\n",
    "nt.barnes_hut()\n",
    "nt.from_nx(graph)\n",
    "neighbor_map = nt.get_adj_list()\n",
    "for node in nt.nodes:\n",
    "    node[\"Value\"] = len(neighbor_map[node['id']])\n",
    "nt.show(\"grafico.html\")"
   ]
  },
  {
   "cell_type": "code",
   "execution_count": null,
   "metadata": {
    "id": "rapEdM7E0Hz_",
    "outputId": "f9a10cc6-6611-4415-c03a-08298f596d5a",
    "pycharm": {
     "name": "#%% following & followers\n"
    }
   },
   "outputs": [
    {
     "name": "stdout",
     "output_type": "stream",
     "text": [
      "Data serialized to path: data/lucabazzettoALL.json\n"
     ]
    }
   ],
   "source": [
    "#SE SI PUò ELIMINARE, ELIMINA\n",
    "username = \"lucabazzetto\"\n",
    "quantity = 10\n",
    "AllUsers = {}\n",
    "dataOfUser = []\n",
    "for follower in tweepy.Cursor(\n",
    "    api.followers,\n",
    "    screen_name = username,\n",
    "    skip_status=True,\n",
    "    include_user_entities = False\n",
    ").items(quantity):\n",
    "    dataOfUser.append(follower._json[\"screen_name\"])\n",
    "\n",
    "for friend in tweepy.Cursor(\n",
    "    api.friends,\n",
    "    screen_name = username,\n",
    "    skip_status=True,\n",
    "    include_user_entities = False\n",
    ").items(quantity):\n",
    "    jsonData = friend._json[\"screen_name\"]\n",
    "    if jsonData not in dataOfUser:\n",
    "        dataOfUser.append(jsonData)\n",
    "\n",
    "AllUsers[username] = dataOfUser\n",
    "serialize_json(data_folder,\"lucabazzettoALL.json\", AllUsers)"
   ]
  },
  {
   "cell_type": "code",
   "execution_count": null,
   "metadata": {
    "id": "OYBFwklg0H0C",
    "outputId": "4f523cdf-c87a-451e-aee5-fcd3e78babad",
    "pycharm": {
     "name": "#%% lettura\n"
    }
   },
   "outputs": [],
   "source": [
    "#punto 7\n",
    "from networkx.algorithms.distance_measures import center\n",
    "\n",
    "noOriented = nx.read_gpickle(\"data/graphNoOriented.pkl\")\n",
    "oriented = nx.read_gpickle(\"data/graphOriented.pkl\")\n",
    "if(nx.is_connected(noOriented)):\n",
    "    print(\"Grafo connesso\"),\n",
    "    print(\"Centro: \", end=\" \")\n",
    "    print(nx.center(noOriented))\n",
    "    print(\"Diametro: \", end=\" \")\n",
    "    print(nx.diameter(noOriented))\n",
    "    print(\"Raggio: \", end=\" \")\n",
    "    print(nx.radius(noOriented))\n",
    "    \n",
    "    \n",
    "else:\n",
    "    print(\"Grafo non connesso\")\n",
    "    \n",
    "if(nx.is_bipartite(noOriented)):\n",
    "    print(\"Grafo bipartito\")\n",
    "else:\n",
    "    print(\"Grafo non bipartito\")\n",
    "    \n",
    "\n",
    "    \n",
    " #la centralità del mezzo è una misura della centralità in un grafico basato sui percorsi più brevi\n",
    "print(\"Centralità del mezzo: \", end=\" \")\n",
    "print(nx.betweenness_centrality(noOriented))\n",
    "print(\" \")\n",
    "print(\"Centralità della vicinanza: \", end=\" \")\n",
    "print(nx.closeness_centrality(noOriented))\n",
    "print(\" \")\n",
    "print(\"Centralità di grado: \", end=\" \")\n",
    "print(nx.degree_centrality(noOriented))\n",
    "print(\" \")\n",
    "\n",
    "print(\"In-degree centrality: \", end=\" \")\n",
    "print(nx.in_degree_centrality(oriented))\n",
    "print(\" \")\n",
    "print(\"Out-degree centrality: \", end=\" \")\n",
    "print(nx.out_degree_centrality(oriented))\n",
    "print(\" \")\n",
    "#Da vedere se bisogna modificare alpha (non so cosa sia) e altri parametri\n",
    "print(\"Page Rank: \", end=\" \")\n",
    "print(nx.pagerank(oriented))\n",
    "print(\" \")\n",
    "#Vengono ripetuti 2 volte i dati\n",
    "print(\"HITS: \", end=\" \")\n",
    "print(nx.hits(noOriented))"
   ]
  },
  {
   "cell_type": "code",
   "execution_count": 42,
   "metadata": {
    "id": "P3THy2gp0H0E",
    "outputId": "45746e89-01b0-4490-a4da-2048f03ff8a8",
    "pycharm": {
     "name": "#%% dettagli profilo di tutti gli utenti\n"
    }
   },
   "outputs": [
    {
     "data": {
      "image/png": "[encoded data removed]",
      "text/plain": [
       "<Figure size 720x720 with 1 Axes>"
      ]
     },
     "metadata": {},
     "output_type": "display_data"
    }
   ],
   "source": [
    "#Provo a disegnarlo (non scritto nella consegna)\n",
    "import matplotlib.pyplot as plt\n",
    "from pylab import rcParams\n",
    "rcParams['figure.figsize'] = 10,10\n",
    "\n",
    "nx.draw_networkx(\n",
    "    oriented,\n",
    "    pos = nx.spring_layout(oriented),\n",
    "    node_color = \"#FF0000\",\n",
    "    width = 2,\n",
    "    edge_cmap = plt.cm.Blues,\n",
    "    with_labels = True\n",
    ")\n",
    "plt.show()\n",
    "plt.close()\n"
   ]
  },
  {
   "cell_type": "code",
   "execution_count": 39,
   "metadata": {},
   "outputs": [
    {
     "data": {
      "image/png": "[encoded data removed]",
      "text/plain": [
       "<Figure size 720x720 with 1 Axes>"
      ]
     },
     "metadata": {},
     "output_type": "display_data"
    }
   ],
   "source": [
    "#punto 10 (non richiesto il disegno)\n",
    "\n",
    "oriented = nx.read_gpickle(\"data/graphOriented.pkl\")\n",
    "tomve99 = nx.ego_graph(oriented, \"Tomve99\", radius=1)\n",
    "\n",
    "nx.draw_networkx(\n",
    "    tomve99,\n",
    "    pos = nx.spring_layout(tomve99),\n",
    "    node_color = \"#FF0000\",\n",
    "    edge_color = \"#A9A9A9\",\n",
    "    width = 2,\n",
    "    edge_cmap = plt.cm.Blues,\n",
    "    with_labels = True\n",
    ")\n",
    "plt.savefig(\"data/tomve99.pdf\")\n",
    "plt.show()\n",
    "plt.close()"
   ]
  },
  {
   "cell_type": "code",
   "execution_count": 49,
   "metadata": {},
   "outputs": [
    {
     "data": {
      "text/plain": [
       "{'Tomve99', 'ciccio_feltri', 'crispy_mcbacon', 'lucabazzetto'}"
      ]
     },
     "execution_count": 49,
     "metadata": {},
     "output_type": "execute_result"
    }
   ],
   "source": [
    "#punto 10b-c\n",
    "from networkx.algorithms.approximation import clique\n",
    "clique.max_clique(tomve99)\n",
    "#nx.sigma(tomve99)"
   ]
  },
  {
   "cell_type": "code",
   "execution_count": null,
   "metadata": {},
   "outputs": [],
   "source": []
  }
 ],
 "metadata": {
  "colab": {
   "name": "Progetto.ipynb",
   "provenance": []
  },
  "kernelspec": {
   "display_name": "Python 3",
   "language": "python",
   "name": "python3"
  },
  "language_info": {
   "codemirror_mode": {
    "name": "ipython",
    "version": 3
   },
   "file_extension": ".py",
   "mimetype": "text/x-python",
   "name": "python",
   "nbconvert_exporter": "python",
   "pygments_lexer": "ipython3",
   "version": "3.8.3"
  }
 },
 "nbformat": 4,
 "nbformat_minor": 4
}
