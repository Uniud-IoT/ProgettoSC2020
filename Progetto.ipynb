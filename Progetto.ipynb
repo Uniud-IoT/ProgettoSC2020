{
 "cells": [
  {
   "cell_type": "code",
   "execution_count": 3,
   "metadata": {
    "collapsed": true
   },
   "outputs": [
    {
     "name": "stdout",
     "output_type": "stream",
     "text": [
      "imported completed\n"
     ]
    }
   ],
   "source": [
    "import pandas as pd\n",
    "import numpy as np\n",
    "import scipy as sp\n",
    "import os\n",
    "import json\n",
    "import pprint\n",
    "%matplotlib inline\n",
    "import tweepy\n",
    "print(\"imported completed\")"
   ]
  },
  {
   "cell_type": "code",
   "execution_count": 4,
   "outputs": [],
   "source": [
    "consumer_key = \"GvDHFIS3fpCfZR2hwEGhE5oCZ\"\n",
    "consumer_secret = \"LCwgUZgFOjJppd4jg6Cf4mgohUTc6Ro7Yaals87LdNLmS3d9zB\"\n",
    "access_token = \"810960428385890304-aVlOFR9EExKdDPZCsh5EDN5Nm9SUmb9\"\n",
    "access_secret = \"XJkr9dKABPkSvRIgpyQeNapg2o6ldP4VoNbTids9QXGWT\"\n",
    "bearer_token = \"AAAAAAAAAAAAAAAAAAAAAA8UJQEAAAAAOD26yUUUPHF9zeAe56TtzGYUK8Q%3DRh6u9TAI7T7b5TJABTBOP5WwWSL0Cbvv5a6JJwg8MursyOOt9L\""
   ],
   "metadata": {
    "collapsed": false,
    "pycharm": {
     "name": "#%% Twitter API credentials\n"
    }
   }
  },
  {
   "cell_type": "code",
   "execution_count": 5,
   "outputs": [
    {
     "name": "stdout",
     "output_type": "stream",
     "text": [
      "Authentication completed successfully!\n"
     ]
    }
   ],
   "source": [
    "auth = tweepy.OAuthHandler(consumer_key, consumer_secret)\n",
    "auth.set_access_token(access_token, access_secret)\n",
    "api = tweepy.API(auth, wait_on_rate_limit = True, wait_on_rate_limit_notify = True)\n",
    "if api.verify_credentials :\n",
    "  print ('Authentication completed successfully!')"
   ],
   "metadata": {
    "collapsed": false,
    "pycharm": {
     "name": "#%% autentication\n"
    }
   }
  },
  {
   "cell_type": "code",
   "execution_count": 6,
   "outputs": [],
   "source": [
    "data_folder =  \"data\"\n",
    "def serialize_json    (folder, filename, data):\n",
    "  if not os.path.exists(folder):\n",
    "    os.makedirs(folder, exist_ok=True)\n",
    "  with open(f\"{folder}/{filename}\", \"w\", encoding=\"utf-8\") as f:\n",
    "    json.dump(data, f, ensure_ascii=False, indent=4)\n",
    "  print(f\"Data serialized to path: {folder}/{filename}\")\n",
    "\n",
    "def read_json(path):\n",
    "  if os.path.exists(path):\n",
    "    with open(path, \"r\", encoding=\"utf8\") as file:\n",
    "      data = json.load(file)\n",
    "    print(f\"Data read fron path: {path}\")\n",
    "    return data\n",
    "  else:\n",
    "    print(f\"No data found at path: {path}\")\n",
    "    return {}\n",
    "\n",
    "def usersID (users):\n",
    "    usersID = []\n",
    "    for user in users:\n",
    "        json_data = api.get_user(user)._json\n",
    "        usersID.append(json_data[\"id\"])\n",
    "    return usersID\n",
    "\n",
    "def download_followers(idUser, quantity):\n",
    "  followers_of_user = []\n",
    "  for follower in tweepy.Cursor(\n",
    "        api.followers,\n",
    "        id = user,\n",
    "        skip_status=True,\n",
    "        include_user_entities = False\n",
    "    ).items(quantity):\n",
    "        #json_data = follower._json\n",
    "        followers_of_user.append(follower._json[\"id\"])\n",
    "  return followers_of_user\n",
    "\n",
    "def download_following(user, quantity):\n",
    "  friends_of_user = []\n",
    "  for friend in tweepy.Cursor(\n",
    "        api.friends,\n",
    "        id = user,\n",
    "        skip_status=True,\n",
    "        include_user_entities = False\n",
    "    ).items(quantity):\n",
    "        json_data = friend._json\n",
    "        friends_of_user.append(friend._json[\"id\"])\n",
    "  return friends_of_user"
   ],
   "metadata": {
    "collapsed": false,
    "pycharm": {
     "name": "#%% JSON\n"
    }
   }
  },
  {
   "cell_type": "code",
   "execution_count": 45,
   "outputs": [
    {
     "name": "stdout",
     "output_type": "stream",
     "text": [
      "Data serialized to path: data/followersLucaThomas.json\n"
     ]
    }
   ],
   "source": [
    "users = [\"lucabazzetto\",\"Tomve99\"]\n",
    "#usersID = usersID(users)\n",
    "quantity = 800\n",
    "followers = {}\n",
    "for user in users:\n",
    "    followers_of_user = []\n",
    "    for follow in tweepy.Cursor(\n",
    "        api.followers,\n",
    "        screen_name = user,\n",
    "        skip_status=True,\n",
    "        include_user_entities = False\n",
    "    ).items(quantity):\n",
    "        json_data = follow._json\n",
    "        if json_data not in followers_of_user:\n",
    "            followers_of_user.append(json_data[\"screen_name\"])\n",
    "    followers[user] = followers_of_user\n",
    "serialize_json(data_folder,\"followersLucaThomas.json\", followers)"
   ],
   "metadata": {
    "collapsed": false,
    "pycharm": {
     "name": "#%% punto 1 follower\n"
    }
   }
  },
  {
   "cell_type": "code",
   "execution_count": 46,
   "outputs": [
    {
     "name": "stdout",
     "output_type": "stream",
     "text": [
      "Data serialized to path: data/friendsLucaThomas.json\n"
     ]
    }
   ],
   "source": [
    "users = [\"lucabazzetto\",\"Tomve99\"]\n",
    "quantity = 800\n",
    "friends = {}\n",
    "for user in users:\n",
    "    friends_of_user = []\n",
    "    for friend in tweepy.Cursor(\n",
    "        api.friends,\n",
    "        screen_name = user,\n",
    "        skip_status=True,\n",
    "        include_user_entities = False\n",
    "    ).items(quantity):\n",
    "        json_data = friend._json\n",
    "        friends_of_user.append(friend._json[\"screen_name\"])\n",
    "    friends[user] = friends_of_user\n",
    "serialize_json(data_folder,\"friendsLucaThomas.json\", friends)"
   ],
   "metadata": {
    "collapsed": false,
    "pycharm": {
     "name": "#%% punto 2 friends\n"
    }
   }
  },
  {
   "cell_type": "code",
   "execution_count": 47,
   "outputs": [
    {
     "name": "stdout",
     "output_type": "stream",
     "text": [
      "Data read fron path: data/followersLucaThomas.json\n",
      "Data serialized to path: data/followersOfFollowers.json\n"
     ]
    }
   ],
   "source": [
    "import random\n",
    "def random_json_with_control(json_array, quantity, all):\n",
    "    a = quantity\n",
    "    array = []\n",
    "    while(a!=0):\n",
    "        item = random.choice(json_array)\n",
    "        if item not in array and item not in all:\n",
    "            array.append(item)\n",
    "            a = a-1\n",
    "    return array\n",
    "\n",
    "followersALL = read_json(f\"{data_folder}/followersLucaThomas.json\")\n",
    "fiveFollowers = []\n",
    "\n",
    "# Estraggo per ogni utente 5 followers\n",
    "for user in followersALL:\n",
    "    fiveFollowers.extend(random_json_with_control(followersALL[user], 3, fiveFollowers))\n",
    "\n",
    "quantity = 10\n",
    "followersOfFollowers = {}\n",
    "\n",
    "for user in fiveFollowers:\n",
    "    followers_of_user = []\n",
    "    for follower in tweepy.Cursor(\n",
    "        api.followers,\n",
    "        screen_name = user,\n",
    "        skip_status=True,\n",
    "        include_user_entities = False\n",
    "    ).items(quantity):\n",
    "        json_data = follower._json\n",
    "        followers_of_user.append(follower._json[\"screen_name\"])\n",
    "    followersOfFollowers[user] = followers_of_user\n",
    "\n",
    "serialize_json(data_folder,\"followersOfFollowers.json\", followersOfFollowers)"
   ],
   "metadata": {
    "collapsed": false,
    "pycharm": {
     "name": "#%% punto 2\n"
    }
   }
  },
  {
   "cell_type": "code",
   "execution_count": 48,
   "outputs": [
    {
     "name": "stdout",
     "output_type": "stream",
     "text": [
      "Data read fron path: data/friendsLucaThomas.json\n",
      "Data serialized to path: data/friendsOfFriends.json\n"
     ]
    }
   ],
   "source": [
    "friendsALL = read_json(f\"{data_folder}/friendsLucaThomas.json\")\n",
    "fiveFriends = []\n",
    "\n",
    "# Estraggo per ogni utente 5 followers\n",
    "for user in friendsALL:\n",
    "    fiveFriends.extend(random_json_with_control(friendsALL[user], 5, fiveFriends))\n",
    "\n",
    "quantity = 10\n",
    "friendsOfFriends = {}\n",
    "for user in fiveFriends:\n",
    "    friends_of_user = []\n",
    "    for friend in tweepy.Cursor(\n",
    "        api.friends,\n",
    "        screen_name = user,\n",
    "        skip_status=True,\n",
    "        include_user_entities = False\n",
    "    ).items(quantity):\n",
    "        json_data = friend._json\n",
    "        friends_of_user.append(friend._json[\"screen_name\"])\n",
    "    friendsOfFriends[user] = friends_of_user\n",
    "serialize_json(data_folder,\"friendsOfFriends.json\", friendsOfFriends)"
   ],
   "metadata": {
    "collapsed": false,
    "pycharm": {
     "name": "#%% punto 3\n"
    }
   }
  },
  {
   "cell_type": "code",
   "execution_count": 73,
   "outputs": [
    {
     "name": "stdout",
     "output_type": "stream",
     "text": [
      "Data read fron path: data/friendsOfFriends.json\n",
      "Data read fron path: data/followersOfFollowers.json\n",
      "Data read fron path: data/followersLucaThomas.json\n",
      "Data read fron path: data/friendsLucaThomas.json\n",
      "Data serialized to path: data/NODUPLICATI.json\n",
      "Data serialized to path: data/puntoQuattro.json\n"
     ]
    }
   ],
   "source": [
    "allFriends = {}\n",
    "allFriends.update(read_json(f\"{data_folder}/friendsOfFriends.json\"))\n",
    "allFriends.update(read_json(f\"{data_folder}/followersOfFollowers.json\"))\n",
    "allFriends.update(read_json(f\"{data_folder}/followersLucaThomas.json\"))\n",
    "allFriends.update(read_json(f\"{data_folder}/friendsLucaThomas.json\"))\n",
    "#serialize_json(data_folder,\"allFriends.json\", allFriends)\n",
    "#pprint.PrettyPrinter().pprint(allFriends)\n",
    "\n",
    "vector = []\n",
    "for (k,v) in allFriends.items():\n",
    "    for item in v:\n",
    "        if item not in vector:\n",
    "            vector.append(item)\n",
    "\n",
    "serialize_json(data_folder,\"NODUPLICATI.json\", vector)\n",
    "\n",
    "puntoQuattro = {}\n",
    "\n",
    "for user in vector:\n",
    "    json_data = api.get_user(user)._json\n",
    "    foundInfo = {}\n",
    "    foundInfo [\"id\"] = json_data[\"id\"]\n",
    "    foundInfo [\"name\"] = json_data[\"name\"]\n",
    "    foundInfo [\"screen_name\"] = json_data[\"screen_name\"]\n",
    "    foundInfo [\"location\"] = json_data[\"location\"]\n",
    "    foundInfo [\"followers_count\"] = json_data[\"followers_count\"]\n",
    "    foundInfo [\"friends_count\"] = json_data[\"friends_count\"]\n",
    "    puntoQuattro[user] = foundInfo\n",
    "serialize_json(data_folder,\"puntoQuattro.json\", puntoQuattro)\n"
   ],
   "metadata": {
    "collapsed": false,
    "pycharm": {
     "name": "#%% punto 4\n"
    }
   }
  },
  {
   "cell_type": "code",
   "execution_count": null,
   "outputs": [
    {
     "name": "stdout",
     "output_type": "stream",
     "text": [
      "Data read fron path: data/puntoQuattro.json\n"
     ]
    },
    {
     "name": "stderr",
     "output_type": "stream",
     "text": [
      "Rate limit reached. Sleeping for: 866\n"
     ]
    }
   ],
   "source": [
    "import networkx as nx\n",
    "allDataPoint4 = read_json(f\"{data_folder}/puntoQuattro.json\")\n",
    "graph = nx.DiGraph()\n",
    "graph.add_nodes_from(allDataPoint4)\n",
    "\n",
    "graph.graph[\"members\"] = [\"Luca\",\"Thomas\",\"Agustin\",\"Edoardo\"]\n",
    "\n",
    "for user in allDataPoint4:\n",
    "    for user2 in allDataPoint4:\n",
    "        friendship = api.show_friendship(source_screen_name = user,target_screen_name = user2)\n",
    "        if friendship[0].followed_by:\n",
    "            graph.add_edge(user2,user)\n",
    "        if friendship[0].following:\n",
    "            graph.add_edge(user,user2)\n",
    "\n",
    "nx.write_gpickle(graph,\"data/graph.pkl\")"
   ],
   "metadata": {
    "collapsed": false,
    "pycharm": {
     "name": "#%% punto5\n"
    }
   }
  },
  {
   "cell_type": "code",
   "execution_count": 36,
   "outputs": [],
   "source": [
    "from pyvis.network import Network\n",
    "nt = Network(\n",
    "    height=\"100%\",\n",
    "    width=\"100%\",\n",
    "    bgcolor=\"222222\",\n",
    "    font_color=\"white\",\n",
    "    heading=\"progetto\"\n",
    ")\n",
    "nt.barnes_hut()\n",
    "nt.from_nx(graph)\n",
    "neighbor_map = nt.get_adj_list()\n",
    "for node in nt.nodes:\n",
    "    node[\"Value\"] = len(neighbor_map[node['id']])\n",
    "nt.show(\"grafico.html\")"
   ],
   "metadata": {
    "collapsed": false,
    "pycharm": {
     "name": "#%% grafo interattivo\n"
    }
   }
  },
  {
   "cell_type": "code",
   "execution_count": 16,
   "outputs": [
    {
     "name": "stdout",
     "output_type": "stream",
     "text": [
      "Data serialized to path: data/lucabazzettoALL.json\n"
     ]
    }
   ],
   "source": [
    "username = \"lucabazzetto\"\n",
    "quantity = 10\n",
    "AllUsers = {}\n",
    "dataOfUser = []\n",
    "for follower in tweepy.Cursor(\n",
    "    api.followers,\n",
    "    screen_name = username,\n",
    "    skip_status=True,\n",
    "    include_user_entities = False\n",
    ").items(quantity):\n",
    "    dataOfUser.append(follower._json[\"screen_name\"])\n",
    "\n",
    "for friend in tweepy.Cursor(\n",
    "    api.friends,\n",
    "    screen_name = username,\n",
    "    skip_status=True,\n",
    "    include_user_entities = False\n",
    ").items(quantity):\n",
    "    jsonData = friend._json[\"screen_name\"]\n",
    "    if jsonData not in dataOfUser:\n",
    "        dataOfUser.append(jsonData)\n",
    "\n",
    "AllUsers[username] = dataOfUser\n",
    "serialize_json(data_folder,\"lucabazzettoALL.json\", AllUsers)"
   ],
   "metadata": {
    "collapsed": false,
    "pycharm": {
     "name": "#%% following & followers\n"
    }
   }
  },
  {
   "cell_type": "code",
   "execution_count": 17,
   "outputs": [
    {
     "name": "stdout",
     "output_type": "stream",
     "text": [
      "Data read fron path: data/lucabazzettoALL.json\n",
      "{'lucabazzetto': ['AndroidGamerIT',\n",
      "                  'giucruciani',\n",
      "                  'aledellagiusta',\n",
      "                  'MKBHD',\n",
      "                  'getpeid',\n",
      "                  'OnePlus_ITA',\n",
      "                  'elonmusk',\n",
      "                  'berlusconi',\n",
      "                  'CRAZYFATGAMER',\n",
      "                  'EAFIFADirect',\n",
      "                  'NicolaPorro']}\n"
     ]
    }
   ],
   "source": [
    "import pprint\n",
    "allData = read_json(f\"{data_folder}/lucabazzettoALL.json\")\n",
    "pp = pprint.PrettyPrinter()\n",
    "pp.pprint(allData)"
   ],
   "metadata": {
    "collapsed": false,
    "pycharm": {
     "name": "#%% lettura\n"
    }
   }
  },
  {
   "cell_type": "code",
   "execution_count": 20,
   "outputs": [
    {
     "name": "stdout",
     "output_type": "stream",
     "text": [
      "Data serialized to path: data/details.json\n",
      "{'contributors_enabled': False,\n",
      " 'created_at': 'Mon Dec 19 21:30:07 +0000 2016',\n",
      " 'default_profile': True,\n",
      " 'default_profile_image': True,\n",
      " 'description': '',\n",
      " 'entities': {'description': {'urls': []}},\n",
      " 'favourites_count': 17,\n",
      " 'follow_request_sent': False,\n",
      " 'followers_count': 1,\n",
      " 'following': False,\n",
      " 'friends_count': 27,\n",
      " 'geo_enabled': False,\n",
      " 'has_extended_profile': True,\n",
      " 'id': 810960428385890304,\n",
      " 'id_str': '810960428385890304',\n",
      " 'is_translation_enabled': False,\n",
      " 'is_translator': False,\n",
      " 'lang': None,\n",
      " 'listed_count': 0,\n",
      " 'location': '',\n",
      " 'name': 'Luca Bazzetto',\n",
      " 'needs_phone_verification': False,\n",
      " 'notifications': False,\n",
      " 'profile_background_color': 'F5F8FA',\n",
      " 'profile_background_image_url': None,\n",
      " 'profile_background_image_url_https': None,\n",
      " 'profile_background_tile': False,\n",
      " 'profile_image_url': 'http://abs.twimg.com/sticky/default_profile_images/default_profile_normal.png',\n",
      " 'profile_image_url_https': 'https://abs.twimg.com/sticky/default_profile_images/default_profile_normal.png',\n",
      " 'profile_link_color': '1DA1F2',\n",
      " 'profile_location': None,\n",
      " 'profile_sidebar_border_color': 'C0DEED',\n",
      " 'profile_sidebar_fill_color': 'DDEEF6',\n",
      " 'profile_text_color': '333333',\n",
      " 'profile_use_background_image': True,\n",
      " 'protected': False,\n",
      " 'screen_name': 'lucabazzetto',\n",
      " 'status': {'contributors': None,\n",
      "            'coordinates': None,\n",
      "            'created_at': 'Mon Jun 22 12:08:09 +0000 2020',\n",
      "            'entities': {'hashtags': [{'indices': [103, 114],\n",
      "                                       'text': 'OnePlusOne'}],\n",
      "                         'symbols': [],\n",
      "                         'urls': [],\n",
      "                         'user_mentions': [{'id': 2196922086,\n",
      "                                            'id_str': '2196922086',\n",
      "                                            'indices': [3, 11],\n",
      "                                            'name': 'OnePlus',\n",
      "                                            'screen_name': 'oneplus'}]},\n",
      "            'favorite_count': 0,\n",
      "            'favorited': True,\n",
      "            'geo': None,\n",
      "            'id': 1275037861599944705,\n",
      "            'id_str': '1275037861599944705',\n",
      "            'in_reply_to_screen_name': None,\n",
      "            'in_reply_to_status_id': None,\n",
      "            'in_reply_to_status_id_str': None,\n",
      "            'in_reply_to_user_id': None,\n",
      "            'in_reply_to_user_id_str': None,\n",
      "            'is_quote_status': False,\n",
      "            'lang': 'en',\n",
      "            'place': None,\n",
      "            'retweet_count': 12580,\n",
      "            'retweeted': True,\n",
      "            'retweeted_status': {'contributors': None,\n",
      "                                 'coordinates': None,\n",
      "                                 'created_at': 'Sun Jun 21 03:00:00 +0000 2020',\n",
      "                                 'entities': {'hashtags': [{'indices': [90,\n",
      "                                                                        101],\n",
      "                                                            'text': 'OnePlusOne'}],\n",
      "                                              'symbols': [],\n",
      "                                              'urls': [{'display_url': 'twitter.com/i/web/status/1…',\n",
      "                                                        'expanded_url': 'https://twitter.com/i/web/status/1274537526573719552',\n",
      "                                                        'indices': [117, 140],\n",
      "                                                        'url': 'https://t.co/b3ApXNp4hI'}],\n",
      "                                              'user_mentions': []},\n",
      "                                 'favorite_count': 18614,\n",
      "                                 'favorited': True,\n",
      "                                 'geo': None,\n",
      "                                 'id': 1274537526573719552,\n",
      "                                 'id_str': '1274537526573719552',\n",
      "                                 'in_reply_to_screen_name': None,\n",
      "                                 'in_reply_to_status_id': None,\n",
      "                                 'in_reply_to_status_id_str': None,\n",
      "                                 'in_reply_to_user_id': None,\n",
      "                                 'in_reply_to_user_id_str': None,\n",
      "                                 'is_quote_status': False,\n",
      "                                 'lang': 'en',\n",
      "                                 'place': None,\n",
      "                                 'possibly_sensitive': False,\n",
      "                                 'retweet_count': 12580,\n",
      "                                 'retweeted': True,\n",
      "                                 'source': '<a '\n",
      "                                           'href=\"https://ads-api.twitter.com\" '\n",
      "                                           'rel=\"nofollow\">Twitter for '\n",
      "                                           'Advertisers (legacy)</a>',\n",
      "                                 'text': \"This Father's Day we'd like to give \"\n",
      "                                         'away something with monumental '\n",
      "                                         'sentimental value: The '\n",
      "                                         '#OnePlusOne! \\n'\n",
      "                                         '\\n'\n",
      "                                         'For your c… https://t.co/b3ApXNp4hI',\n",
      "                                 'truncated': True},\n",
      "            'source': '<a href=\"http://twitter.com/download/android\" '\n",
      "                      'rel=\"nofollow\">Twitter for Android</a>',\n",
      "            'text': \"RT @oneplus: This Father's Day we'd like to give away \"\n",
      "                    'something with monumental sentimental value: The '\n",
      "                    '#OnePlusOne! \\n'\n",
      "                    '\\n'\n",
      "                    'For your chance to wi…',\n",
      "            'truncated': False},\n",
      " 'statuses_count': 1,\n",
      " 'suspended': False,\n",
      " 'time_zone': None,\n",
      " 'translator_type': 'none',\n",
      " 'url': None,\n",
      " 'utc_offset': None,\n",
      " 'verified': False}\n"
     ]
    }
   ],
   "source": [
    "details = api.get_user(\"lucabazzetto\")._json\n",
    "serialize_json(data_folder,\"details.json\", details)\n",
    "pp.pprint(details)"
   ],
   "metadata": {
    "collapsed": false,
    "pycharm": {
     "name": "#%% dettagli profilo di tutti gli utenti\n"
    }
   }
  }
 ],
 "metadata": {
  "kernelspec": {
   "display_name": "Python 3",
   "language": "python",
   "name": "python3"
  },
  "language_info": {
   "codemirror_mode": {
    "name": "ipython",
    "version": 2
   },
   "file_extension": ".py",
   "mimetype": "text/x-python",
   "name": "python",
   "nbconvert_exporter": "python",
   "pygments_lexer": "ipython2",
   "version": "2.7.6"
  }
 },
 "nbformat": 4,
 "nbformat_minor": 0
}