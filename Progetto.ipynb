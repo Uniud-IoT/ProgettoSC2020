{
 "cells": [
  {
   "cell_type": "code",
   "execution_count": 2,
   "metadata": {
    "collapsed": true,
    "id": "WGcpU4UD0HzN",
    "jupyter": {
     "outputs_hidden": true
    },
    "outputId": "98308300-43d4-407b-fb4a-97e4b4632752"
   },
   "outputs": [
    {
     "name": "stdout",
     "output_type": "stream",
     "text": [
      "imported completed! ciaoooo\n"
     ]
    }
   ],
   "source": [
    "import pandas as pd\n",
    "import numpy as np\n",
    "import scipy as sp\n",
    "import os\n",
    "import json\n",
    "import pprint\n",
    "%matplotlib inline\n",
    "import tweepy\n",
    "import networkx as nx\n",
    "import random\n",
    "from pyvis.network import Network\n",
    "print(\"imported completed! ciaoooo\")"
   ]
  },
  {
   "cell_type": "code",
   "execution_count": 4,
   "metadata": {
    "id": "0JMt8Isd0HzX",
    "pycharm": {
     "name": "#%% Twitter API credentials\n"
    }
   },
   "outputs": [],
   "source": [
    "consumer_key = \"GvDHFIS3fpCfZR2hwEGhE5oCZ\"\n",
    "consumer_secret = \"LCwgUZgFOjJppd4jg6Cf4mgohUTc6Ro7Yaals87LdNLmS3d9zB\"\n",
    "access_token = \"810960428385890304-aVlOFR9EExKdDPZCsh5EDN5Nm9SUmb9\"\n",
    "access_secret = \"XJkr9dKABPkSvRIgpyQeNapg2o6ldP4VoNbTids9QXGWT\"\n",
    "bearer_token = \"AAAAAAAAAAAAAAAAAAAAAA8UJQEAAAAAOD26yUUUPHF9zeAe56TtzGYUK8Q%3DRh6u9TAI7T7b5TJABTBOP5WwWSL0Cbvv5a6JJwg8MursyOOt9L\""
   ]
  },
  {
   "cell_type": "code",
   "execution_count": 5,
   "metadata": {
    "id": "ZTpnKt1M0Hzc",
    "outputId": "a0781e12-8ee8-4e8a-d514-9e4c1da90edf",
    "pycharm": {
     "name": "#%% autentication\n"
    }
   },
   "outputs": [
    {
     "name": "stdout",
     "output_type": "stream",
     "text": [
      "Authentication completed successfully!\n"
     ]
    }
   ],
   "source": [
    "auth = tweepy.OAuthHandler(consumer_key, consumer_secret)\n",
    "auth.set_access_token(access_token, access_secret)\n",
    "api = tweepy.API(auth, wait_on_rate_limit = True, wait_on_rate_limit_notify = True)\n",
    "if api.verify_credentials :\n",
    "  print ('Authentication completed successfully!')"
   ]
  },
  {
   "cell_type": "code",
   "execution_count": 6,
   "metadata": {
    "id": "pNrQ7YwN0Hzi",
    "pycharm": {
     "name": "#%% JSON\n"
    }
   },
   "outputs": [],
   "source": [
    "data_folder =  \"data\"\n",
    "def serialize_json    (folder, filename, data):\n",
    "  if not os.path.exists(folder):\n",
    "    os.makedirs(folder, exist_ok=True)\n",
    "  with open(f\"{folder}/{filename}\", \"w\", encoding=\"utf-8\") as f:\n",
    "    json.dump(data, f, ensure_ascii=False, indent=4)\n",
    "  print(f\"Data serialized to path: {folder}/{filename}\")\n",
    "\n",
    "def read_json(path):\n",
    "  if os.path.exists(path):\n",
    "    with open(path, \"r\", encoding=\"utf8\") as file:\n",
    "      data = json.load(file)\n",
    "    print(f\"Data read fron path: {path}\")\n",
    "    return data\n",
    "  else:\n",
    "    print(f\"No data found at path: {path}\")\n",
    "    return {}\n",
    "\n",
    "def usersID (users):\n",
    "    usersID = []\n",
    "    for user in users:\n",
    "        json_data = api.get_user(user)._json\n",
    "        usersID.append(json_data[\"id\"])\n",
    "    return usersID\n",
    "\n",
    "def download_followers(idUser, quantity):\n",
    "  followers_of_user = []\n",
    "  for follower in tweepy.Cursor(\n",
    "        api.followers,\n",
    "        id = user,\n",
    "        skip_status=True,\n",
    "        include_user_entities = False\n",
    "    ).items(quantity):\n",
    "        #json_data = follower._json\n",
    "        followers_of_user.append(follower._json[\"id\"])\n",
    "  return followers_of_user\n",
    "\n",
    "def download_following(user, quantity):\n",
    "  friends_of_user = []\n",
    "  for friend in tweepy.Cursor(\n",
    "        api.friends,\n",
    "        id = user,\n",
    "        skip_status=True,\n",
    "        include_user_entities = False\n",
    "    ).items(quantity):\n",
    "        json_data = friend._json\n",
    "        friends_of_user.append(friend._json[\"id\"])\n",
    "  return friends_of_user"
   ]
  },
  {
   "cell_type": "code",
   "execution_count": null,
   "metadata": {
    "id": "p3pnXKMB0Hzm",
    "outputId": "6f0ca181-ed5c-4259-c0a6-968fb2b2a824",
    "pycharm": {
     "name": "#%% punto 1 follower\n"
    }
   },
   "outputs": [
    {
     "name": "stdout",
     "output_type": "stream",
     "text": [
      "Data serialized to path: data/followersLucaThomas.json\n"
     ]
    }
   ],
   "source": [
    "users = [\"lucabazzetto\",\"Tomve99\"]\n",
    "#usersID = usersID(users)\n",
    "quantity = 800\n",
    "followers = {}\n",
    "for user in users:\n",
    "    followers_of_user = []\n",
    "    for follow in tweepy.Cursor(\n",
    "        api.followers,\n",
    "        screen_name = user,\n",
    "        skip_status=True,\n",
    "        include_user_entities = False\n",
    "    ).items(quantity):\n",
    "        json_data = follow._json\n",
    "        if json_data not in followers_of_user:\n",
    "            followers_of_user.append(json_data[\"screen_name\"])\n",
    "    followers[user] = followers_of_user\n",
    "serialize_json(data_folder,\"followersLucaThomas.json\", followers)"
   ]
  },
  {
   "cell_type": "code",
   "execution_count": null,
   "metadata": {
    "id": "tM9Q6JJS0Hzq",
    "outputId": "936cb8ca-2166-411a-e2f5-ed43c72c7331",
    "pycharm": {
     "name": "#%% punto 2 friends\n"
    }
   },
   "outputs": [
    {
     "name": "stdout",
     "output_type": "stream",
     "text": [
      "Data serialized to path: data/friendsLucaThomas.json\n"
     ]
    }
   ],
   "source": [
    "users = [\"lucabazzetto\",\"Tomve99\"]\n",
    "quantity = 800\n",
    "friends = {}\n",
    "for user in users:\n",
    "    friends_of_user = []\n",
    "    for friend in tweepy.Cursor(\n",
    "        api.friends,\n",
    "        screen_name = user,\n",
    "        skip_status=True,\n",
    "        include_user_entities = False\n",
    "    ).items(quantity):\n",
    "        json_data = friend._json\n",
    "        friends_of_user.append(friend._json[\"screen_name\"])\n",
    "    friends[user] = friends_of_user\n",
    "serialize_json(data_folder,\"friendsLucaThomas.json\", friends)"
   ]
  },
  {
   "cell_type": "code",
   "execution_count": null,
   "metadata": {
    "id": "QoXXBGlb0Hzu",
    "outputId": "191eb350-4830-49a0-df0c-b19015ffd9c7",
    "pycharm": {
     "name": "#%% punto 2\n"
    }
   },
   "outputs": [
    {
     "name": "stdout",
     "output_type": "stream",
     "text": [
      "Data read fron path: data/followersLucaThomas.json\n",
      "Data serialized to path: data/followersOfFollowers.json\n"
     ]
    }
   ],
   "source": [
    "\n",
    "def random_json_with_control(json_array, quantity, all):\n",
    "    a = quantity\n",
    "    array = []\n",
    "    while(a!=0):\n",
    "        item = random.choice(json_array)\n",
    "        if item not in array and item not in all:\n",
    "            array.append(item)\n",
    "            a = a-1\n",
    "    return array\n",
    "\n",
    "followersALL = read_json(f\"{data_folder}/followersLucaThomas.json\")\n",
    "fiveFollowers = []\n",
    "\n",
    "# Estraggo per ogni utente 5 followers\n",
    "for user in followersALL:\n",
    "    fiveFollowers.extend(random_json_with_control(followersALL[user], 3, fiveFollowers))\n",
    "\n",
    "quantity = 10\n",
    "followersOfFollowers = {}\n",
    "\n",
    "for user in fiveFollowers:\n",
    "    followers_of_user = []\n",
    "    for follower in tweepy.Cursor(\n",
    "        api.followers,\n",
    "        screen_name = user,\n",
    "        skip_status=True,\n",
    "        include_user_entities = False\n",
    "    ).items(quantity):\n",
    "        json_data = follower._json\n",
    "        followers_of_user.append(follower._json[\"screen_name\"])\n",
    "    followersOfFollowers[user] = followers_of_user\n",
    "\n",
    "serialize_json(data_folder,\"followersOfFollowers.json\", followersOfFollowers)"
   ]
  },
  {
   "cell_type": "code",
   "execution_count": null,
   "metadata": {
    "id": "7qIqh9P00Hzx",
    "outputId": "3981d93b-12b7-4175-ffbc-09f3369e6756",
    "pycharm": {
     "name": "#%% punto 3\n"
    }
   },
   "outputs": [
    {
     "name": "stdout",
     "output_type": "stream",
     "text": [
      "Data read fron path: data/friendsLucaThomas.json\n",
      "Data serialized to path: data/friendsOfFriends.json\n"
     ]
    }
   ],
   "source": [
    "friendsALL = read_json(f\"{data_folder}/friendsLucaThomas.json\")\n",
    "fiveFriends = []\n",
    "\n",
    "# Estraggo per ogni utente 5 followers\n",
    "for user in friendsALL:\n",
    "    fiveFriends.extend(random_json_with_control(friendsALL[user], 5, fiveFriends))\n",
    "\n",
    "quantity = 10\n",
    "friendsOfFriends = {}\n",
    "for user in fiveFriends:\n",
    "    friends_of_user = []\n",
    "    for friend in tweepy.Cursor(\n",
    "        api.friends,\n",
    "        screen_name = user,\n",
    "        skip_status=True,\n",
    "        include_user_entities = False\n",
    "    ).items(quantity):\n",
    "        json_data = friend._json\n",
    "        friends_of_user.append(friend._json[\"screen_name\"])\n",
    "    friendsOfFriends[user] = friends_of_user\n",
    "serialize_json(data_folder,\"friendsOfFriends.json\", friendsOfFriends)"
   ]
  },
  {
   "cell_type": "code",
   "execution_count": 7,
   "metadata": {
    "id": "mSUmvjOw0Hz1",
    "outputId": "035d4a27-db73-4904-e38b-ee759e5a3283",
    "pycharm": {
     "name": "#%% punto 4\n"
    }
   },
   "outputs": [
    {
     "name": "stdout",
     "output_type": "stream",
     "text": [
      "Data read fron path: data/friendsOfFriends.json\n",
      "Data read fron path: data/followersOfFollowers.json\n",
      "Data read fron path: data/followersLucaThomas.json\n",
      "Data read fron path: data/friendsLucaThomas.json\n",
      "Data serialized to path: data/NODUPLICATI.json\n",
      "Data serialized to path: data/puntoQuattro.json\n"
     ]
    }
   ],
   "source": [
    "allFriends = {}\n",
    "allFriends.update(read_json(f\"{data_folder}/friendsOfFriends.json\"))\n",
    "allFriends.update(read_json(f\"{data_folder}/followersOfFollowers.json\"))\n",
    "allFriends.update(read_json(f\"{data_folder}/followersLucaThomas.json\"))\n",
    "allFriends.update(read_json(f\"{data_folder}/friendsLucaThomas.json\"))\n",
    "#serialize_json(data_folder,\"allFriends.json\", allFriends)\n",
    "#pprint.PrettyPrinter().pprint(allFriends)\n",
    "\n",
    "vector = []\n",
    "for (k,v) in allFriends.items():\n",
    "    for item in v:\n",
    "        if item not in vector:\n",
    "            vector.append(item)\n",
    "\n",
    "serialize_json(data_folder,\"NODUPLICATI.json\", vector)\n",
    "\n",
    "puntoQuattro = {}\n",
    "\n",
    "for user in vector:\n",
    "    json_data = api.get_user(user)._json\n",
    "    foundInfo = {}\n",
    "    foundInfo [\"id\"] = json_data[\"id\"]\n",
    "    foundInfo [\"name\"] = json_data[\"name\"]\n",
    "    foundInfo [\"screen_name\"] = json_data[\"screen_name\"]\n",
    "    foundInfo [\"location\"] = json_data[\"location\"]\n",
    "    foundInfo [\"followers_count\"] = json_data[\"followers_count\"]\n",
    "    foundInfo [\"friends_count\"] = json_data[\"friends_count\"]\n",
    "    puntoQuattro[user] = foundInfo\n",
    "serialize_json(data_folder,\"puntoQuattro.json\", puntoQuattro)\n"
   ]
  },
  {
   "cell_type": "code",
   "execution_count": 18,
   "metadata": {
    "id": "4Wd9GgR10Hz6",
    "outputId": "59c128d4-eb39-40c2-a5c1-9692e768ae2c",
    "pycharm": {
     "name": "#%% punto5\n"
    }
   },
   "outputs": [
    {
     "name": "stdout",
     "output_type": "stream",
     "text": [
      "Data read fron path: data/NODUPLICATI.json\n",
      "[{'relation': 'no',\n",
      "  'source_id': 'crispy_mcbacon',\n",
      "  'targe_id': 'crispy_mcbacon'},\n",
      " {'relation': 'SourceToTarget',\n",
      "  'source_id': 'crispy_mcbacon',\n",
      "  'targe_id': 'ciccio_feltri'},\n",
      " {'relation': 'SourceToTarget',\n",
      "  'source_id': 'crispy_mcbacon',\n",
      "  'targe_id': 'lucabazzetto'},\n",
      " {'relation': 'no', 'source_id': 'crispy_mcbacon', 'targe_id': 'elonmusk'},\n",
      " {'relation': 'SourceToTarget',\n",
      "  'source_id': 'ciccio_feltri',\n",
      "  'targe_id': 'crispy_mcbacon'},\n",
      " {'relation': 'no', 'source_id': 'ciccio_feltri', 'targe_id': 'ciccio_feltri'},\n",
      " {'relation': 'SourceToTarget',\n",
      "  'source_id': 'ciccio_feltri',\n",
      "  'targe_id': 'lucabazzetto'},\n",
      " {'relation': 'no', 'source_id': 'ciccio_feltri', 'targe_id': 'elonmusk'},\n",
      " {'relation': 'SourceToTarget',\n",
      "  'source_id': 'lucabazzetto',\n",
      "  'targe_id': 'crispy_mcbacon'},\n",
      " {'relation': 'SourceToTarget',\n",
      "  'source_id': 'lucabazzetto',\n",
      "  'targe_id': 'ciccio_feltri'},\n",
      " {'relation': 'no', 'source_id': 'lucabazzetto', 'targe_id': 'lucabazzetto'},\n",
      " {'relation': 'SourceToTarget',\n",
      "  'source_id': 'lucabazzetto',\n",
      "  'targe_id': 'elonmusk'},\n",
      " {'relation': 'no', 'source_id': 'elonmusk', 'targe_id': 'crispy_mcbacon'},\n",
      " {'relation': 'no', 'source_id': 'elonmusk', 'targe_id': 'ciccio_feltri'},\n",
      " {'relation': 'targetToSource',\n",
      "  'source_id': 'elonmusk',\n",
      "  'targe_id': 'lucabazzetto'},\n",
      " {'relation': 'no', 'source_id': 'elonmusk', 'targe_id': 'elonmusk'}]\n",
      "Data serialized to path: data/prova.json\n"
     ]
    },
    {
     "data": {
      "text/plain": "'\\nallDataPoint4 = read_json(f\"{data_folder}/puntoQuattro.json\")\\ngraph = nx.DiGraph()\\ngraph.add_nodes_from(allDataPoint4)\\ngraph.graph[\"members\"] = [\"Luca\",\"Thomas\",\"Agustin\",\"Edoardo\"]\\n\\nfor user in allDataPoint4:\\n    for user2 in allDataPoint4:\\n        friendship = api.show_friendship(source_screen_name = user,target_screen_name = user2)\\n        if friendship[0].followed_by:\\n            graph.add_edge(user2,user)\\n        if friendship[0].following:\\n            graph.add_edge(user,user2)\\n\\nnx.write_gpickle(graph,\"data/graph.pkl\")\\n'"
     },
     "execution_count": 18,
     "metadata": {},
     "output_type": "execute_result"
    }
   ],
   "source": [
    "def get_friendship(sourceid, targetid, api):\n",
    "    friendship = api.show_friendship(source_screen_name=sourceid, target_screen_name=targetid)\n",
    "    dictio = {\"source_id\":sourceid,\"targe_id\":targetid,\"relation\":\"no\"}\n",
    "    if friendship[0].followed_by:\n",
    "        dictio[\"relation\"] = \"targetToSource\"\n",
    "    if friendship[0].following:\n",
    "        dictio[\"relation\"] = \"SourceToTarget\"\n",
    "    return dictio\n",
    "\n",
    "files = read_json(f\"{data_folder}/NODUPLICATI.json\")\n",
    "\n",
    "prova = []\n",
    "for source in files:\n",
    "    for target in files:\n",
    "        prova.append(get_friendship(source,target,api))\n",
    "\n",
    "pp = pprint.PrettyPrinter()\n",
    "pp.pprint(prova)\n",
    "\n",
    "\n",
    "serialize_json(data_folder,\"prova.json\", prova)\n",
    "\n",
    "graph = nx.DiGraph()\n",
    "graph.add_nodes_from(\"files\")\n",
    "\n",
    "\n",
    "\n",
    "\"\"\"\n",
    "allDataPoint4 = read_json(f\"{data_folder}/puntoQuattro.json\")\n",
    "graph = nx.DiGraph()\n",
    "graph.add_nodes_from(allDataPoint4)\n",
    "graph.graph[\"members\"] = [\"Luca\",\"Thomas\",\"Agustin\",\"Edoardo\"]\n",
    "\n",
    "for user in allDataPoint4:\n",
    "    for user2 in allDataPoint4:\n",
    "        friendship = api.show_friendship(source_screen_name = user,target_screen_name = user2)\n",
    "        if friendship[0].followed_by:\n",
    "            graph.add_edge(user2,user)\n",
    "        if friendship[0].following:\n",
    "            graph.add_edge(user,user2)\n",
    "\n",
    "nx.write_gpickle(graph,\"data/graph.pkl\")\n",
    "\"\"\""
   ]
  }
 ],
 "metadata": {
  "colab": {
   "name": "Progetto.ipynb",
   "provenance": []
  },
  "kernelspec": {
   "display_name": "Python 3",
   "language": "python",
   "name": "python3"
  },
  "language_info": {
   "codemirror_mode": {
    "name": "ipython",
    "version": 2
   },
   "file_extension": ".py",
   "mimetype": "text/x-python",
   "name": "python",
   "nbconvert_exporter": "python",
   "pygments_lexer": "ipython2",
   "version": "2.7.6"
  }
 },
 "nbformat": 4,
 "nbformat_minor": 4
}