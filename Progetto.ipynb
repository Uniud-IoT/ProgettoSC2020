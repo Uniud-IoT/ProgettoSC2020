{
 "cells": [
  {
   "cell_type": "code",
   "execution_count": 1,
   "metadata": {
    "id": "WGcpU4UD0HzN",
    "outputId": "98308300-43d4-407b-fb4a-97e4b4632752"
   },
   "outputs": [
    {
     "name": "stdout",
     "output_type": "stream",
     "text": [
      "imported completed!\n"
     ]
    }
   ],
   "source": [
    "import pandas as pd\n",
    "import numpy as np\n",
    "import scipy as sp\n",
    "import os\n",
    "import json\n",
    "import pprint\n",
    "from IPython.core.display import display\n",
    "%matplotlib inline\n",
    "import tweepy\n",
    "import networkx as nx\n",
    "import random\n",
    "from pyvis.network import Network\n",
    "from functions_file import *\n",
    "data_folder = \"data\"\n",
    "print(\"imported completed!\")"
   ]
  },
  {
   "cell_type": "code",
   "execution_count": 2,
   "metadata": {
    "id": "0JMt8Isd0HzX",
    "pycharm": {
     "name": "#%% Twitter API credentials\n"
    }
   },
   "outputs": [],
   "source": [
    "consumer_key = \"GvDHFIS3fpCfZR2hwEGhE5oCZ\"\n",
    "consumer_secret = \"LCwgUZgFOjJppd4jg6Cf4mgohUTc6Ro7Yaals87LdNLmS3d9zB\"\n",
    "access_token = \"810960428385890304-aVlOFR9EExKdDPZCsh5EDN5Nm9SUmb9\"\n",
    "access_secret = \"XJkr9dKABPkSvRIgpyQeNapg2o6ldP4VoNbTids9QXGWT\"\n",
    "bearer_token = \"AAAAAAAAAAAAAAAAAAAAAA8UJQEAAAAAOD26yUUUPHF9zeAe56TtzGYUK8Q%3DRh6u9TAI7T7b5TJABTBOP5WwWSL0Cbvv5a6JJwg8MursyOOt9L\""
   ]
  },
  {
   "cell_type": "code",
   "execution_count": 3,
   "metadata": {
    "id": "ZTpnKt1M0Hzc",
    "outputId": "a0781e12-8ee8-4e8a-d514-9e4c1da90edf",
    "pycharm": {
     "name": "#%% autentication\n"
    }
   },
   "outputs": [
    {
     "name": "stdout",
     "output_type": "stream",
     "text": [
      "Authentication completed successfully!\n"
     ]
    }
   ],
   "source": [
    "auth = tweepy.OAuthHandler(consumer_key, consumer_secret)\n",
    "auth.set_access_token(access_token, access_secret)\n",
    "api = tweepy.API(auth, wait_on_rate_limit = True, wait_on_rate_limit_notify = True)\n",
    "if api.verify_credentials :\n",
    "  print ('Authentication completed successfully!')"
   ]
  },
  {
   "cell_type": "code",
   "execution_count": 56,
   "outputs": [],
   "source": [
    "def usersID (users,api):\n",
    "    usersID = []\n",
    "    for user in users:\n",
    "        json_data = api.get_user(user)._json\n",
    "        usersID.append(json_data[\"id\"])\n",
    "    return usersID\n",
    "\n",
    "users = [\"lucabazzetto\",\"Tomve99\"]\n",
    "usersId = usersID(users,api)"
   ],
   "metadata": {
    "collapsed": false,
    "pycharm": {
     "name": "#%% definisco gli utenti\n"
    }
   }
  },
  {
   "cell_type": "code",
   "execution_count": 57,
   "metadata": {
    "id": "p3pnXKMB0Hzm",
    "outputId": "6f0ca181-ed5c-4259-c0a6-968fb2b2a824",
    "pycharm": {
     "name": "#%% punto 1 follower\n"
    }
   },
   "outputs": [
    {
     "name": "stdout",
     "output_type": "stream",
     "text": [
      "Data serialized to path: data/followersLucaThomas.json\n"
     ]
    }
   ],
   "source": [
    "def download_followers(idUser, quantity,api):\n",
    "  followers_of_user = []\n",
    "  for follower in tweepy.Cursor(\n",
    "        api.followers,\n",
    "        id = idUser,\n",
    "        skip_status=True,\n",
    "        include_user_entities = False\n",
    "    ).items(quantity):\n",
    "        #json_data = follower._json\n",
    "        followers_of_user.append(follower._json[\"id\"])\n",
    "  return followers_of_user\n",
    "\n",
    "quantity = 4\n",
    "followers = {}\n",
    "for idUser in usersId:\n",
    "    followers[idUser] = download_followers(idUser, quantity,api)\n",
    "serialize_json(data_folder,\"followersLucaThomas.json\", followers)"
   ]
  },
  {
   "cell_type": "code",
   "execution_count": 58,
   "metadata": {
    "id": "tM9Q6JJS0Hzq",
    "outputId": "936cb8ca-2166-411a-e2f5-ed43c72c7331",
    "pycharm": {
     "name": "#%% punto 2 friends\n"
    }
   },
   "outputs": [
    {
     "name": "stdout",
     "output_type": "stream",
     "text": [
      "Data serialized to path: data/friendsLucaThomas.json\n"
     ]
    }
   ],
   "source": [
    "def download_following(idUser, quantity,api):\n",
    "  friends_of_user = []\n",
    "  for friend in tweepy.Cursor(\n",
    "        api.friends,\n",
    "        id = idUser,\n",
    "        skip_status=True,\n",
    "        include_user_entities = False\n",
    "    ).items(quantity):\n",
    "        json_data = friend._json\n",
    "        friends_of_user.append(friend._json[\"id\"])\n",
    "  return friends_of_user\n",
    "\n",
    "quantity = 4\n",
    "friends = {}\n",
    "for idUser in usersId:\n",
    "    friends[idUser] = download_following(idUser, quantity,api)\n",
    "serialize_json(data_folder,\"friendsLucaThomas.json\", friends)"
   ]
  },
  {
   "cell_type": "code",
   "execution_count": 61,
   "metadata": {
    "id": "QoXXBGlb0Hzu",
    "outputId": "191eb350-4830-49a0-df0c-b19015ffd9c7",
    "pycharm": {
     "name": "#%% punto 2\n"
    }
   },
   "outputs": [
    {
     "name": "stdout",
     "output_type": "stream",
     "text": [
      "Data read fron path: data/followersLucaThomas.json\n",
      "Data serialized to path: data/followersOfFollowers.json\n"
     ]
    }
   ],
   "source": [
    "def random_json_with_control(json_array, quantity, all):\n",
    "    a = quantity\n",
    "    array = []\n",
    "    while(a!=0):\n",
    "        item = random.choice(json_array)\n",
    "        if item not in array and item not in all:\n",
    "            array.append(item)\n",
    "            a = a-1\n",
    "    return array\n",
    "\n",
    "followersALL = read_json(f\"{data_folder}/followersLucaThomas.json\")\n",
    "fiveFollowers = []\n",
    "# Estraggo per ogni utente 5 followers\n",
    "quantity = 1\n",
    "for user in followersALL:\n",
    "    fiveFollowers.extend(random_json_with_control(followersALL[user], quantity, fiveFollowers))\n",
    "\n",
    "quantity = 2\n",
    "followersOfFollowers = {}\n",
    "for idUser in fiveFollowers:\n",
    "    followersOfFollowers[idUser] = download_followers(idUser, quantity,api)\n",
    "\n",
    "serialize_json(data_folder,\"followersOfFollowers.json\", followersOfFollowers)"
   ]
  },
  {
   "cell_type": "code",
   "execution_count": 62,
   "metadata": {
    "id": "7qIqh9P00Hzx",
    "outputId": "3981d93b-12b7-4175-ffbc-09f3369e6756",
    "pycharm": {
     "name": "#%% punto 3\n"
    }
   },
   "outputs": [
    {
     "name": "stdout",
     "output_type": "stream",
     "text": [
      "Data read fron path: data/friendsLucaThomas.json\n",
      "Data serialized to path: data/friendsOfFriends.json\n"
     ]
    }
   ],
   "source": [
    "friendsALL = read_json(f\"{data_folder}/friendsLucaThomas.json\")\n",
    "fiveFriends = []\n",
    "# Estraggo per ogni utente 5 followers\n",
    "quantity = 1\n",
    "for user in friendsALL:\n",
    "    fiveFriends.extend(random_json_with_control(friendsALL[user], quantity, fiveFriends))\n",
    "\n",
    "quantity = 2\n",
    "friendsOfFriends = {}\n",
    "for idUser in fiveFriends:\n",
    "    friendsOfFriends[idUser] = download_following(idUser,quantity,api)\n",
    "serialize_json(data_folder,\"friendsOfFriends.json\", friendsOfFriends)"
   ]
  },
  {
   "cell_type": "code",
   "execution_count": 70,
   "metadata": {
    "id": "mSUmvjOw0Hz1",
    "outputId": "035d4a27-db73-4904-e38b-ee759e5a3283",
    "pycharm": {
     "name": "#%% eliminazione duplicati\n"
    }
   },
   "outputs": [
    {
     "name": "stdout",
     "output_type": "stream",
     "text": [
      "Data read fron path: data/friendsOfFriends.json\n",
      "Data read fron path: data/followersOfFollowers.json\n",
      "Data read fron path: data/followersLucaThomas.json\n",
      "Data read fron path: data/friendsLucaThomas.json\n",
      "Data serialized to path: data/noDuplicati.json\n"
     ]
    }
   ],
   "source": [
    "allFriends = {}\n",
    "allFriends.update(read_json(f\"{data_folder}/friendsOfFriends.json\"))\n",
    "allFriends.update(read_json(f\"{data_folder}/followersOfFollowers.json\"))\n",
    "allFriends.update(read_json(f\"{data_folder}/followersLucaThomas.json\"))\n",
    "allFriends.update(read_json(f\"{data_folder}/friendsLucaThomas.json\"))\n",
    "\n",
    "vector = []\n",
    "for (k,v) in allFriends.items():\n",
    "    for item in v:\n",
    "        if item not in vector:\n",
    "            vector.append(item)\n",
    "serialize_json(data_folder,\"noDuplicati.json\", vector)"
   ]
  },
  {
   "cell_type": "code",
   "execution_count": 75,
   "outputs": [
    {
     "name": "stdout",
     "output_type": "stream",
     "text": [
      "Data read fron path: data/noDuplicati.json\n"
     ]
    },
    {
     "data": {
      "text/plain": "                    id                name     screen_name  \\\n0  1252717049287237632       Ciccio Feltri   ciccio_feltri   \n1            426038638      Thomas Verardo         Tomve99   \n2            523623748  Agustin Campagnolo  crispy_mcbacon   \n3            307423967   giuseppe cruciani     giucruciani   \n4   810960428385890304       Luca Bazzetto    lucabazzetto   \n5             44196397           Elon Musk        elonmusk   \n\n                   location  followers_count  friends_count  \n0                                          7             15  \n1                                         18             57  \n2  Azzano decimo, Pordenone               24             43  \n3                                     442469           1479  \n4                                          4             30  \n5                                   40185549            101  ",
      "text/html": "<div>\n<style scoped>\n    .dataframe tbody tr th:only-of-type {\n        vertical-align: middle;\n    }\n\n    .dataframe tbody tr th {\n        vertical-align: top;\n    }\n\n    .dataframe thead th {\n        text-align: right;\n    }\n</style>\n<table border=\"1\" class=\"dataframe\">\n  <thead>\n    <tr style=\"text-align: right;\">\n      <th></th>\n      <th>id</th>\n      <th>name</th>\n      <th>screen_name</th>\n      <th>location</th>\n      <th>followers_count</th>\n      <th>friends_count</th>\n    </tr>\n  </thead>\n  <tbody>\n    <tr>\n      <th>0</th>\n      <td>1252717049287237632</td>\n      <td>Ciccio Feltri</td>\n      <td>ciccio_feltri</td>\n      <td></td>\n      <td>7</td>\n      <td>15</td>\n    </tr>\n    <tr>\n      <th>1</th>\n      <td>426038638</td>\n      <td>Thomas Verardo</td>\n      <td>Tomve99</td>\n      <td></td>\n      <td>18</td>\n      <td>57</td>\n    </tr>\n    <tr>\n      <th>2</th>\n      <td>523623748</td>\n      <td>Agustin Campagnolo</td>\n      <td>crispy_mcbacon</td>\n      <td>Azzano decimo, Pordenone</td>\n      <td>24</td>\n      <td>43</td>\n    </tr>\n    <tr>\n      <th>3</th>\n      <td>307423967</td>\n      <td>giuseppe cruciani</td>\n      <td>giucruciani</td>\n      <td></td>\n      <td>442469</td>\n      <td>1479</td>\n    </tr>\n    <tr>\n      <th>4</th>\n      <td>810960428385890304</td>\n      <td>Luca Bazzetto</td>\n      <td>lucabazzetto</td>\n      <td></td>\n      <td>4</td>\n      <td>30</td>\n    </tr>\n    <tr>\n      <th>5</th>\n      <td>44196397</td>\n      <td>Elon Musk</td>\n      <td>elonmusk</td>\n      <td></td>\n      <td>40185549</td>\n      <td>101</td>\n    </tr>\n  </tbody>\n</table>\n</div>"
     },
     "metadata": {},
     "output_type": "display_data"
    }
   ],
   "source": [
    "def downlodUserDetails(userId,api):\n",
    "    json_data = api.get_user(userId)._json\n",
    "    foundInfo = {}\n",
    "    foundInfo ['id'] = json_data['id']\n",
    "    foundInfo ['name'] = json_data['name']\n",
    "    foundInfo ['screen_name'] = json_data['screen_name']\n",
    "    foundInfo ['location'] = json_data['location']\n",
    "    foundInfo ['followers_count'] = json_data['followers_count']\n",
    "    foundInfo ['friends_count'] = json_data['friends_count']\n",
    "    return foundInfo\n",
    "\n",
    "vector = read_json(f\"{data_folder}/noDuplicati.json\")\n",
    "index = 0\n",
    "usersDetails = {}\n",
    "for userId in vector:\n",
    "    usersDetails[index] = downlodUserDetails(userId,api)\n",
    "    index = index + 1\n",
    "\n",
    "df = pd.DataFrame.from_dict(usersDetails,orient='index')\n",
    "display(df)\n",
    "df.to_csv(data_folder,\"usersDetails.csv\", index=False, encoding='utf-8')"
   ],
   "metadata": {
    "collapsed": false,
    "pycharm": {
     "name": "#%% scarico dettagli di tutti gli utenti\n"
    }
   }
  },
  {
   "cell_type": "code",
   "execution_count": 40,
   "metadata": {
    "collapsed": false,
    "jupyter": {
     "outputs_hidden": false
    },
    "pycharm": {
     "name": "#%% friendship\n"
    }
   },
   "outputs": [
    {
     "name": "stdout",
     "output_type": "stream",
     "text": [
      "Data read fron path: data/noDuplicati.json\n",
      "Data serialized to path: data/provaJJ.json\n"
     ]
    },
    {
     "name": "stderr",
     "output_type": "stream",
     "text": [
      "Rate limit reached. Sleeping for: 50\n"
     ]
    },
    {
     "data": {
      "text/plain": "   id               source              target      friendship\n0   0  1252717049287237632           426038638            both\n1   1  1252717049287237632           523623748            both\n2   2  1252717049287237632           307423967  sourceToTarget\n3   3  1252717049287237632  810960428385890304            both\n4   4            426038638           523623748            both\n5   5            426038638  810960428385890304            both\n6   6            426038638            44196397  sourceToTarget\n7   7            523623748  810960428385890304            both\n8   8   810960428385890304           307423967  sourceToTarget\n9   9   810960428385890304            44196397  sourceToTarget",
      "text/html": "<div>\n<style scoped>\n    .dataframe tbody tr th:only-of-type {\n        vertical-align: middle;\n    }\n\n    .dataframe tbody tr th {\n        vertical-align: top;\n    }\n\n    .dataframe thead th {\n        text-align: right;\n    }\n</style>\n<table border=\"1\" class=\"dataframe\">\n  <thead>\n    <tr style=\"text-align: right;\">\n      <th></th>\n      <th>id</th>\n      <th>source</th>\n      <th>target</th>\n      <th>friendship</th>\n    </tr>\n  </thead>\n  <tbody>\n    <tr>\n      <th>0</th>\n      <td>0</td>\n      <td>1252717049287237632</td>\n      <td>426038638</td>\n      <td>both</td>\n    </tr>\n    <tr>\n      <th>1</th>\n      <td>1</td>\n      <td>1252717049287237632</td>\n      <td>523623748</td>\n      <td>both</td>\n    </tr>\n    <tr>\n      <th>2</th>\n      <td>2</td>\n      <td>1252717049287237632</td>\n      <td>307423967</td>\n      <td>sourceToTarget</td>\n    </tr>\n    <tr>\n      <th>3</th>\n      <td>3</td>\n      <td>1252717049287237632</td>\n      <td>810960428385890304</td>\n      <td>both</td>\n    </tr>\n    <tr>\n      <th>4</th>\n      <td>4</td>\n      <td>426038638</td>\n      <td>523623748</td>\n      <td>both</td>\n    </tr>\n    <tr>\n      <th>5</th>\n      <td>5</td>\n      <td>426038638</td>\n      <td>810960428385890304</td>\n      <td>both</td>\n    </tr>\n    <tr>\n      <th>6</th>\n      <td>6</td>\n      <td>426038638</td>\n      <td>44196397</td>\n      <td>sourceToTarget</td>\n    </tr>\n    <tr>\n      <th>7</th>\n      <td>7</td>\n      <td>523623748</td>\n      <td>810960428385890304</td>\n      <td>both</td>\n    </tr>\n    <tr>\n      <th>8</th>\n      <td>8</td>\n      <td>810960428385890304</td>\n      <td>307423967</td>\n      <td>sourceToTarget</td>\n    </tr>\n    <tr>\n      <th>9</th>\n      <td>9</td>\n      <td>810960428385890304</td>\n      <td>44196397</td>\n      <td>sourceToTarget</td>\n    </tr>\n  </tbody>\n</table>\n</div>"
     },
     "metadata": {},
     "output_type": "display_data"
    }
   ],
   "source": [
    "#salvo in un dataframe le relazioni\n",
    "def friendship(sourceid,targetid, api):\n",
    "    friendship = api.show_friendship(source_id=sourceid, target_id=targetid)\n",
    "    if friendship[0].following & friendship[0].followed_by:\n",
    "        return \"both\"\n",
    "    else:\n",
    "        if friendship[0].following:\n",
    "            return \"sourceToTarget\"\n",
    "        if friendship[0].following:\n",
    "            return \"TargetToSource\"\n",
    "    return None\n",
    "\n",
    "list = read_json(f\"{data_folder}/noDuplicati.json\")\n",
    "\n",
    "index = 0\n",
    "sourceTarget ={}\n",
    "def searchInDict(source,target,dictionary):\n",
    "    for (k,v) in dictionary.items():\n",
    "        if(source == v['target'] and target == v['source']):\n",
    "            return True\n",
    "    return False\n",
    "\n",
    "for source in list:\n",
    "    for target in list:\n",
    "        if not searchInDict(source,target,sourceTarget):\n",
    "            relation = friendship(source,target,api)\n",
    "            if relation:\n",
    "                foundFriendship = {\n",
    "                    \"id\": index,\n",
    "                    \"source\": source,\n",
    "                    \"target\": target,\n",
    "                    \"friendship\": relation\n",
    "                }\n",
    "                sourceTarget[index] = foundFriendship\n",
    "                index = index + 1\n",
    "\n",
    "df = pd.DataFrame.from_dict(sourceTarget,orient='index')\n",
    "display(df)\n",
    "df.to_csv(data_folder,\"sourceTarget.csv\", encoding='utf-8')"
   ]
  },
  {
   "cell_type": "code",
   "execution_count": 47,
   "metadata": {
    "collapsed": false,
    "jupyter": {
     "outputs_hidden": false
    },
    "pycharm": {
     "name": "#%% creo il grafo orientato\n"
    }
   },
   "outputs": [],
   "source": [
    "dfUsersDetails = pd.read_csv(\"usersDetails.csv\")\n",
    "dfUsersFriendship = pd.read_csv(\"sourceTarget.csv\")\n",
    "\n",
    "graph = nx.DiGraph()\n",
    "\n",
    "#aggiunta membri gruppo come attributi\n",
    "graph.graph[\"members\"] = [\"Luca\",\"Thomas\",\"Agustin\",\"Edoardo\"]\n",
    "\n",
    "for index,row in dfUsersDetails.iterrows():\n",
    "    graph.add_node(row['id'], name = row['name'],screen_name=row['screen_name'],location = row['location'],followers_count = row['followers_count'],friends_count = row['friends_count'])\n",
    "\n",
    "#print(graph.nodes.data())\n",
    "\n",
    "for index, row in dfUsersFriendship.iterrows():\n",
    "    if row[\"friendship\"] == \"sourceToTarget\":\n",
    "        graph.add_edge(row[\"source\"], row[\"target\"])\n",
    "    elif row[\"friendship\"] == \"TargetToSource\" :\n",
    "        graph.add_edge(row[\"target\"], row[\"source\"])\n",
    "    else :\n",
    "        graph.add_edge(row[\"source\"], row[\"target\"])\n",
    "        graph.add_edge(row[\"target\"], row[\"source\"])\n",
    "\n",
    "nx.write_gpickle(graph,\"data/orientedGraph.pkl\")"
   ]
  },
  {
   "cell_type": "code",
   "execution_count": 105,
   "outputs": [],
   "source": [
    "dfUsersDetails = pd.read_csv(\"usersDetails.csv\")\n",
    "dfUsersFriendship = pd.read_csv(\"sourceTarget.csv\")\n",
    "\n",
    "graph = nx.Graph()\n",
    "#aggiunta membri gruppo come attributi\n",
    "graph.graph[\"members\"] = [\"Luca\",\"Thomas\",\"Agustin\",\"Edoardo\"]\n",
    "\n",
    "for index,row in dfUsersDetails.iterrows():\n",
    "    graph.add_node(row['id'], label = row['screen_name'],location = row['location'],followers_count = row['followers_count'],friends_count = row['friends_count'])\n",
    "\n",
    "for index, row in dfUsersFriendship.iterrows():\n",
    "    graph.add_edge(row[\"source\"], row[\"target\"],id = row['id'])\n",
    "\n",
    "nx.write_gpickle(graph,\"data/unOrientedGraph.pkl\")"
   ],
   "metadata": {
    "collapsed": false,
    "pycharm": {
     "name": "#%% creo grafo non orientato\n"
    }
   }
  },
  {
   "cell_type": "code",
   "execution_count": 106,
   "metadata": {
    "collapsed": false,
    "jupyter": {
     "outputs_hidden": false
    },
    "pycharm": {
     "name": "#%% grafo interattivo\n"
    }
   },
   "outputs": [
    {
     "name": "stdout",
     "output_type": "stream",
     "text": [
      "{'members': ['Luca', 'Thomas', 'Agustin', 'Edoardo']}\n"
     ]
    }
   ],
   "source": [
    "graph = nx.read_gpickle(\"data/unOrientedGraph.pkl\")\n",
    "\n",
    "nt = Network(\n",
    "    height=\"100%\",\n",
    "    width=\"100%\",\n",
    "    bgcolor=\"222222\",\n",
    "    font_color=\"white\",\n",
    "    heading=\"progetto\"\n",
    ")\n",
    "nt.barnes_hut()\n",
    "nt.from_nx(graph)\n",
    "neighbor_map = nt.get_adj_list()\n",
    "for node in nt.nodes:\n",
    "    node[\"value\"] = len(neighbor_map[node['id']])\n",
    "nt.show(\"grafico.html\")"
   ]
  },
  {
   "cell_type": "code",
   "execution_count": 48,
   "metadata": {
    "collapsed": false,
    "jupyter": {
     "outputs_hidden": false
    },
    "pycharm": {
     "name": "#%% lettura\n"
    }
   },
   "outputs": [
    {
     "name": "stdout",
     "output_type": "stream",
     "text": [
      "Grafo connesso\n",
      "Centro:  [810960428385890304]\n",
      "Diametro:  2\n",
      "Raggio:  1\n",
      "Grafo non bipartito\n",
      "Centralità del mezzo:  {1252717049287237632: 0.1, 426038638: 0.1, 523623748: 0.0, 307423967: 0.0, 810960428385890304: 0.30000000000000004, 44196397: 0.0}\n",
      " \n",
      "Centralità della vicinanza:  {1252717049287237632: 0.8333333333333334, 426038638: 0.8333333333333334, 523623748: 0.7142857142857143, 307423967: 0.625, 810960428385890304: 1.0, 44196397: 0.625}\n",
      " \n",
      "Centralità di grado:  {1252717049287237632: 0.8, 426038638: 0.8, 523623748: 0.6000000000000001, 307423967: 0.4, 810960428385890304: 1.0, 44196397: 0.4}\n",
      " \n",
      "In-degree centrality:  {1252717049287237632: 0.6000000000000001, 426038638: 0.6000000000000001, 523623748: 0.6000000000000001, 307423967: 0.4, 810960428385890304: 0.6000000000000001, 44196397: 0.4}\n",
      " \n",
      "Out-degree centrality:  {1252717049287237632: 0.8, 426038638: 0.8, 523623748: 0.6000000000000001, 307423967: 0.0, 810960428385890304: 1.0, 44196397: 0.0}\n",
      " \n",
      "Page Rank:  {1252717049287237632: 0.18362997802196654, 426038638: 0.18362997802196654, 523623748: 0.1734940405844774, 307423967: 0.13447289769598292, 810960428385890304: 0.19030020797962371, 44196397: 0.13447289769598292}\n",
      " \n",
      "HITS:  \n"
     ]
    }
   ],
   "source": [
    "#punto 7/8/9\n",
    "from networkx.algorithms.distance_measures import center\n",
    "\n",
    "noOriented = nx.read_gpickle(\"data/unOrientedGraph.pkl\")\n",
    "oriented = nx.read_gpickle(\"data/orientedGraph.pkl\")\n",
    "if(nx.is_connected(noOriented)):\n",
    "    print(\"Grafo connesso\"),\n",
    "    print(\"Centro: \", end=\" \")\n",
    "    print(nx.center(noOriented))\n",
    "    print(\"Diametro: \", end=\" \")\n",
    "    print(nx.diameter(noOriented))\n",
    "    print(\"Raggio: \", end=\" \")\n",
    "    print(nx.radius(noOriented))\n",
    "    \n",
    "    \n",
    "else:\n",
    "    print(\"Grafo non connesso\")\n",
    "    \n",
    "if(nx.is_bipartite(noOriented)):\n",
    "    print(\"Grafo bipartito\")\n",
    "else:\n",
    "    print(\"Grafo non bipartito\")\n",
    "    \n",
    "\n",
    "    \n",
    " #la centralità del mezzo è una misura della centralità in un grafico basato sui percorsi più brevi\n",
    "bet = nx.betweenness_centrality(noOriented)\n",
    "close = nx.closeness_centrality(noOriented)\n",
    "degree = nx.degree_centrality(noOriented)\n",
    "ind = nx.in_degree_centrality(oriented)\n",
    "outd = nx.out_degree_centrality(oriented)\n",
    "pr = nx.pagerank(oriented)\n",
    "hits = nx.hits(noOriented)\n",
    "\n",
    "print(\"Centralità del mezzo: \", end=\" \")\n",
    "print(bet)\n",
    "print(\" \")\n",
    "print(\"Centralità della vicinanza: \", end=\" \")\n",
    "print(close)\n",
    "print(\" \")\n",
    "print(\"Centralità di grado: \", end=\" \")\n",
    "print(degree)\n",
    "print(\" \")\n",
    "\n",
    "print(\"In-degree centrality: \", end=\" \")\n",
    "print(ind)\n",
    "print(\" \")\n",
    "print(\"Out-degree centrality: \", end=\" \")\n",
    "print(outd)\n",
    "print(\" \")\n",
    "#Da vedere se bisogna modificare alpha (non so cosa sia) e altri parametri\n",
    "print(\"Page Rank: \", end=\" \")\n",
    "print(pr)\n",
    "print(\" \")\n",
    "#Vengono ripetuti 2 volte i dati\n",
    "print(\"HITS: \", end=\" \")\n",
    "print()"
   ]
  },
  {
   "cell_type": "code",
   "execution_count": 51,
   "metadata": {
    "collapsed": false,
    "jupyter": {
     "outputs_hidden": false
    },
    "pycharm": {
     "name": "#%% dettagli profilo di tutti gli utenti\n"
    }
   },
   "outputs": [
    {
     "data": {
      "text/plain": "<Figure size 720x720 with 1 Axes>",
      "image/png": "[encoded data removed]"
     },
     "metadata": {},
     "output_type": "display_data"
    }
   ],
   "source": [
    "#Provo a disegnarlo (non scritto nella consegna)\n",
    "import matplotlib.pyplot as plt\n",
    "from pylab import rcParams\n",
    "rcParams['figure.figsize'] = 10,10\n",
    "\n",
    "nx.draw_networkx(\n",
    "    oriented,\n",
    "    pos = nx.spring_layout(oriented),\n",
    "    node_color = \"#FF0000\",\n",
    "    width = 2,\n",
    "    edge_cmap = plt.cm.Blues,\n",
    "    with_labels = True\n",
    ")\n",
    "plt.show()\n",
    "plt.close()\n"
   ]
  },
  {
   "cell_type": "code",
   "execution_count": 50,
   "metadata": {
    "collapsed": false,
    "jupyter": {
     "outputs_hidden": false
    },
    "pycharm": {
     "name": "#%%\n"
    }
   },
   "outputs": [
    {
     "ename": "NodeNotFound",
     "evalue": "Source Tomve99 is not in G",
     "output_type": "error",
     "traceback": [
      "\u001B[1;31m---------------------------------------------------------------------------\u001B[0m",
      "\u001B[1;31mNodeNotFound\u001B[0m                              Traceback (most recent call last)",
      "\u001B[1;32m<ipython-input-50-7382888e9750>\u001B[0m in \u001B[0;36m<module>\u001B[1;34m\u001B[0m\n\u001B[0;32m      2\u001B[0m \u001B[1;33m\u001B[0m\u001B[0m\n\u001B[0;32m      3\u001B[0m \u001B[0moriented\u001B[0m \u001B[1;33m=\u001B[0m \u001B[0mnx\u001B[0m\u001B[1;33m.\u001B[0m\u001B[0mread_gpickle\u001B[0m\u001B[1;33m(\u001B[0m\u001B[1;34m\"data/orientedGraph.pkl\"\u001B[0m\u001B[1;33m)\u001B[0m\u001B[1;33m\u001B[0m\u001B[1;33m\u001B[0m\u001B[0m\n\u001B[1;32m----> 4\u001B[1;33m \u001B[0mtomve99\u001B[0m \u001B[1;33m=\u001B[0m \u001B[0mnx\u001B[0m\u001B[1;33m.\u001B[0m\u001B[0mego_graph\u001B[0m\u001B[1;33m(\u001B[0m\u001B[0mnoOriented\u001B[0m\u001B[1;33m,\u001B[0m \u001B[1;34m\"Tomve99\"\u001B[0m\u001B[1;33m,\u001B[0m \u001B[0mradius\u001B[0m\u001B[1;33m=\u001B[0m\u001B[1;36m1\u001B[0m\u001B[1;33m)\u001B[0m\u001B[1;33m\u001B[0m\u001B[1;33m\u001B[0m\u001B[0m\n\u001B[0m\u001B[0;32m      5\u001B[0m \u001B[1;33m\u001B[0m\u001B[0m\n\u001B[0;32m      6\u001B[0m nx.draw_networkx(\n",
      "\u001B[1;32m~\\miniconda3\\lib\\site-packages\\networkx\\generators\\ego.py\u001B[0m in \u001B[0;36mego_graph\u001B[1;34m(G, n, radius, center, undirected, distance)\u001B[0m\n\u001B[0;32m     57\u001B[0m             \u001B[0msp\u001B[0m\u001B[1;33m,\u001B[0m \u001B[0m_\u001B[0m \u001B[1;33m=\u001B[0m \u001B[0mnx\u001B[0m\u001B[1;33m.\u001B[0m\u001B[0msingle_source_dijkstra\u001B[0m\u001B[1;33m(\u001B[0m\u001B[0mG\u001B[0m\u001B[1;33m,\u001B[0m \u001B[0mn\u001B[0m\u001B[1;33m,\u001B[0m \u001B[0mcutoff\u001B[0m\u001B[1;33m=\u001B[0m\u001B[0mradius\u001B[0m\u001B[1;33m,\u001B[0m \u001B[0mweight\u001B[0m\u001B[1;33m=\u001B[0m\u001B[0mdistance\u001B[0m\u001B[1;33m)\u001B[0m\u001B[1;33m\u001B[0m\u001B[1;33m\u001B[0m\u001B[0m\n\u001B[0;32m     58\u001B[0m         \u001B[1;32melse\u001B[0m\u001B[1;33m:\u001B[0m\u001B[1;33m\u001B[0m\u001B[1;33m\u001B[0m\u001B[0m\n\u001B[1;32m---> 59\u001B[1;33m             \u001B[0msp\u001B[0m \u001B[1;33m=\u001B[0m \u001B[0mdict\u001B[0m\u001B[1;33m(\u001B[0m\u001B[0mnx\u001B[0m\u001B[1;33m.\u001B[0m\u001B[0msingle_source_shortest_path_length\u001B[0m\u001B[1;33m(\u001B[0m\u001B[0mG\u001B[0m\u001B[1;33m,\u001B[0m \u001B[0mn\u001B[0m\u001B[1;33m,\u001B[0m \u001B[0mcutoff\u001B[0m\u001B[1;33m=\u001B[0m\u001B[0mradius\u001B[0m\u001B[1;33m)\u001B[0m\u001B[1;33m)\u001B[0m\u001B[1;33m\u001B[0m\u001B[1;33m\u001B[0m\u001B[0m\n\u001B[0m\u001B[0;32m     60\u001B[0m \u001B[1;33m\u001B[0m\u001B[0m\n\u001B[0;32m     61\u001B[0m     \u001B[0mH\u001B[0m \u001B[1;33m=\u001B[0m \u001B[0mG\u001B[0m\u001B[1;33m.\u001B[0m\u001B[0msubgraph\u001B[0m\u001B[1;33m(\u001B[0m\u001B[0msp\u001B[0m\u001B[1;33m)\u001B[0m\u001B[1;33m.\u001B[0m\u001B[0mcopy\u001B[0m\u001B[1;33m(\u001B[0m\u001B[1;33m)\u001B[0m\u001B[1;33m\u001B[0m\u001B[1;33m\u001B[0m\u001B[0m\n",
      "\u001B[1;32m~\\miniconda3\\lib\\site-packages\\networkx\\algorithms\\shortest_paths\\unweighted.py\u001B[0m in \u001B[0;36msingle_source_shortest_path_length\u001B[1;34m(G, source, cutoff)\u001B[0m\n\u001B[0;32m     53\u001B[0m     \"\"\"\n\u001B[0;32m     54\u001B[0m     \u001B[1;32mif\u001B[0m \u001B[0msource\u001B[0m \u001B[1;32mnot\u001B[0m \u001B[1;32min\u001B[0m \u001B[0mG\u001B[0m\u001B[1;33m:\u001B[0m\u001B[1;33m\u001B[0m\u001B[1;33m\u001B[0m\u001B[0m\n\u001B[1;32m---> 55\u001B[1;33m         \u001B[1;32mraise\u001B[0m \u001B[0mnx\u001B[0m\u001B[1;33m.\u001B[0m\u001B[0mNodeNotFound\u001B[0m\u001B[1;33m(\u001B[0m\u001B[1;34mf\"Source {source} is not in G\"\u001B[0m\u001B[1;33m)\u001B[0m\u001B[1;33m\u001B[0m\u001B[1;33m\u001B[0m\u001B[0m\n\u001B[0m\u001B[0;32m     56\u001B[0m     \u001B[1;32mif\u001B[0m \u001B[0mcutoff\u001B[0m \u001B[1;32mis\u001B[0m \u001B[1;32mNone\u001B[0m\u001B[1;33m:\u001B[0m\u001B[1;33m\u001B[0m\u001B[1;33m\u001B[0m\u001B[0m\n\u001B[0;32m     57\u001B[0m         \u001B[0mcutoff\u001B[0m \u001B[1;33m=\u001B[0m \u001B[0mfloat\u001B[0m\u001B[1;33m(\u001B[0m\u001B[1;34m\"inf\"\u001B[0m\u001B[1;33m)\u001B[0m\u001B[1;33m\u001B[0m\u001B[1;33m\u001B[0m\u001B[0m\n",
      "\u001B[1;31mNodeNotFound\u001B[0m: Source Tomve99 is not in G"
     ]
    }
   ],
   "source": [
    "#punto 10 (non richiesto il disegno)\n",
    "\n",
    "oriented = nx.read_gpickle(\"data/orientedGraph.pkl\")\n",
    "tomve99 = nx.ego_graph(noOriented, \"Tomve99\", radius=1)\n",
    "\n",
    "nx.draw_networkx(\n",
    "    tomve99,\n",
    "    pos = nx.spring_layout(tomve99),\n",
    "    node_color = \"#FF0000\",\n",
    "    edge_color = \"#A9A9A9\",\n",
    "    width = 2,\n",
    "    edge_cmap = plt.cm.Blues,\n",
    "    with_labels = True\n",
    ")\n",
    "plt.savefig(\"data/tomve99.pdf\")\n",
    "plt.show()\n",
    "plt.close()"
   ]
  },
  {
   "cell_type": "code",
   "execution_count": 18,
   "metadata": {
    "collapsed": false,
    "jupyter": {
     "outputs_hidden": false
    },
    "pycharm": {
     "name": "#%%\n"
    }
   },
   "outputs": [
    {
     "name": "stdout",
     "output_type": "stream",
     "text": [
      "Cricca massima:  {'ciccio_feltri', 'lucabazzetto', 'Tomve99', 'crispy_mcbacon'}\n",
      " \n",
      "Dimensione della cricca massima:  4\n",
      " \n"
     ]
    }
   ],
   "source": [
    "#punto 10b-c\n",
    "from networkx.algorithms.approximation import clique\n",
    "\n",
    "print(\"Cricca massima: \", end=\" \")\n",
    "print(clique.max_clique(tomve99))\n",
    "print(\" \")\n",
    "\n",
    "print(\"Dimensione della cricca massima: \", end=\" \")\n",
    "print(clique.large_clique_size(tomve99))\n",
    "print(\" \")"
   ]
  },
  {
   "cell_type": "code",
   "execution_count": null,
   "metadata": {
    "collapsed": false,
    "jupyter": {
     "outputs_hidden": false
    },
    "pycharm": {
     "name": "#%%\n"
    }
   },
   "outputs": [],
   "source": [
    "#Punto 11\n",
    "#Per ora non funziona perché il grafo ha alcuni nodi senza archi\n",
    "print(\"Copertura minima degli archi: \", end=\" \")\n",
    "print(nx.min_edge_cover(noOriented))\n",
    "print(\" \")\n"
   ]
  },
  {
   "cell_type": "code",
   "execution_count": 26,
   "metadata": {
    "id": "4Wd9GgR10Hz6",
    "outputId": "59c128d4-eb39-40c2-a5c1-9692e768ae2c",
    "pycharm": {
     "name": "#%% punto5\n"
    }
   },
   "outputs": [
    {
     "name": "stdout",
     "output_type": "stream",
     "text": [
      "Coefficiente omega:  -2.220446049250313e-16\n",
      " \n",
      "Coefficiente sigma:  0.9999999999999998\n",
      " \n"
     ]
    }
   ],
   "source": [
    "#Punto 12\n",
    "#Per ora non funziona perché il grafo ha alcuni nodi senza archi\n",
    "print(\"Coefficiente omega: \", end=\" \")\n",
    "print(nx.omega(tomve99))\n",
    "print(\" \")\n",
    "print(\"Coefficiente sigma: \", end=\" \")\n",
    "print(nx.sigma(tomve99))\n",
    "print(\" \")\n",
    "#Come si fa a stimare la small-world-ness? basta calcolare omega e sigma?"
   ]
  },
  {
   "cell_type": "code",
   "execution_count": 35,
   "metadata": {
    "pycharm": {
     "name": "#%%\n"
    }
   },
   "outputs": [
    {
     "ename": "IndexError",
     "evalue": "too many indices for array: array is 0-dimensional, but 1 were indexed",
     "output_type": "error",
     "traceback": [
      "\u001B[1;31m---------------------------------------------------------------------------\u001B[0m",
      "\u001B[1;31mIndexError\u001B[0m                                Traceback (most recent call last)",
      "\u001B[1;32m<ipython-input-35-e5945aaa92e9>\u001B[0m in \u001B[0;36m<module>\u001B[1;34m\u001B[0m\n\u001B[0;32m      1\u001B[0m \u001B[1;32mfrom\u001B[0m \u001B[0mscipy\u001B[0m \u001B[1;32mimport\u001B[0m \u001B[0mstats\u001B[0m\u001B[1;33m\u001B[0m\u001B[1;33m\u001B[0m\u001B[0m\n\u001B[1;32m----> 2\u001B[1;33m \u001B[0mstats\u001B[0m\u001B[1;33m.\u001B[0m\u001B[0mstats\u001B[0m\u001B[1;33m.\u001B[0m\u001B[0mpearsonr\u001B[0m\u001B[1;33m(\u001B[0m\u001B[0mbet\u001B[0m\u001B[1;33m,\u001B[0m \u001B[0mclose\u001B[0m\u001B[1;33m)\u001B[0m\u001B[1;33m\u001B[0m\u001B[1;33m\u001B[0m\u001B[0m\n\u001B[0m",
      "\u001B[1;32m~\\miniconda3\\lib\\site-packages\\scipy\\stats\\stats.py\u001B[0m in \u001B[0;36mpearsonr\u001B[1;34m(x, y)\u001B[0m\n\u001B[0;32m   3842\u001B[0m \u001B[1;33m\u001B[0m\u001B[0m\n\u001B[0;32m   3843\u001B[0m     \u001B[1;31m# If an input is constant, the correlation coefficient is not defined.\u001B[0m\u001B[1;33m\u001B[0m\u001B[1;33m\u001B[0m\u001B[1;33m\u001B[0m\u001B[0m\n\u001B[1;32m-> 3844\u001B[1;33m     \u001B[1;32mif\u001B[0m \u001B[1;33m(\u001B[0m\u001B[0mx\u001B[0m \u001B[1;33m==\u001B[0m \u001B[0mx\u001B[0m\u001B[1;33m[\u001B[0m\u001B[1;36m0\u001B[0m\u001B[1;33m]\u001B[0m\u001B[1;33m)\u001B[0m\u001B[1;33m.\u001B[0m\u001B[0mall\u001B[0m\u001B[1;33m(\u001B[0m\u001B[1;33m)\u001B[0m \u001B[1;32mor\u001B[0m \u001B[1;33m(\u001B[0m\u001B[0my\u001B[0m \u001B[1;33m==\u001B[0m \u001B[0my\u001B[0m\u001B[1;33m[\u001B[0m\u001B[1;36m0\u001B[0m\u001B[1;33m]\u001B[0m\u001B[1;33m)\u001B[0m\u001B[1;33m.\u001B[0m\u001B[0mall\u001B[0m\u001B[1;33m(\u001B[0m\u001B[1;33m)\u001B[0m\u001B[1;33m:\u001B[0m\u001B[1;33m\u001B[0m\u001B[1;33m\u001B[0m\u001B[0m\n\u001B[0m\u001B[0;32m   3845\u001B[0m         \u001B[0mwarnings\u001B[0m\u001B[1;33m.\u001B[0m\u001B[0mwarn\u001B[0m\u001B[1;33m(\u001B[0m\u001B[0mPearsonRConstantInputWarning\u001B[0m\u001B[1;33m(\u001B[0m\u001B[1;33m)\u001B[0m\u001B[1;33m)\u001B[0m\u001B[1;33m\u001B[0m\u001B[1;33m\u001B[0m\u001B[0m\n\u001B[0;32m   3846\u001B[0m         \u001B[1;32mreturn\u001B[0m \u001B[0mnp\u001B[0m\u001B[1;33m.\u001B[0m\u001B[0mnan\u001B[0m\u001B[1;33m,\u001B[0m \u001B[0mnp\u001B[0m\u001B[1;33m.\u001B[0m\u001B[0mnan\u001B[0m\u001B[1;33m\u001B[0m\u001B[1;33m\u001B[0m\u001B[0m\n",
      "\u001B[1;31mIndexError\u001B[0m: too many indices for array: array is 0-dimensional, but 1 were indexed"
     ]
    }
   ],
   "source": [
    "from scipy import stats\n",
    "bet = nx.betweenness_centrality(noOriented)\n",
    "close = nx.closeness_centrality(noOriented)\n",
    "degree = nx.degree_centrality(noOriented)\n",
    "ind = nx.in_degree_centrality(oriented)\n",
    "outd = nx.out_degree_centrality(oriented)\n",
    "pr, hits \n",
    "\n",
    "#Trasmormare tutti vettori in vettori di solo numeri?\n",
    "#Calcolare l'indice facendo due for o uno solo?\n",
    "#fare for e calcolare per ogni vettore l'indice pearson e kendall\n",
    "pearson = np.array([bet, close, degree, ind, outd])\n",
    "stats.stats.pearsonr(bet, close)"
   ]
  },
  {
   "cell_type": "code",
   "execution_count": null,
   "metadata": {},
   "outputs": [],
   "source": []
  },
  {
   "cell_type": "code",
   "execution_count": 38,
   "metadata": {
    "pycharm": {
     "name": "#%%\n"
    }
   },
   "outputs": [
    {
     "name": "stdout",
     "output_type": "stream",
     "text": [
      "[0 1 2 3 4 5 6]\n"
     ]
    }
   ],
   "source": [
    "\n",
    "\n",
    "\n",
    "from scipy import stats\n",
    "a = np.array([0, 0, 0, 1, 1, 1, 1])\n",
    "b = np.arange(7)\n",
    "stats.pearsonr(a, b)"
   ]
  },
  {
   "cell_type": "code",
   "execution_count": null,
   "metadata": {
    "pycharm": {
     "name": "#%%\n"
    }
   },
   "outputs": [],
   "source": []
  },
  {
   "cell_type": "code",
   "execution_count": null,
   "metadata": {
    "pycharm": {
     "name": "#%%\n"
    }
   },
   "outputs": [],
   "source": []
  },
  {
   "cell_type": "code",
   "execution_count": null,
   "metadata": {
    "pycharm": {
     "name": "#%%\n"
    }
   },
   "outputs": [],
   "source": []
  }
 ],
 "metadata": {
  "colab": {
   "name": "Progetto.ipynb",
   "provenance": []
  },
  "kernelspec": {
   "display_name": "Python 3",
   "language": "python",
   "name": "python3"
  },
  "language_info": {
   "codemirror_mode": {
    "name": "ipython",
    "version": 3
   },
   "file_extension": ".py",
   "mimetype": "text/x-python",
   "name": "python",
   "nbconvert_exporter": "python",
   "pygments_lexer": "ipython3",
   "version": "3.8.3"
  }
 },
 "nbformat": 4,
 "nbformat_minor": 4
}